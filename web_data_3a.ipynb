{
 "cells": [
  {
   "cell_type": "code",
   "execution_count": 1,
   "metadata": {},
   "outputs": [],
   "source": [
    "from selenium import webdriver\n",
    "from selenium.webdriver.common.by import By\n",
    "from selenium.webdriver.support.ui import WebDriverWait\n",
    "from selenium.webdriver.support import expected_conditions as EC\n",
    "import csv\n",
    "import time"
   ]
  },
  {
   "cell_type": "code",
   "execution_count": 2,
   "metadata": {},
   "outputs": [],
   "source": [
    "import pandas as pd\n",
    "from bs4 import BeautifulSoup"
   ]
  },
  {
   "cell_type": "code",
   "execution_count": 3,
   "metadata": {},
   "outputs": [],
   "source": [
    "url = \"https://prod.ps.stonybrook.edu/psc/csprodg/EMPLOYEE/CAMP/c/COMMUNITY_ACCESS.SSS_BROWSE_CATLG.GBL?\""
   ]
  },
  {
   "cell_type": "code",
   "execution_count": 4,
   "metadata": {},
   "outputs": [],
   "source": [
    "# Setup Selenium WebDriver\n",
    "driver = webdriver.Chrome()\n",
    "driver.get(url)"
   ]
  },
  {
   "cell_type": "code",
   "execution_count": 5,
   "metadata": {},
   "outputs": [],
   "source": [
    "# NOTE: If Major ID starts with 'A', skip this step.\n",
    "#\n",
    "# Wait for the page to load and click on 'C' in the red box\n",
    "# WebDriverWait(driver, 10).until(\n",
    "#     EC.element_to_be_clickable((By.LINK_TEXT, 'C'))\n",
    "#     # EC.element_to_be_clickable((By.LINK_TEXT, \"A\"))\n",
    "# ).click()"
   ]
  },
  {
   "cell_type": "code",
   "execution_count": 6,
   "metadata": {},
   "outputs": [],
   "source": [
    "# Click on 'CSE - Computer Science' in the red box\n",
    "WebDriverWait(driver, 10).until(\n",
    "    # EC.element_to_be_clickable((By.PARTIAL_LINK_TEXT, 'CSE'))\n",
    "    EC.element_to_be_clickable((By.PARTIAL_LINK_TEXT, \"AAS\"))\n",
    ").click()"
   ]
  },
  {
   "cell_type": "code",
   "execution_count": 7,
   "metadata": {},
   "outputs": [],
   "source": [
    "# Wait for the table to load and then scrape the data\n",
    "time.sleep(\n",
    "    5\n",
    ")  # Time to wait for javascript to load the table.\n",
    "table = driver.find_elements(By.TAG_NAME, \"tbody\")\n",
    "\n",
    "for tab in reversed(table):\n",
    "# for tab in table:\n",
    "    # print(table.index(tab))\n",
    "    try:\n",
    "        tab.find_element(By.PARTIAL_LINK_TEXT, 'Course Nbr')\n",
    "    except:\n",
    "        # except (AttributeError, NoSuchElementException):\n",
    "        table.remove(tab)\n",
    "\n",
    "table = table[-1]"
   ]
  },
  {
   "cell_type": "code",
   "execution_count": 8,
   "metadata": {},
   "outputs": [
    {
     "data": {
      "text/plain": [
       "True"
      ]
     },
     "execution_count": 8,
     "metadata": {},
     "output_type": "execute_result"
    }
   ],
   "source": [
    "table.is_displayed()"
   ]
  },
  {
   "cell_type": "code",
   "execution_count": 9,
   "metadata": {},
   "outputs": [
    {
     "data": {
      "text/plain": [
       "\"Course Nbr Course Title\\n102\\nEastern Religions\\n110\\nAppreciating Indian Music\\n201\\nIntroduction to the Civilization of the Indian Subcontinent\\n209\\nIndian Classical Dance: Bharatanatyam\\n211\\nAsian and Asian American Studies Topics in the Social Sciences\\n212\\nAsian and Asian American Studies Topics in the Humanities\\n215\\nClassical Performing Arts of India\\n216\\nIntroduction to Japanese Studies\\n217\\nIntroduction to Korean Culture\\n218\\nAncient, Medieval, & Early Modern South Asia\\n219\\nJapan in the Age of Courtier and Samurai\\n220\\nChina: Language and Culture\\n222\\nIndian Cinemas and Cultures\\n223\\nChina: Society and Civilization\\n(228)\\nChina: History and Geography\\n\\n** available as of 08/20/2024\\n232\\nIntroduction to Asian American Fiction and Film\\n236\\nKorean Religions\\n237\\nIntroduction to Japanese Literature\\n240\\nConfucianism and Daoism\\n247\\nModern Korea through Visual Culture\\n250\\nLanguages and Cultures of Asian Americans\\n256\\nHinduism\\n260\\nBuddhism\\n280\\nIslam\\n287\\nIslam in China\\n300\\nIntellectual History of East Asia\\n305\\nThe Pacific, Travel & Empire\\n307\\nWomen in U.S.-Asian Relations\\n310\\nAmerica's Wars in Asia\\n320\\nLiterature of India\\n321\\nKorean Literature\\n322\\nLiterature of Japan\\n323\\nLanguage and Society in South Korea\\n324\\nLanguage and Society in North Korea\\n326\\nIndian Mythology\\n327\\nGreat Epics of India: Ramayana and Mahabharata\\n328\\nRace, Humor and Asian America\\n330\\nLanguage and Society in South Asia\\n331\\nJapanese Literature in the Feminine Domain\\n332\\nJapanese Literature in the Meiji Era\\n334\\nEnglish in Asia\\n336\\nAsian and Pacific Islanders in American History\\n337\\nHistory of Korea\\n338\\nContemporary India: History, Politics, and Diplomacy\\n339\\nContemporary China: History, Politics, and Diplomacy\\n340\\nTopics in Asian History\\n343\\nModern Japan\\n344\\nLearning of Asian Languages\\n351\\nRevolutionary China: Politics, Culture, and Power\\n352\\nEnvironmental History of China\\n353\\nPostwar Japan\\n(358)\\nChina's Lang, Media, Pop Culture in Global Context\\n\\n** available as of 01/01/2025\\n360\\nChinese Sociolinguistics\\n366\\nFeminine Spirituality\\n367\\nMeditation and Enlightenment\\n368\\nYoga: Theory and Praxis\\n370\\nIntercultural Communication\\n371\\nAncient China\\n372\\nFamily, Marriage, and Kinship in China\\n379\\nCultural Diversity in China\\n380\\nIslamic Classics\\n382\\nJapanese Buddhism\\n385\\nTranslation Studies of Asian Languages\\n387\\nIslam and Confucianism\\n391\\nHumanities Topics in Asian and Asian American Studies\\n392\\nSocial Science Topics in Asian and Asian American Studies\\n394\\nTopics in Asian Art\\n396\\nTopics in Sinophone Literature and Culture\\n400\\nSeminar in Korean Studies\\n401\\nSeminar in Asian and Asian American Studies\\n440\\nInter-Asia Cultural Studies\\n444\\nExperiential Learning\\n447\\nDirected Readings in Asian and Asian American Studies\\n458\\nSpeak Effectively Before an Audience\\n459\\nWrite Effectively in Asian and Asian American Studies\\n472\\nTopics in Asian Philosophy (I)\\n473\\nOrientalism\\n475\\nUndergraduate Teaching Practicum I\\n476\\nUndergraduate Teaching Practicum II\\n487\\nSupervised Research in Asian and Asian American Studies\\n488\\nInternship\\n495\\nSenior Honors Project in AAS\\n500\\nIntellectual History of East Asia\\n501\\nProseminar: Topics & Methods in Contemporary Asian and Asian American Studies\\n505\\nThe Pacific, Travel and Empire\\n534\\nEnglish in Asia\\n540\\nInter-Asia Cultural Studies\\n545\\nLearning of Asian Languages\\n547\\nDirected Reading in Contemporary Asian and Asian American Studies\\n555\\nHeritage Languages of Asian Americans\\n560\\nEmpire, Memory and Narratives of Asian America\\n565\\nFood, Labor and Asian America\\n571\\nIslamic Thought in Asia\\n572\\nTopics in Asian Philosophy I\\n573\\nOrientalism\\n575\\nMultilingualism & Communication in Asia\\n585\\nTranslation Studies of Asian Languages\\n587\\nSupervised Research in Contemporary Asian and Asian American Studies\""
      ]
     },
     "execution_count": 9,
     "metadata": {},
     "output_type": "execute_result"
    }
   ],
   "source": [
    "table.text\n"
   ]
  },
  {
   "cell_type": "code",
   "execution_count": null,
   "metadata": {},
   "outputs": [],
   "source": []
  },
  {
   "cell_type": "code",
   "execution_count": 10,
   "metadata": {},
   "outputs": [
    {
     "data": {
      "text/plain": [
       "['Course Nbr', 'Course Title']"
      ]
     },
     "execution_count": 10,
     "metadata": {},
     "output_type": "execute_result"
    }
   ],
   "source": [
    "# Extract headers\n",
    "headers = [header.text for header in table.find_elements(By.TAG_NAME, \"th\")]\n",
    "headers"
   ]
  },
  {
   "cell_type": "code",
   "execution_count": 11,
   "metadata": {},
   "outputs": [
    {
     "data": {
      "text/plain": [
       "[['102', 'Eastern Religions'],\n",
       " ['110', 'Appreciating Indian Music'],\n",
       " ['201', 'Introduction to the Civilization of the Indian Subcontinent'],\n",
       " ['209', 'Indian Classical Dance: Bharatanatyam'],\n",
       " ['211', 'Asian and Asian American Studies Topics in the Social Sciences'],\n",
       " ['212', 'Asian and Asian American Studies Topics in the Humanities'],\n",
       " ['215', 'Classical Performing Arts of India'],\n",
       " ['216', 'Introduction to Japanese Studies'],\n",
       " ['217', 'Introduction to Korean Culture'],\n",
       " ['218', 'Ancient, Medieval, & Early Modern South Asia'],\n",
       " ['219', 'Japan in the Age of Courtier and Samurai'],\n",
       " ['220', 'China: Language and Culture'],\n",
       " ['222', 'Indian Cinemas and Cultures'],\n",
       " ['223', 'China: Society and Civilization'],\n",
       " ['(228)', 'China: History and Geography\\n\\n** available as of 08/20/2024'],\n",
       " ['232', 'Introduction to Asian American Fiction and Film'],\n",
       " ['236', 'Korean Religions'],\n",
       " ['237', 'Introduction to Japanese Literature'],\n",
       " ['240', 'Confucianism and Daoism'],\n",
       " ['247', 'Modern Korea through Visual Culture'],\n",
       " ['250', 'Languages and Cultures of Asian Americans'],\n",
       " ['256', 'Hinduism'],\n",
       " ['260', 'Buddhism'],\n",
       " ['280', 'Islam'],\n",
       " ['287', 'Islam in China'],\n",
       " ['300', 'Intellectual History of East Asia'],\n",
       " ['305', 'The Pacific, Travel & Empire'],\n",
       " ['307', 'Women in U.S.-Asian Relations'],\n",
       " ['310', \"America's Wars in Asia\"],\n",
       " ['320', 'Literature of India'],\n",
       " ['321', 'Korean Literature'],\n",
       " ['322', 'Literature of Japan'],\n",
       " ['323', 'Language and Society in South Korea'],\n",
       " ['324', 'Language and Society in North Korea'],\n",
       " ['326', 'Indian Mythology'],\n",
       " ['327', 'Great Epics of India: Ramayana and Mahabharata'],\n",
       " ['328', 'Race, Humor and Asian America'],\n",
       " ['330', 'Language and Society in South Asia'],\n",
       " ['331', 'Japanese Literature in the Feminine Domain'],\n",
       " ['332', 'Japanese Literature in the Meiji Era'],\n",
       " ['334', 'English in Asia'],\n",
       " ['336', 'Asian and Pacific Islanders in American History'],\n",
       " ['337', 'History of Korea'],\n",
       " ['338', 'Contemporary India: History, Politics, and Diplomacy'],\n",
       " ['339', 'Contemporary China: History, Politics, and Diplomacy'],\n",
       " ['340', 'Topics in Asian History'],\n",
       " ['343', 'Modern Japan'],\n",
       " ['344', 'Learning of Asian Languages'],\n",
       " ['351', 'Revolutionary China: Politics, Culture, and Power'],\n",
       " ['352', 'Environmental History of China'],\n",
       " ['353', 'Postwar Japan'],\n",
       " ['(358)',\n",
       "  \"China's Lang, Media, Pop Culture in Global Context\\n\\n** available as of 01/01/2025\"],\n",
       " ['360', 'Chinese Sociolinguistics'],\n",
       " ['366', 'Feminine Spirituality'],\n",
       " ['367', 'Meditation and Enlightenment'],\n",
       " ['368', 'Yoga: Theory and Praxis'],\n",
       " ['370', 'Intercultural Communication'],\n",
       " ['371', 'Ancient China'],\n",
       " ['372', 'Family, Marriage, and Kinship in China'],\n",
       " ['379', 'Cultural Diversity in China'],\n",
       " ['380', 'Islamic Classics'],\n",
       " ['382', 'Japanese Buddhism'],\n",
       " ['385', 'Translation Studies of Asian Languages'],\n",
       " ['387', 'Islam and Confucianism'],\n",
       " ['391', 'Humanities Topics in Asian and Asian American Studies'],\n",
       " ['392', 'Social Science Topics in Asian and Asian American Studies'],\n",
       " ['394', 'Topics in Asian Art'],\n",
       " ['396', 'Topics in Sinophone Literature and Culture'],\n",
       " ['400', 'Seminar in Korean Studies'],\n",
       " ['401', 'Seminar in Asian and Asian American Studies'],\n",
       " ['440', 'Inter-Asia Cultural Studies'],\n",
       " ['444', 'Experiential Learning'],\n",
       " ['447', 'Directed Readings in Asian and Asian American Studies'],\n",
       " ['458', 'Speak Effectively Before an Audience'],\n",
       " ['459', 'Write Effectively in Asian and Asian American Studies'],\n",
       " ['472', 'Topics in Asian Philosophy (I)'],\n",
       " ['473', 'Orientalism'],\n",
       " ['475', 'Undergraduate Teaching Practicum I'],\n",
       " ['476', 'Undergraduate Teaching Practicum II'],\n",
       " ['487', 'Supervised Research in Asian and Asian American Studies'],\n",
       " ['488', 'Internship'],\n",
       " ['495', 'Senior Honors Project in AAS'],\n",
       " ['500', 'Intellectual History of East Asia'],\n",
       " ['501',\n",
       "  'Proseminar: Topics & Methods in Contemporary Asian and Asian American Studies'],\n",
       " ['505', 'The Pacific, Travel and Empire'],\n",
       " ['534', 'English in Asia'],\n",
       " ['540', 'Inter-Asia Cultural Studies'],\n",
       " ['545', 'Learning of Asian Languages'],\n",
       " ['547', 'Directed Reading in Contemporary Asian and Asian American Studies'],\n",
       " ['555', 'Heritage Languages of Asian Americans'],\n",
       " ['560', 'Empire, Memory and Narratives of Asian America'],\n",
       " ['565', 'Food, Labor and Asian America'],\n",
       " ['571', 'Islamic Thought in Asia'],\n",
       " ['572', 'Topics in Asian Philosophy I'],\n",
       " ['573', 'Orientalism'],\n",
       " ['575', 'Multilingualism & Communication in Asia'],\n",
       " ['585', 'Translation Studies of Asian Languages'],\n",
       " ['587',\n",
       "  'Supervised Research in Contemporary Asian and Asian American Studies']]"
      ]
     },
     "execution_count": 11,
     "metadata": {},
     "output_type": "execute_result"
    }
   ],
   "source": [
    "# Extract rows\n",
    "rows = []\n",
    "for row in table.find_elements(By.TAG_NAME, \"tr\"):\n",
    "    cells = [cell.text for cell in row.find_elements(By.TAG_NAME, \"td\")]\n",
    "    if cells:  # This check is to skip rows without table data cells\n",
    "        rows.append(cells)\n",
    "rows"
   ]
  },
  {
   "cell_type": "code",
   "execution_count": 12,
   "metadata": {},
   "outputs": [
    {
     "data": {
      "text/html": [
       "<div>\n",
       "<style scoped>\n",
       "    .dataframe tbody tr th:only-of-type {\n",
       "        vertical-align: middle;\n",
       "    }\n",
       "\n",
       "    .dataframe tbody tr th {\n",
       "        vertical-align: top;\n",
       "    }\n",
       "\n",
       "    .dataframe thead th {\n",
       "        text-align: right;\n",
       "    }\n",
       "</style>\n",
       "<table border=\"1\" class=\"dataframe\">\n",
       "  <thead>\n",
       "    <tr style=\"text-align: right;\">\n",
       "      <th></th>\n",
       "      <th>Course Nbr</th>\n",
       "      <th>Course Title</th>\n",
       "    </tr>\n",
       "  </thead>\n",
       "  <tbody>\n",
       "    <tr>\n",
       "      <th>0</th>\n",
       "      <td>102</td>\n",
       "      <td>Eastern Religions</td>\n",
       "    </tr>\n",
       "    <tr>\n",
       "      <th>1</th>\n",
       "      <td>110</td>\n",
       "      <td>Appreciating Indian Music</td>\n",
       "    </tr>\n",
       "    <tr>\n",
       "      <th>2</th>\n",
       "      <td>201</td>\n",
       "      <td>Introduction to the Civilization of the Indian...</td>\n",
       "    </tr>\n",
       "    <tr>\n",
       "      <th>3</th>\n",
       "      <td>209</td>\n",
       "      <td>Indian Classical Dance: Bharatanatyam</td>\n",
       "    </tr>\n",
       "    <tr>\n",
       "      <th>4</th>\n",
       "      <td>211</td>\n",
       "      <td>Asian and Asian American Studies Topics in the...</td>\n",
       "    </tr>\n",
       "    <tr>\n",
       "      <th>...</th>\n",
       "      <td>...</td>\n",
       "      <td>...</td>\n",
       "    </tr>\n",
       "    <tr>\n",
       "      <th>93</th>\n",
       "      <td>572</td>\n",
       "      <td>Topics in Asian Philosophy I</td>\n",
       "    </tr>\n",
       "    <tr>\n",
       "      <th>94</th>\n",
       "      <td>573</td>\n",
       "      <td>Orientalism</td>\n",
       "    </tr>\n",
       "    <tr>\n",
       "      <th>95</th>\n",
       "      <td>575</td>\n",
       "      <td>Multilingualism &amp; Communication in Asia</td>\n",
       "    </tr>\n",
       "    <tr>\n",
       "      <th>96</th>\n",
       "      <td>585</td>\n",
       "      <td>Translation Studies of Asian Languages</td>\n",
       "    </tr>\n",
       "    <tr>\n",
       "      <th>97</th>\n",
       "      <td>587</td>\n",
       "      <td>Supervised Research in Contemporary Asian and ...</td>\n",
       "    </tr>\n",
       "  </tbody>\n",
       "</table>\n",
       "<p>98 rows × 2 columns</p>\n",
       "</div>"
      ],
      "text/plain": [
       "   Course Nbr                                       Course Title\n",
       "0         102                                  Eastern Religions\n",
       "1         110                          Appreciating Indian Music\n",
       "2         201  Introduction to the Civilization of the Indian...\n",
       "3         209              Indian Classical Dance: Bharatanatyam\n",
       "4         211  Asian and Asian American Studies Topics in the...\n",
       "..        ...                                                ...\n",
       "93        572                       Topics in Asian Philosophy I\n",
       "94        573                                        Orientalism\n",
       "95        575            Multilingualism & Communication in Asia\n",
       "96        585             Translation Studies of Asian Languages\n",
       "97        587  Supervised Research in Contemporary Asian and ...\n",
       "\n",
       "[98 rows x 2 columns]"
      ]
     },
     "execution_count": 12,
     "metadata": {},
     "output_type": "execute_result"
    }
   ],
   "source": [
    "df = pd.DataFrame(rows, columns=headers)\n",
    "df"
   ]
  },
  {
   "cell_type": "code",
   "execution_count": 13,
   "metadata": {},
   "outputs": [],
   "source": [
    "driver.quit()"
   ]
  },
  {
   "cell_type": "code",
   "execution_count": 14,
   "metadata": {},
   "outputs": [
    {
     "data": {
      "text/plain": [
       "0     102\n",
       "1     110\n",
       "2     201\n",
       "3     209\n",
       "4     211\n",
       "     ... \n",
       "93    572\n",
       "94    573\n",
       "95    575\n",
       "96    585\n",
       "97    587\n",
       "Name: Course Nbr, Length: 98, dtype: object"
      ]
     },
     "execution_count": 14,
     "metadata": {},
     "output_type": "execute_result"
    }
   ],
   "source": [
    "df['Course Nbr']"
   ]
  },
  {
   "cell_type": "code",
   "execution_count": 15,
   "metadata": {},
   "outputs": [
    {
     "data": {
      "text/plain": [
       "selenium.webdriver.remote.webelement.WebElement"
      ]
     },
     "execution_count": 15,
     "metadata": {},
     "output_type": "execute_result"
    }
   ],
   "source": [
    "type(table)"
   ]
  },
  {
   "cell_type": "code",
   "execution_count": null,
   "metadata": {},
   "outputs": [],
   "source": []
  }
 ],
 "metadata": {
  "kernelspec": {
   "display_name": "Python 3",
   "language": "python",
   "name": "python3"
  },
  "language_info": {
   "codemirror_mode": {
    "name": "ipython",
    "version": 3
   },
   "file_extension": ".py",
   "mimetype": "text/x-python",
   "name": "python",
   "nbconvert_exporter": "python",
   "pygments_lexer": "ipython3",
   "version": "3.10.13"
  }
 },
 "nbformat": 4,
 "nbformat_minor": 2
}
