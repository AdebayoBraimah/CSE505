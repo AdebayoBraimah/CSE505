{
 "cells": [
  {
   "cell_type": "code",
   "execution_count": 1,
   "metadata": {},
   "outputs": [],
   "source": [
    "from selenium import webdriver\n",
    "from selenium.webdriver.common.by import By\n",
    "from selenium.webdriver.chrome.service import Service\n",
    "from webdriver_manager.chrome import ChromeDriverManager\n",
    "import time"
   ]
  },
  {
   "cell_type": "code",
   "execution_count": 2,
   "metadata": {},
   "outputs": [],
   "source": [
    "# Setup Chrome webdriver\n",
    "service = Service(ChromeDriverManager().install())\n",
    "driver = webdriver.Chrome(service=service)"
   ]
  },
  {
   "cell_type": "code",
   "execution_count": 3,
   "metadata": {},
   "outputs": [],
   "source": [
    "url = \"https://prod.ps.stonybrook.edu/psc/csprodg/EMPLOYEE/CAMP/c/COMMUNITY_ACCESS.SSS_BROWSE_CATLG.GBL?\""
   ]
  },
  {
   "cell_type": "code",
   "execution_count": 4,
   "metadata": {},
   "outputs": [],
   "source": [
    "# Open the webpage\n",
    "driver.get(url)"
   ]
  },
  {
   "cell_type": "code",
   "execution_count": 5,
   "metadata": {},
   "outputs": [],
   "source": [
    "# Wait for JavaScript to load\n",
    "time.sleep(10)"
   ]
  },
  {
   "cell_type": "code",
   "execution_count": 6,
   "metadata": {},
   "outputs": [],
   "source": [
    "tables = driver.find_elements(By.CSS_SELECTOR, \"td.PAGROUPBOXLABELINVISIBLE\")"
   ]
  },
  {
   "cell_type": "code",
   "execution_count": 7,
   "metadata": {},
   "outputs": [
    {
     "data": {
      "text/plain": [
       "[<selenium.webdriver.remote.webelement.WebElement (session=\"2750434165c68fc7bcd4aaa99952f451\", element=\"f.0836FC67A69AFDA0E33B2716B2850FFE.d.8353FB2F46636BD48FF2DF94B933F387.e.33\")>,\n",
       " <selenium.webdriver.remote.webelement.WebElement (session=\"2750434165c68fc7bcd4aaa99952f451\", element=\"f.0836FC67A69AFDA0E33B2716B2850FFE.d.8353FB2F46636BD48FF2DF94B933F387.e.34\")>,\n",
       " <selenium.webdriver.remote.webelement.WebElement (session=\"2750434165c68fc7bcd4aaa99952f451\", element=\"f.0836FC67A69AFDA0E33B2716B2850FFE.d.8353FB2F46636BD48FF2DF94B933F387.e.35\")>,\n",
       " <selenium.webdriver.remote.webelement.WebElement (session=\"2750434165c68fc7bcd4aaa99952f451\", element=\"f.0836FC67A69AFDA0E33B2716B2850FFE.d.8353FB2F46636BD48FF2DF94B933F387.e.36\")>,\n",
       " <selenium.webdriver.remote.webelement.WebElement (session=\"2750434165c68fc7bcd4aaa99952f451\", element=\"f.0836FC67A69AFDA0E33B2716B2850FFE.d.8353FB2F46636BD48FF2DF94B933F387.e.37\")>,\n",
       " <selenium.webdriver.remote.webelement.WebElement (session=\"2750434165c68fc7bcd4aaa99952f451\", element=\"f.0836FC67A69AFDA0E33B2716B2850FFE.d.8353FB2F46636BD48FF2DF94B933F387.e.38\")>,\n",
       " <selenium.webdriver.remote.webelement.WebElement (session=\"2750434165c68fc7bcd4aaa99952f451\", element=\"f.0836FC67A69AFDA0E33B2716B2850FFE.d.8353FB2F46636BD48FF2DF94B933F387.e.39\")>,\n",
       " <selenium.webdriver.remote.webelement.WebElement (session=\"2750434165c68fc7bcd4aaa99952f451\", element=\"f.0836FC67A69AFDA0E33B2716B2850FFE.d.8353FB2F46636BD48FF2DF94B933F387.e.40\")>,\n",
       " <selenium.webdriver.remote.webelement.WebElement (session=\"2750434165c68fc7bcd4aaa99952f451\", element=\"f.0836FC67A69AFDA0E33B2716B2850FFE.d.8353FB2F46636BD48FF2DF94B933F387.e.41\")>,\n",
       " <selenium.webdriver.remote.webelement.WebElement (session=\"2750434165c68fc7bcd4aaa99952f451\", element=\"f.0836FC67A69AFDA0E33B2716B2850FFE.d.8353FB2F46636BD48FF2DF94B933F387.e.42\")>,\n",
       " <selenium.webdriver.remote.webelement.WebElement (session=\"2750434165c68fc7bcd4aaa99952f451\", element=\"f.0836FC67A69AFDA0E33B2716B2850FFE.d.8353FB2F46636BD48FF2DF94B933F387.e.43\")>,\n",
       " <selenium.webdriver.remote.webelement.WebElement (session=\"2750434165c68fc7bcd4aaa99952f451\", element=\"f.0836FC67A69AFDA0E33B2716B2850FFE.d.8353FB2F46636BD48FF2DF94B933F387.e.44\")>,\n",
       " <selenium.webdriver.remote.webelement.WebElement (session=\"2750434165c68fc7bcd4aaa99952f451\", element=\"f.0836FC67A69AFDA0E33B2716B2850FFE.d.8353FB2F46636BD48FF2DF94B933F387.e.45\")>,\n",
       " <selenium.webdriver.remote.webelement.WebElement (session=\"2750434165c68fc7bcd4aaa99952f451\", element=\"f.0836FC67A69AFDA0E33B2716B2850FFE.d.8353FB2F46636BD48FF2DF94B933F387.e.46\")>,\n",
       " <selenium.webdriver.remote.webelement.WebElement (session=\"2750434165c68fc7bcd4aaa99952f451\", element=\"f.0836FC67A69AFDA0E33B2716B2850FFE.d.8353FB2F46636BD48FF2DF94B933F387.e.47\")>,\n",
       " <selenium.webdriver.remote.webelement.WebElement (session=\"2750434165c68fc7bcd4aaa99952f451\", element=\"f.0836FC67A69AFDA0E33B2716B2850FFE.d.8353FB2F46636BD48FF2DF94B933F387.e.48\")>,\n",
       " <selenium.webdriver.remote.webelement.WebElement (session=\"2750434165c68fc7bcd4aaa99952f451\", element=\"f.0836FC67A69AFDA0E33B2716B2850FFE.d.8353FB2F46636BD48FF2DF94B933F387.e.49\")>,\n",
       " <selenium.webdriver.remote.webelement.WebElement (session=\"2750434165c68fc7bcd4aaa99952f451\", element=\"f.0836FC67A69AFDA0E33B2716B2850FFE.d.8353FB2F46636BD48FF2DF94B933F387.e.50\")>,\n",
       " <selenium.webdriver.remote.webelement.WebElement (session=\"2750434165c68fc7bcd4aaa99952f451\", element=\"f.0836FC67A69AFDA0E33B2716B2850FFE.d.8353FB2F46636BD48FF2DF94B933F387.e.51\")>,\n",
       " <selenium.webdriver.remote.webelement.WebElement (session=\"2750434165c68fc7bcd4aaa99952f451\", element=\"f.0836FC67A69AFDA0E33B2716B2850FFE.d.8353FB2F46636BD48FF2DF94B933F387.e.52\")>,\n",
       " <selenium.webdriver.remote.webelement.WebElement (session=\"2750434165c68fc7bcd4aaa99952f451\", element=\"f.0836FC67A69AFDA0E33B2716B2850FFE.d.8353FB2F46636BD48FF2DF94B933F387.e.53\")>,\n",
       " <selenium.webdriver.remote.webelement.WebElement (session=\"2750434165c68fc7bcd4aaa99952f451\", element=\"f.0836FC67A69AFDA0E33B2716B2850FFE.d.8353FB2F46636BD48FF2DF94B933F387.e.54\")>,\n",
       " <selenium.webdriver.remote.webelement.WebElement (session=\"2750434165c68fc7bcd4aaa99952f451\", element=\"f.0836FC67A69AFDA0E33B2716B2850FFE.d.8353FB2F46636BD48FF2DF94B933F387.e.55\")>,\n",
       " <selenium.webdriver.remote.webelement.WebElement (session=\"2750434165c68fc7bcd4aaa99952f451\", element=\"f.0836FC67A69AFDA0E33B2716B2850FFE.d.8353FB2F46636BD48FF2DF94B933F387.e.56\")>,\n",
       " <selenium.webdriver.remote.webelement.WebElement (session=\"2750434165c68fc7bcd4aaa99952f451\", element=\"f.0836FC67A69AFDA0E33B2716B2850FFE.d.8353FB2F46636BD48FF2DF94B933F387.e.57\")>,\n",
       " <selenium.webdriver.remote.webelement.WebElement (session=\"2750434165c68fc7bcd4aaa99952f451\", element=\"f.0836FC67A69AFDA0E33B2716B2850FFE.d.8353FB2F46636BD48FF2DF94B933F387.e.58\")>,\n",
       " <selenium.webdriver.remote.webelement.WebElement (session=\"2750434165c68fc7bcd4aaa99952f451\", element=\"f.0836FC67A69AFDA0E33B2716B2850FFE.d.8353FB2F46636BD48FF2DF94B933F387.e.59\")>,\n",
       " <selenium.webdriver.remote.webelement.WebElement (session=\"2750434165c68fc7bcd4aaa99952f451\", element=\"f.0836FC67A69AFDA0E33B2716B2850FFE.d.8353FB2F46636BD48FF2DF94B933F387.e.60\")>,\n",
       " <selenium.webdriver.remote.webelement.WebElement (session=\"2750434165c68fc7bcd4aaa99952f451\", element=\"f.0836FC67A69AFDA0E33B2716B2850FFE.d.8353FB2F46636BD48FF2DF94B933F387.e.61\")>,\n",
       " <selenium.webdriver.remote.webelement.WebElement (session=\"2750434165c68fc7bcd4aaa99952f451\", element=\"f.0836FC67A69AFDA0E33B2716B2850FFE.d.8353FB2F46636BD48FF2DF94B933F387.e.62\")>,\n",
       " <selenium.webdriver.remote.webelement.WebElement (session=\"2750434165c68fc7bcd4aaa99952f451\", element=\"f.0836FC67A69AFDA0E33B2716B2850FFE.d.8353FB2F46636BD48FF2DF94B933F387.e.63\")>,\n",
       " <selenium.webdriver.remote.webelement.WebElement (session=\"2750434165c68fc7bcd4aaa99952f451\", element=\"f.0836FC67A69AFDA0E33B2716B2850FFE.d.8353FB2F46636BD48FF2DF94B933F387.e.64\")>,\n",
       " <selenium.webdriver.remote.webelement.WebElement (session=\"2750434165c68fc7bcd4aaa99952f451\", element=\"f.0836FC67A69AFDA0E33B2716B2850FFE.d.8353FB2F46636BD48FF2DF94B933F387.e.65\")>,\n",
       " <selenium.webdriver.remote.webelement.WebElement (session=\"2750434165c68fc7bcd4aaa99952f451\", element=\"f.0836FC67A69AFDA0E33B2716B2850FFE.d.8353FB2F46636BD48FF2DF94B933F387.e.66\")>,\n",
       " <selenium.webdriver.remote.webelement.WebElement (session=\"2750434165c68fc7bcd4aaa99952f451\", element=\"f.0836FC67A69AFDA0E33B2716B2850FFE.d.8353FB2F46636BD48FF2DF94B933F387.e.67\")>,\n",
       " <selenium.webdriver.remote.webelement.WebElement (session=\"2750434165c68fc7bcd4aaa99952f451\", element=\"f.0836FC67A69AFDA0E33B2716B2850FFE.d.8353FB2F46636BD48FF2DF94B933F387.e.68\")>,\n",
       " <selenium.webdriver.remote.webelement.WebElement (session=\"2750434165c68fc7bcd4aaa99952f451\", element=\"f.0836FC67A69AFDA0E33B2716B2850FFE.d.8353FB2F46636BD48FF2DF94B933F387.e.69\")>,\n",
       " <selenium.webdriver.remote.webelement.WebElement (session=\"2750434165c68fc7bcd4aaa99952f451\", element=\"f.0836FC67A69AFDA0E33B2716B2850FFE.d.8353FB2F46636BD48FF2DF94B933F387.e.70\")>,\n",
       " <selenium.webdriver.remote.webelement.WebElement (session=\"2750434165c68fc7bcd4aaa99952f451\", element=\"f.0836FC67A69AFDA0E33B2716B2850FFE.d.8353FB2F46636BD48FF2DF94B933F387.e.71\")>,\n",
       " <selenium.webdriver.remote.webelement.WebElement (session=\"2750434165c68fc7bcd4aaa99952f451\", element=\"f.0836FC67A69AFDA0E33B2716B2850FFE.d.8353FB2F46636BD48FF2DF94B933F387.e.72\")>,\n",
       " <selenium.webdriver.remote.webelement.WebElement (session=\"2750434165c68fc7bcd4aaa99952f451\", element=\"f.0836FC67A69AFDA0E33B2716B2850FFE.d.8353FB2F46636BD48FF2DF94B933F387.e.73\")>,\n",
       " <selenium.webdriver.remote.webelement.WebElement (session=\"2750434165c68fc7bcd4aaa99952f451\", element=\"f.0836FC67A69AFDA0E33B2716B2850FFE.d.8353FB2F46636BD48FF2DF94B933F387.e.74\")>,\n",
       " <selenium.webdriver.remote.webelement.WebElement (session=\"2750434165c68fc7bcd4aaa99952f451\", element=\"f.0836FC67A69AFDA0E33B2716B2850FFE.d.8353FB2F46636BD48FF2DF94B933F387.e.75\")>,\n",
       " <selenium.webdriver.remote.webelement.WebElement (session=\"2750434165c68fc7bcd4aaa99952f451\", element=\"f.0836FC67A69AFDA0E33B2716B2850FFE.d.8353FB2F46636BD48FF2DF94B933F387.e.76\")>,\n",
       " <selenium.webdriver.remote.webelement.WebElement (session=\"2750434165c68fc7bcd4aaa99952f451\", element=\"f.0836FC67A69AFDA0E33B2716B2850FFE.d.8353FB2F46636BD48FF2DF94B933F387.e.77\")>,\n",
       " <selenium.webdriver.remote.webelement.WebElement (session=\"2750434165c68fc7bcd4aaa99952f451\", element=\"f.0836FC67A69AFDA0E33B2716B2850FFE.d.8353FB2F46636BD48FF2DF94B933F387.e.78\")>,\n",
       " <selenium.webdriver.remote.webelement.WebElement (session=\"2750434165c68fc7bcd4aaa99952f451\", element=\"f.0836FC67A69AFDA0E33B2716B2850FFE.d.8353FB2F46636BD48FF2DF94B933F387.e.79\")>,\n",
       " <selenium.webdriver.remote.webelement.WebElement (session=\"2750434165c68fc7bcd4aaa99952f451\", element=\"f.0836FC67A69AFDA0E33B2716B2850FFE.d.8353FB2F46636BD48FF2DF94B933F387.e.80\")>,\n",
       " <selenium.webdriver.remote.webelement.WebElement (session=\"2750434165c68fc7bcd4aaa99952f451\", element=\"f.0836FC67A69AFDA0E33B2716B2850FFE.d.8353FB2F46636BD48FF2DF94B933F387.e.81\")>,\n",
       " <selenium.webdriver.remote.webelement.WebElement (session=\"2750434165c68fc7bcd4aaa99952f451\", element=\"f.0836FC67A69AFDA0E33B2716B2850FFE.d.8353FB2F46636BD48FF2DF94B933F387.e.82\")>,\n",
       " <selenium.webdriver.remote.webelement.WebElement (session=\"2750434165c68fc7bcd4aaa99952f451\", element=\"f.0836FC67A69AFDA0E33B2716B2850FFE.d.8353FB2F46636BD48FF2DF94B933F387.e.83\")>,\n",
       " <selenium.webdriver.remote.webelement.WebElement (session=\"2750434165c68fc7bcd4aaa99952f451\", element=\"f.0836FC67A69AFDA0E33B2716B2850FFE.d.8353FB2F46636BD48FF2DF94B933F387.e.84\")>,\n",
       " <selenium.webdriver.remote.webelement.WebElement (session=\"2750434165c68fc7bcd4aaa99952f451\", element=\"f.0836FC67A69AFDA0E33B2716B2850FFE.d.8353FB2F46636BD48FF2DF94B933F387.e.85\")>,\n",
       " <selenium.webdriver.remote.webelement.WebElement (session=\"2750434165c68fc7bcd4aaa99952f451\", element=\"f.0836FC67A69AFDA0E33B2716B2850FFE.d.8353FB2F46636BD48FF2DF94B933F387.e.86\")>]"
      ]
     },
     "execution_count": 7,
     "metadata": {},
     "output_type": "execute_result"
    }
   ],
   "source": [
    "tables"
   ]
  },
  {
   "cell_type": "code",
   "execution_count": 13,
   "metadata": {},
   "outputs": [],
   "source": [
    "for table in tables:\n",
    "    if table.text == \"AMS - Applied Math and Statistics\":\n",
    "        # Assuming the desired data is within the parent or next sibling element\n",
    "        parent = table.find_element(By.XPATH, \"./..\")  # Access the parent element\n",
    "        data_rows = parent.find_elements(\n",
    "            By.TAG_NAME, \"tr\"\n",
    "        )  # Get all rows within this table section\n",
    "        for row in data_rows:\n",
    "            cols = row.find_elements(\n",
    "                By.TAG_NAME, \"td\"\n",
    "            )  # Get all columns within this row\n",
    "            col_data = [col.text for col in cols]\n",
    "            print(col_data)"
   ]
  },
  {
   "cell_type": "code",
   "execution_count": 14,
   "metadata": {},
   "outputs": [],
   "source": [
    "driver.quit()"
   ]
  },
  {
   "cell_type": "code",
   "execution_count": null,
   "metadata": {},
   "outputs": [],
   "source": []
  }
 ],
 "metadata": {
  "kernelspec": {
   "display_name": "Python 3",
   "language": "python",
   "name": "python3"
  },
  "language_info": {
   "codemirror_mode": {
    "name": "ipython",
    "version": 3
   },
   "file_extension": ".py",
   "mimetype": "text/x-python",
   "name": "python",
   "nbconvert_exporter": "python",
   "pygments_lexer": "ipython3",
   "version": "3.10.13"
  }
 },
 "nbformat": 4,
 "nbformat_minor": 2
}
