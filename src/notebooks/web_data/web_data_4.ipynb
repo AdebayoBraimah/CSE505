{
 "cells": [
  {
   "cell_type": "code",
   "execution_count": 2,
   "metadata": {},
   "outputs": [
    {
     "ename": "ValueError",
     "evalue": "could not convert string to float: 's'",
     "output_type": "error",
     "traceback": [
      "\u001b[0;31m---------------------------------------------------------------------------\u001b[0m",
      "\u001b[0;31mValueError\u001b[0m                                Traceback (most recent call last)",
      "Cell \u001b[0;32mIn[2], line 3\u001b[0m\n\u001b[1;32m      1\u001b[0m \u001b[38;5;66;03m# check for floats in string\u001b[39;00m\n\u001b[0;32m----> 3\u001b[0m \u001b[38;5;28;43mfloat\u001b[39;49m\u001b[43m(\u001b[49m\u001b[38;5;124;43m\"\u001b[39;49m\u001b[38;5;124;43ms\u001b[39;49m\u001b[38;5;124;43m\"\u001b[39;49m\u001b[43m)\u001b[49m\n",
      "\u001b[0;31mValueError\u001b[0m: could not convert string to float: 's'"
     ]
    }
   ],
   "source": [
    "# check for floats in string\n",
    "\n",
    "float(\"s\")"
   ]
  },
  {
   "cell_type": "code",
   "execution_count": 3,
   "metadata": {},
   "outputs": [],
   "source": [
    "s = \"Prerequisite: CSE 216 or CSE 260; AMS 310; CSE major\""
   ]
  },
  {
   "cell_type": "code",
   "execution_count": 4,
   "metadata": {},
   "outputs": [
    {
     "name": "stdout",
     "output_type": "stream",
     "text": [
      "[['Prerequisite: CSE 216', 'CSE 260'], ['AMS 310'], ['CSE major']]\n"
     ]
    }
   ],
   "source": [
    "def parse_requirements(input_string):\n",
    "    # Split the input string into major requirements using the semi-colon\n",
    "    conjunctive_parts = input_string.split(\";\")\n",
    "\n",
    "    # Trim whitespace and parse each conjunctive part\n",
    "    result = []\n",
    "    for part in conjunctive_parts:\n",
    "        # Strip leading and trailing whitespace\n",
    "        part = part.strip()\n",
    "\n",
    "        # Split part on ' or ' to handle disjunctive requirements\n",
    "        disjunctive_parts = part.split(\" or \")\n",
    "\n",
    "        # Strip whitespace from each disjunctive part and add to result\n",
    "        result.append([item.strip() for item in disjunctive_parts])\n",
    "\n",
    "    return result\n",
    "\n",
    "\n",
    "# Example input\n",
    "input_string = \"Prerequisite: CSE 216 or CSE 260; AMS 310; CSE major\"\n",
    "\n",
    "# Parse the input string\n",
    "parsed_requirements = parse_requirements(input_string)\n",
    "\n",
    "# Output the parsed requirements\n",
    "print(parsed_requirements)"
   ]
  },
  {
   "cell_type": "code",
   "execution_count": 6,
   "metadata": {},
   "outputs": [],
   "source": [
    "import re"
   ]
  },
  {
   "cell_type": "code",
   "execution_count": 10,
   "metadata": {},
   "outputs": [
    {
     "name": "stdout",
     "output_type": "stream",
     "text": [
      "[]\n"
     ]
    }
   ],
   "source": [
    "# import re\n",
    "\n",
    "\n",
    "def parse_requirements(input_string):\n",
    "    # NOTE: Disjunction statements in the same sub-list, \n",
    "    #   conjunctions in separate lists\n",
    "    # NOTE: This pattern assumes that course codes are always in \n",
    "    #   the format \"AAA 123\"\n",
    "    # Define a regular expression pattern to capture course codes\n",
    "    course_pattern = r\"\\b([A-Z]{3} \\d{3})\\b\"\n",
    "\n",
    "    # Find all course codes using the regex pattern\n",
    "    # courses = re.findall(course_pattern, input_string)\n",
    "\n",
    "    # Split the input string into major requirements using the semi-colon\n",
    "    conjunctive_parts = input_string.split(\";\")\n",
    "\n",
    "    # Result list to hold parsed requirements\n",
    "    result = []\n",
    "\n",
    "    for part in conjunctive_parts:\n",
    "        # Find courses in each part\n",
    "        part_courses = re.findall(course_pattern, part)\n",
    "\n",
    "        # Add non-empty lists to the result\n",
    "        if part_courses:\n",
    "            result.append(part_courses)\n",
    "\n",
    "    return result\n",
    "\n",
    "\n",
    "# Example input\n",
    "# input_string = \"Prerequisite: CSE 216 or CSE 260; AMS 310; CSE major\"\n",
    "# input_string = \"Prerequisites: AMS 301; programming knowledge of C or C++ or Java\"\n",
    "# input_string = \"Prerequisites: CSE 220; CSE major Advisory Pre-or corequisite: CSE 320\"\n",
    "input_string = \"\"\n",
    "\n",
    "# Parse the input string\n",
    "parsed_requirements = parse_requirements(input_string)\n",
    "\n",
    "# Output the parsed requirements\n",
    "print(parsed_requirements)"
   ]
  },
  {
   "cell_type": "code",
   "execution_count": null,
   "metadata": {},
   "outputs": [],
   "source": []
  }
 ],
 "metadata": {
  "kernelspec": {
   "display_name": "Python 3",
   "language": "python",
   "name": "python3"
  },
  "language_info": {
   "codemirror_mode": {
    "name": "ipython",
    "version": 3
   },
   "file_extension": ".py",
   "mimetype": "text/x-python",
   "name": "python",
   "nbconvert_exporter": "python",
   "pygments_lexer": "ipython3",
   "version": "3.10.13"
  }
 },
 "nbformat": 4,
 "nbformat_minor": 2
}
