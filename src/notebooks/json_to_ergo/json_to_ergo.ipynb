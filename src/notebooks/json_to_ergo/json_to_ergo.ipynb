{
 "cells": [
  {
   "cell_type": "code",
   "execution_count": 1,
   "metadata": {},
   "outputs": [],
   "source": [
    "import json"
   ]
  },
  {
   "cell_type": "code",
   "execution_count": 15,
   "metadata": {},
   "outputs": [],
   "source": [
    "# file = 'cse.json'\n",
    "file = \"/Users/adebayobraimah/Downloads/drive-download-20240320T171548Z-001/sample_json_document.json\""
   ]
  },
  {
   "cell_type": "code",
   "execution_count": 20,
   "metadata": {},
   "outputs": [],
   "source": [
    "def write_ergo(data, file, parent_oid=None):\n",
    "    # DOC: Recursively write data to an Ergo formatted file.\n",
    "    if parent_oid is None:\n",
    "        parent_oid = \"root\"\n",
    "        file.write(f\"?- \\\\@[add_json_{parent_oid}(\\\\##{parent_oid})]@\\\\json.\\n\")\n",
    "\n",
    "    if isinstance(data, dict):\n",
    "        for key, value in data.items():\n",
    "            if isinstance(value, dict):\n",
    "                new_oid = f\"\\\\##{key}\"\n",
    "                file.write(f\"\\\\##{parent_oid}['{key}' -> {new_oid}].\\n\")\n",
    "                write_ergo(value, file, new_oid)\n",
    "            elif isinstance(value, list):\n",
    "                list_items = \", \".join(\n",
    "                    [\n",
    "                        f\"\\\\##{key}_{i}\" if isinstance(v, dict) else str(v)\n",
    "                        for i, v in enumerate(value)\n",
    "                    ]\n",
    "                )\n",
    "                file.write(f\"\\\\##{parent_oid}['{key}' -> [{list_items}]].\\n\")\n",
    "                for i, v in enumerate(value):\n",
    "                    if isinstance(v, dict):\n",
    "                        write_ergo(v, file, f\"\\\\##{key}_{i}\")\n",
    "            else:\n",
    "                if isinstance(value, str):\n",
    "                    value = value.replace(\"\\\\\", \"\\\\\\\\\")\n",
    "                    value = f\"'{value}'\"\n",
    "                elif isinstance(value, bool):\n",
    "                    value = str(value).lower()\n",
    "                file.write(f\"\\\\##{parent_oid}['{key}' -> {value}].\\n\")\n",
    "    elif isinstance(data, list):\n",
    "        # This case is for lists if you want to handle top-level arrays.\n",
    "        for i, item in enumerate(data):\n",
    "            new_oid = f\"\\\\##{parent_oid}_{i}\"\n",
    "            file.write(f\"\\\\##{parent_oid}[{i} -> {new_oid}].\\n\")\n",
    "            write_ergo(item, file, new_oid)"
   ]
  },
  {
   "cell_type": "code",
   "execution_count": 21,
   "metadata": {},
   "outputs": [],
   "source": [
    "def convert_json_to_ergo(json_filepath, ergo_filepath):\n",
    "    with open(json_filepath, \"r\", encoding=\"utf-8\") as f:\n",
    "        data = json.load(f)\n",
    "\n",
    "    with open(ergo_filepath, \"w\", encoding=\"utf-8\") as f:\n",
    "        f.write(\":- new_global_oid_scope.\\n\")  # Initialize the global OID scope.\n",
    "        write_ergo(data, f)\n",
    "        f.write(\n",
    "            \"?- new_global_oid_scope.\\n\"\n",
    "        )  # Reset global OID scope after completion."
   ]
  },
  {
   "cell_type": "code",
   "execution_count": 22,
   "metadata": {},
   "outputs": [],
   "source": [
    "convert_json_to_ergo(file, \"output.ergo\")"
   ]
  },
  {
   "cell_type": "code",
   "execution_count": null,
   "metadata": {},
   "outputs": [],
   "source": []
  }
 ],
 "metadata": {
  "kernelspec": {
   "display_name": "Python 3",
   "language": "python",
   "name": "python3"
  },
  "language_info": {
   "codemirror_mode": {
    "name": "ipython",
    "version": 3
   },
   "file_extension": ".py",
   "mimetype": "text/x-python",
   "name": "python",
   "nbconvert_exporter": "python",
   "pygments_lexer": "ipython3",
   "version": "3.10.13"
  }
 },
 "nbformat": 4,
 "nbformat_minor": 2
}
