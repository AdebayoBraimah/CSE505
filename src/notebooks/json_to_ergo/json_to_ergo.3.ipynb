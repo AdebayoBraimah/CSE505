{
 "cells": [
  {
   "cell_type": "code",
   "execution_count": 2,
   "metadata": {},
   "outputs": [],
   "source": [
    "import os\n",
    "import sys\n",
    "\n",
    "from typing import Union"
   ]
  },
  {
   "cell_type": "code",
   "execution_count": 3,
   "metadata": {},
   "outputs": [],
   "source": [
    "# Define constants\n",
    "ERGOROOT: str = (\n",
    "    \"/Users/adebayobraimah/bin/ErgoEngine-3.0_release/ErgoAI/Coherent/ERGOAI_3.0/ErgoAI\"\n",
    ")\n",
    "XSBARCHDIR: str = (\n",
    "    \"/Users/adebayobraimah/bin/ErgoEngine-3.0_release/ErgoAI/Coherent/ERGOAI_3.0/XSB/config/aarch64-apple-darwin22.6.0\"\n",
    ")"
   ]
  },
  {
   "cell_type": "code",
   "execution_count": 4,
   "metadata": {},
   "outputs": [],
   "source": [
    "# Append ERGO ROOT directory to system path\n",
    "sys.path.append(ERGOROOT.replace(\"\\\\\", \"/\") + \"/python\")"
   ]
  },
  {
   "cell_type": "code",
   "execution_count": 5,
   "metadata": {},
   "outputs": [],
   "source": [
    "from pyergo import (\n",
    "    pyergo_start_session,\n",
    "    pyergo_end_session,\n",
    "    pyergo_command,\n",
    "    pyergo_query,\n",
    "    HILOGFunctor,\n",
    "    PROLOGFunctor,\n",
    "    ERGOVariable,\n",
    "    ERGOString,\n",
    "    ERGOIRI,\n",
    "    ERGOSymbol,\n",
    "    ERGOIRI,\n",
    "    ERGOCharlist,\n",
    "    ERGODatetime,\n",
    "    ERGODuration,\n",
    "    ERGOUserDatatype,\n",
    "    pyxsb_query,\n",
    "    pyxsb_command,\n",
    "    XSBFunctor,\n",
    "    XSBVariable,\n",
    "    XSBAtom,\n",
    "    XSBString,\n",
    "    PYERGOException,\n",
    "    PYXSBException,\n",
    ")"
   ]
  },
  {
   "cell_type": "code",
   "execution_count": 6,
   "metadata": {},
   "outputs": [],
   "source": [
    "# Start ErgoAI session\n",
    "pyergo_start_session(XSBARCHDIR, ERGOROOT)"
   ]
  },
  {
   "cell_type": "code",
   "execution_count": 6,
   "metadata": {},
   "outputs": [],
   "source": [
    "# # Perform command\n",
    "# pyergo_command(\"'sample.json'[parse2file('NewSample.ergo')]@\\json.\")"
   ]
  },
  {
   "cell_type": "code",
   "execution_count": 7,
   "metadata": {},
   "outputs": [],
   "source": [
    "# json_file = os.path.abspath(\"sample.json\")\n",
    "json_file = os.path.abspath(\n",
    "    \"/Users/adebayobraimah/Desktop/projects/CSE505/src/notebooks/cse.json\"\n",
    ")\n",
    "out_file = os.path.abspath(\"NewSample.ergo\")"
   ]
  },
  {
   "cell_type": "code",
   "execution_count": 8,
   "metadata": {},
   "outputs": [],
   "source": [
    "ergoai_command = f\"'{json_file}'[parse2file('{out_file}')]@\\json.\""
   ]
  },
  {
   "cell_type": "code",
   "execution_count": 9,
   "metadata": {},
   "outputs": [
    {
     "name": "stdout",
     "output_type": "stream",
     "text": [
      "\n"
     ]
    }
   ],
   "source": [
    "# Perform command\n",
    "pyergo_command(ergoai_command)"
   ]
  },
  {
   "cell_type": "code",
   "execution_count": 10,
   "metadata": {},
   "outputs": [],
   "source": [
    "# No queries performed here"
   ]
  },
  {
   "cell_type": "code",
   "execution_count": 10,
   "metadata": {},
   "outputs": [],
   "source": [
    "# End ErgoAI session\n",
    "pyergo_end_session()"
   ]
  },
  {
   "cell_type": "code",
   "execution_count": null,
   "metadata": {},
   "outputs": [],
   "source": []
  }
 ],
 "metadata": {
  "kernelspec": {
   "display_name": "Python 3",
   "language": "python",
   "name": "python3"
  },
  "language_info": {
   "codemirror_mode": {
    "name": "ipython",
    "version": 3
   },
   "file_extension": ".py",
   "mimetype": "text/x-python",
   "name": "python",
   "nbconvert_exporter": "python",
   "pygments_lexer": "ipython3",
   "version": "3.10.13"
  }
 },
 "nbformat": 4,
 "nbformat_minor": 2
}
