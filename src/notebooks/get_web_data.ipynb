{
 "cells": [
  {
   "cell_type": "code",
   "execution_count": 20,
   "metadata": {},
   "outputs": [],
   "source": [
    "import os\n",
    "from bs4 import BeautifulSoup\n",
    "import re\n",
    "import requests"
   ]
  },
  {
   "cell_type": "code",
   "execution_count": 2,
   "metadata": {},
   "outputs": [],
   "source": [
    "# Load the HTML content (Assuming you've read it into a variable `html_content`)\n",
    "html_file = \"/Users/adebayobraimah/Downloads/C_Browse_Course_Catalog.html\"\n",
    "with open(html_file, 'r') as file:\n",
    "    html_content = file.read()"
   ]
  },
  {
   "cell_type": "code",
   "execution_count": 21,
   "metadata": {},
   "outputs": [],
   "source": [
    "url = \"https://prod.ps.stonybrook.edu/psc/csprodg/EMPLOYEE/CAMP/c/COMMUNITY_ACCESS.SSS_BROWSE_CATLG.GBL?\""
   ]
  },
  {
   "cell_type": "code",
   "execution_count": 22,
   "metadata": {},
   "outputs": [],
   "source": [
    "# Make a request to get the webpage content\n",
    "response = requests.get(url)\n",
    "webpage = response.text"
   ]
  },
  {
   "cell_type": "code",
   "execution_count": 23,
   "metadata": {},
   "outputs": [],
   "source": [
    "# Parse the HTML\n",
    "soup = BeautifulSoup(webpage, \"html.parser\")"
   ]
  },
  {
   "cell_type": "code",
   "execution_count": 4,
   "metadata": {},
   "outputs": [],
   "source": [
    "# soup = BeautifulSoup(html_content, \"html.parser\")"
   ]
  },
  {
   "cell_type": "code",
   "execution_count": 24,
   "metadata": {},
   "outputs": [],
   "source": [
    "# # Using regex to find a match that contains part of the JavaScript function\n",
    "# pattern = re.compile(\n",
    "#     r\"submitAction_win0\\(document\\.win0,'DERIVED_SSS_BCC_GROUP_BOX_1\\$147\\$\\$14'\\)\"\n",
    "# )\n",
    "# target_div = soup.find(\"a\", onclick=pattern)"
   ]
  },
  {
   "cell_type": "code",
   "execution_count": 26,
   "metadata": {},
   "outputs": [],
   "source": [
    "# # Finding the specific div with the JavaScript action\n",
    "# # The action could be part of an `a` tag or directly in a `div`, so modify accordingly.\n",
    "# target_div = soup.find(\n",
    "#     \"div\",\n",
    "#     attrs={\n",
    "#         \"href\": \"javascript:submitAction_win0(document.win0,'DERIVED_SSS_BCC_GROUP_BOX_1$147$$14')\"\n",
    "#     },\n",
    "# )"
   ]
  },
  {
   "cell_type": "code",
   "execution_count": 28,
   "metadata": {},
   "outputs": [],
   "source": [
    "# Finding the div by its specific id\n",
    "target_div = soup.find(\"div\", id=\"win0divDERIVED_SSS_BCC_GROUP_BOX_1$147$$14\")"
   ]
  },
  {
   "cell_type": "code",
   "execution_count": 29,
   "metadata": {},
   "outputs": [
    {
     "data": {
      "text/plain": [
       "bs4.element.Tag"
      ]
     },
     "execution_count": 29,
     "metadata": {},
     "output_type": "execute_result"
    }
   ],
   "source": [
    "# type(target_div)"
   ]
  },
  {
   "cell_type": "code",
   "execution_count": 30,
   "metadata": {},
   "outputs": [
    {
     "data": {
      "text/plain": [
       "<div id=\"win0divDERIVED_SSS_BCC_GROUP_BOX_1$147$$14\"><span class=\"PSHYPERLINK\" id=\"DERIVED_SSS_BCC_GROUP_BOX_1$147$$span$14\" title=\"Show/Hide Courses for Subject\"><a class=\"PSHYPERLINK\" href=\"javascript:submitAction_win0(document.win0,'DERIVED_SSS_BCC_GROUP_BOX_1$147$$14');\" id=\"DERIVED_SSS_BCC_GROUP_BOX_1$147$$14\" name=\"DERIVED_SSS_BCC_GROUP_BOX_1$147$$14\" onclick=\"javascript:cancelBubble(event);\" ptlinktgt=\"pt_peoplecode\" tabindex=\"2511\">AMS-S - Applied Math and Statistics -</a></span></div>"
      ]
     },
     "execution_count": 30,
     "metadata": {},
     "output_type": "execute_result"
    }
   ],
   "source": [
    "# target_div"
   ]
  },
  {
   "cell_type": "code",
   "execution_count": 32,
   "metadata": {},
   "outputs": [],
   "source": [
    "# if target_div:\n",
    "#     print(\"Div found:\", target_div)\n",
    "#     # If the target div contains a table and you want to extract data from it:\n",
    "#     table = target_div.find(\"table\")\n",
    "#     if table:\n",
    "#         for row in table.find_all(\"tr\"):\n",
    "#             columns = row.find_all(\"td\")\n",
    "#             data = [col.text.strip() for col in columns]\n",
    "#             print(data)\n",
    "#     else:\n",
    "#         print(\"No table found within the div.\")\n",
    "# else:\n",
    "#     print(\"No div found with the specified id\")"
   ]
  },
  {
   "cell_type": "code",
   "execution_count": 49,
   "metadata": {},
   "outputs": [],
   "source": [
    "# Find the tag containing 'CSE - Computer Science'\n",
    "# Often this could be within a <td> or <span> tag, adjust this according to your HTML\n",
    "target_tag = soup.find(\n",
    "    lambda tag: tag.name == \"td\" and \"CSE\" in tag.text\n",
    ")"
   ]
  },
  {
   "cell_type": "code",
   "execution_count": 58,
   "metadata": {},
   "outputs": [
    {
     "data": {
      "text/plain": [
       "NoneType"
      ]
     },
     "execution_count": 58,
     "metadata": {},
     "output_type": "execute_result"
    }
   ],
   "source": [
    "a = soup.find(\"td\", string=\"CSE\")\n",
    "type(a)"
   ]
  },
  {
   "cell_type": "code",
   "execution_count": null,
   "metadata": {},
   "outputs": [],
   "source": []
  }
 ],
 "metadata": {
  "kernelspec": {
   "display_name": "Python 3",
   "language": "python",
   "name": "python3"
  },
  "language_info": {
   "codemirror_mode": {
    "name": "ipython",
    "version": 3
   },
   "file_extension": ".py",
   "mimetype": "text/x-python",
   "name": "python",
   "nbconvert_exporter": "python",
   "pygments_lexer": "ipython3",
   "version": "3.10.13"
  }
 },
 "nbformat": 4,
 "nbformat_minor": 2
}
