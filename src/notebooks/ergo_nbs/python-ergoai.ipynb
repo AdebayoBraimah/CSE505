{
 "cells": [
  {
   "cell_type": "code",
   "execution_count": 1,
   "metadata": {},
   "outputs": [],
   "source": [
    "import os"
   ]
  },
  {
   "cell_type": "code",
   "execution_count": 2,
   "metadata": {},
   "outputs": [],
   "source": [
    "# Set global variables\n",
    "HOMEDIR = os.environ[\"HOME\"].replace(\"\\\\\", \"/\")\n",
    "ERGOROOT: str = '/Users/adebayobraimah/bin/ErgoEngine-3.0_release/ErgoAI/Coherent/ERGOAI_3.0/ErgoAI'\n",
    "XSBARCHDIR: str = '/Users/adebayobraimah/bin/ErgoEngine-3.0_release/ErgoAI/Coherent/ERGOAI_3.0/XSB/config/aarch64-apple-darwin22.6.0'"
   ]
  },
  {
   "cell_type": "code",
   "execution_count": 3,
   "metadata": {},
   "outputs": [],
   "source": [
    "import sys\n",
    "sys.path.append(ERGOROOT.replace(\"\\\\\", \"/\") + \"/python\")\n",
    "sys.path.append(\"../utils\")"
   ]
  },
  {
   "cell_type": "code",
   "execution_count": 4,
   "metadata": {},
   "outputs": [],
   "source": [
    "from util import file_parts"
   ]
  },
  {
   "cell_type": "code",
   "execution_count": 5,
   "metadata": {},
   "outputs": [],
   "source": [
    "from pyergo import (\n",
    "    pyergo_start_session,\n",
    "    pyergo_end_session,\n",
    "    pyergo_command,\n",
    "    pyergo_query,\n",
    "    HILOGFunctor,\n",
    "    PROLOGFunctor,\n",
    "    ERGOVariable,\n",
    "    ERGOString,\n",
    "    ERGOIRI,\n",
    "    ERGOSymbol,\n",
    "    ERGOIRI,\n",
    "    ERGOCharlist,\n",
    "    ERGODatetime,\n",
    "    ERGODuration,\n",
    "    ERGOUserDatatype,\n",
    "    pyxsb_query,\n",
    "    pyxsb_command,\n",
    "    XSBFunctor,\n",
    "    XSBVariable,\n",
    "    XSBAtom,\n",
    "    XSBString,\n",
    "    PYERGOException,\n",
    "    PYXSBException,\n",
    ")"
   ]
  },
  {
   "cell_type": "code",
   "execution_count": 6,
   "metadata": {},
   "outputs": [],
   "source": [
    "# Start ErgoAI session\n",
    "pyergo_start_session(XSBARCHDIR, ERGOROOT)"
   ]
  },
  {
   "cell_type": "code",
   "execution_count": 10,
   "metadata": {},
   "outputs": [],
   "source": [
    "# knowledge_base: str = (\n",
    "#     \"/Users/adebayobraimah/bin/ErgoEngine-3.0_release/ErgoAI/Coherent/ERGOAI_3.0/ErgoAI/demos/family_obj.flr\"\n",
    "# )\n",
    "\n",
    "# knowledge_base: str = (\n",
    "#     \"/Users/adebayobraimah/Downloads/drive-download-20240320T171548Z-001/sample_json_document.json\"\n",
    "# )\n",
    "\n",
    "knowledge_base: str = (\n",
    "    \"/Users/adebayobraimah/Downloads/drive-download-20240320T171548Z-001/foo.ergo\"\n",
    ")"
   ]
  },
  {
   "cell_type": "code",
   "execution_count": 11,
   "metadata": {},
   "outputs": [
    {
     "data": {
      "text/plain": [
       "'/Users/adebayobraimah/Downloads/drive-download-20240320T171548Z-001/foo'"
      ]
     },
     "execution_count": 11,
     "metadata": {},
     "output_type": "execute_result"
    }
   ],
   "source": [
    "# need to remove file extension\n",
    "filepath: str\n",
    "filename: str\n",
    "\n",
    "filepath,filename,_ = file_parts(knowledge_base)\n",
    "knowledge_base: str = os.path.join(filepath,filename)\n",
    "knowledge_base"
   ]
  },
  {
   "cell_type": "code",
   "execution_count": 12,
   "metadata": {},
   "outputs": [],
   "source": [
    "# pyergo_command(\"['demos/family_obj'].\")\n",
    "#\n",
    "# pyergo_command(\n",
    "#     \"['/Users/adebayobraimah/bin/ErgoEngine-3.0_release/ErgoAI/Coherent/ERGOAI_3.0/ErgoAI/demos/family_obj'].\"\n",
    "# )\n",
    "#\n",
    "pyergo_command(f\"['{knowledge_base}'].\")\n",
    "\n",
    "# pyergo_command(f\"'{knowledge_base}'[parse->?X]@\\\\json].\") # Does not work"
   ]
  },
  {
   "cell_type": "code",
   "execution_count": 13,
   "metadata": {},
   "outputs": [],
   "source": [
    "# result = pyergo_query(\"?X[ancestor->?Y].\")\n",
    "result = pyergo_query(\"?Subject[?Property->?Object].\")"
   ]
  },
  {
   "cell_type": "code",
   "execution_count": 14,
   "metadata": {},
   "outputs": [
    {
     "data": {
      "text/plain": [
       "[([('?Subject', ERGOSymbol(value=_$_$_ergo'autogen1|1'1)),\n",
       "   ('?Property', ERGOSymbol(value=aaa)),\n",
       "   ('?Object', 1)],\n",
       "  ('eof', 'success'),\n",
       "  True,\n",
       "  ERGOSymbol(value=normal)),\n",
       " ([('?Subject', ERGOSymbol(value=_$_$_ergo'autogen1|1'1)),\n",
       "   ('?Property', ERGOSymbol(value=bbb)),\n",
       "   ('?Object', ERGOSymbol(value=_$_$_ergo'autogen1|2'1))],\n",
       "  ('eof', 'success'),\n",
       "  True,\n",
       "  ERGOSymbol(value=normal)),\n",
       " ([('?Subject', ERGOSymbol(value=_$_$_ergo'autogen1|2'1)),\n",
       "   ('?Property', ERGOSymbol(value=ccc)),\n",
       "   ('?Object', [1, 2, ERGOSymbol(value=_$_$_ergo'autogen1|3'1)])],\n",
       "  ('eof', 'success'),\n",
       "  True,\n",
       "  ERGOSymbol(value=normal)),\n",
       " ([('?Subject', ERGOSymbol(value=_$_$_ergo'autogen1|2'1)),\n",
       "   ('?Property', ERGOSymbol(value=ddd)),\n",
       "   ('?Object', ERGOSymbol(value=ppp))],\n",
       "  ('eof', 'success'),\n",
       "  True,\n",
       "  ERGOSymbol(value=normal)),\n",
       " ([('?Subject', ERGOSymbol(value=_$_$_ergo'autogen1|3'1)),\n",
       "   ('?Property', ERGOSymbol(value=111)),\n",
       "   ('?Object', 3)],\n",
       "  ('eof', 'success'),\n",
       "  True,\n",
       "  ERGOSymbol(value=normal)),\n",
       " ([('?Subject', ERGOSymbol(value=_$_$_ergo'autogen1|3'1)),\n",
       "   ('?Property', ERGOSymbol(value=ppp)),\n",
       "   ('?Object', 4)],\n",
       "  ('eof', 'success'),\n",
       "  True,\n",
       "  ERGOSymbol(value=normal))]"
      ]
     },
     "execution_count": 14,
     "metadata": {},
     "output_type": "execute_result"
    }
   ],
   "source": [
    "result"
   ]
  },
  {
   "cell_type": "code",
   "execution_count": 16,
   "metadata": {},
   "outputs": [],
   "source": [
    "# for ans in result:\n",
    "#     [(XVarName, XVarVal), (YVarName, YVarVal)] = ans[0]\n",
    "#     print(\n",
    "#         \"ancestor of \"\n",
    "#         + XVarName\n",
    "#         + \"=\"\n",
    "#         + str(XVarVal)\n",
    "#         + \" is \"\n",
    "#         + YVarName\n",
    "#         + \"=\"\n",
    "#         + str(YVarVal)\n",
    "#     )"
   ]
  },
  {
   "cell_type": "code",
   "execution_count": 18,
   "metadata": {},
   "outputs": [
    {
     "name": "stdout",
     "output_type": "stream",
     "text": [
      "[('?Subject', ERGOSymbol(value=_$_$_ergo'autogen1|1'1)), ('?Property', ERGOSymbol(value=aaa)), ('?Object', 1)]\n",
      "[('?Subject', ERGOSymbol(value=_$_$_ergo'autogen1|1'1)), ('?Property', ERGOSymbol(value=bbb)), ('?Object', ERGOSymbol(value=_$_$_ergo'autogen1|2'1))]\n",
      "[('?Subject', ERGOSymbol(value=_$_$_ergo'autogen1|2'1)), ('?Property', ERGOSymbol(value=ccc)), ('?Object', [1, 2, ERGOSymbol(value=_$_$_ergo'autogen1|3'1)])]\n",
      "[('?Subject', ERGOSymbol(value=_$_$_ergo'autogen1|2'1)), ('?Property', ERGOSymbol(value=ddd)), ('?Object', ERGOSymbol(value=ppp))]\n",
      "[('?Subject', ERGOSymbol(value=_$_$_ergo'autogen1|3'1)), ('?Property', ERGOSymbol(value=111)), ('?Object', 3)]\n",
      "[('?Subject', ERGOSymbol(value=_$_$_ergo'autogen1|3'1)), ('?Property', ERGOSymbol(value=ppp)), ('?Object', 4)]\n"
     ]
    }
   ],
   "source": [
    "for ans in result:\n",
    "    print(ans[0])"
   ]
  },
  {
   "cell_type": "code",
   "execution_count": 19,
   "metadata": {},
   "outputs": [],
   "source": [
    "pyergo_end_session()"
   ]
  },
  {
   "cell_type": "code",
   "execution_count": null,
   "metadata": {},
   "outputs": [],
   "source": []
  }
 ],
 "metadata": {
  "kernelspec": {
   "display_name": "Python 3",
   "language": "python",
   "name": "python3"
  },
  "language_info": {
   "codemirror_mode": {
    "name": "ipython",
    "version": 3
   },
   "file_extension": ".py",
   "mimetype": "text/x-python",
   "name": "python",
   "nbconvert_exporter": "python",
   "pygments_lexer": "ipython3",
   "version": "3.10.13"
  }
 },
 "nbformat": 4,
 "nbformat_minor": 2
}
