{
 "cells": [
  {
   "cell_type": "code",
   "execution_count": 1,
   "metadata": {},
   "outputs": [],
   "source": [
    "import json"
   ]
  },
  {
   "cell_type": "code",
   "execution_count": 5,
   "metadata": {},
   "outputs": [],
   "source": [
    "# file = 'cse.json'\n",
    "# file1 = \"/Users/adebayobraimah/Downloads/drive-download-20240320T171548Z-001/sample_json_document.json\"\n",
    "file1 = 'sample.json'"
   ]
  },
  {
   "cell_type": "code",
   "execution_count": 12,
   "metadata": {},
   "outputs": [
    {
     "data": {
      "text/plain": [
       "\"\\\\##1['aaa' -> 1].\\n\\\\##1['bbb' -> \\\\##4364044352].\\n\\\\##4364044352['ccc' -> [1, 2, \\\\##4364044736]].\\n\\\\##4364044736['111' -> 3].\\n\\\\##4364044736['ppp' -> 4].\\n\\\\##4364044352['ddd' -> 'ppp'].\""
      ]
     },
     "execution_count": 12,
     "metadata": {},
     "output_type": "execute_result"
    }
   ],
   "source": [
    "# We have a JSON structure. Let's parse it and try to format it similarly to the sample.ergo file using Python.\n",
    "\n",
    "# import json\n",
    "\n",
    "# Load the JSON data from the uploaded file\n",
    "json_file_path = file1 # '/mnt/data/sample.json'\n",
    "with open(json_file_path, 'r') as file:\n",
    "    json_data = json.load(file)\n",
    "\n",
    "# This function will help to create a string similar to the ergo file format\n",
    "def format_to_ergo(json_obj, parent_id):\n",
    "    lines = []\n",
    "    # We assign a unique ID to each JSON object\n",
    "    oid = id(json_obj)\n",
    "    # For each key, value in the JSON object, we decide how to format it based on the value's type\n",
    "    for key, value in json_obj.items():\n",
    "        if isinstance(value, dict):\n",
    "            child_id = id(value)\n",
    "            lines.append(f\"{parent_id}['{key}' -> \\\\##{child_id}].\")\n",
    "            lines.extend(format_to_ergo(value, f\"\\\\##{child_id}\"))\n",
    "        elif isinstance(value, list):\n",
    "            # list_entries = \", \".join([f\"{val if isinstance(val, int) else '\\\\##' + str(id(val))}\" for val in value])\n",
    "            list_entries = \", \".join(\n",
    "                [\n",
    "                    str(val) if isinstance(val, int) else f\"\\\\##{id(val)}\"\n",
    "                    for val in value\n",
    "                ]\n",
    "            )\n",
    "\n",
    "            lines.append(f\"{parent_id}['{key}' -> [{list_entries}]].\")\n",
    "            for item in value:\n",
    "                if isinstance(item, dict):\n",
    "                    lines.extend(format_to_ergo(item, f\"\\\\##{id(item)}\"))\n",
    "        else:\n",
    "            lines.append(f\"{parent_id}['{key}' -> {repr(value)}].\")\n",
    "    return lines\n",
    "\n",
    "# Generate the formatted output\n",
    "formatted_output = format_to_ergo(json_data, \"\\\\##1\")\n",
    "\n",
    "# Joining all lines to form the final formatted string\n",
    "formatted_output_string = \"\\n\".join(formatted_output)\n",
    "formatted_output_string"
   ]
  },
  {
   "cell_type": "code",
   "execution_count": 9,
   "metadata": {},
   "outputs": [
    {
     "data": {
      "text/plain": [
       "['?- \\\\@[add_json_root(\\\\##1)]@\\\\json.',\n",
       " \"\\\\##1['aaa' -> 1].\",\n",
       " \"\\\\##1['bbb' -> \\\\\\\\##4363603776].\",\n",
       " '?- \\\\@[add_json_root(\\\\##1)]@\\\\json.',\n",
       " \"\\\\\\\\##4363603776['ccc' -> [1, 2, \\\\\\\\##4364055232]].\",\n",
       " '?- \\\\@[add_json_root(\\\\##1)]@\\\\json.',\n",
       " \"\\\\\\\\##4364055232['111' -> 3].\",\n",
       " \"\\\\\\\\##4364055232['ppp' -> 4].\",\n",
       " ':- new_global_oid_scope.',\n",
       " '?- new_global_oid_scope.',\n",
       " '\\\\\\\\##4363603776[\\'ddd\\' -> \"ppp\"].',\n",
       " ':- new_global_oid_scope.',\n",
       " '?- new_global_oid_scope.',\n",
       " ':- new_global_oid_scope.',\n",
       " '?- new_global_oid_scope.']"
      ]
     },
     "execution_count": 9,
     "metadata": {},
     "output_type": "execute_result"
    }
   ],
   "source": [
    "# Fixing the backslash handling by using a different approach to construct the strings.\n",
    "\n",
    "# Load the JSON data from the uploaded file\n",
    "json_file_path = file1  # '/mnt/data/sample.json'\n",
    "with open(json_file_path, \"r\") as file:\n",
    "    json_data = json.load(file)\n",
    "\n",
    "def format_to_ergo(json_obj, parent_id):\n",
    "    lines = []\n",
    "    lines.append(\"?- \\@[add_json_root(\\##1)]@\\json.\")\n",
    "    # We assign a unique ID to each JSON object\n",
    "    oid = id(json_obj)\n",
    "    # For each key, value in the JSON object, we decide how to format it based on the value's type\n",
    "    for key, value in json_obj.items():\n",
    "        if isinstance(value, dict):\n",
    "            child_id = id(value)\n",
    "            lines.append(f\"{parent_id}['{key}' -> \\\\\\\\##{child_id}].\")\n",
    "            lines.extend(format_to_ergo(value, f\"\\\\\\\\##{child_id}\"))\n",
    "        elif isinstance(value, list):\n",
    "            list_entries = []\n",
    "            for val in value:\n",
    "                if isinstance(val, int):\n",
    "                    list_entries.append(str(val))\n",
    "                else:\n",
    "                    list_entries.append(f\"\\\\\\\\##{id(val)}\")\n",
    "            lines.append(f\"{parent_id}['{key}' -> [{', '.join(list_entries)}]].\")\n",
    "            for item in value:\n",
    "                if isinstance(item, dict):\n",
    "                    lines.extend(format_to_ergo(item, f\"\\\\\\\\##{id(item)}\"))\n",
    "        else:\n",
    "            lines.append(f\"{parent_id}['{key}' -> {json.dumps(value)}].\")\n",
    "    lines.append(\":- new_global_oid_scope.\")\n",
    "    lines.append(\"?- new_global_oid_scope.\")\n",
    "    return lines\n",
    "\n",
    "\n",
    "# Generate the formatted output\n",
    "formatted_output = format_to_ergo(json_data, \"\\\\##1\")\n",
    "formatted_output\n",
    "\n",
    "# Joining all lines to form the final formatted string\n",
    "# formatted_output_string = \"\\n\".join(formatted_output)\n",
    "# formatted_output_string"
   ]
  },
  {
   "cell_type": "code",
   "execution_count": null,
   "metadata": {},
   "outputs": [],
   "source": []
  }
 ],
 "metadata": {
  "kernelspec": {
   "display_name": "Python 3",
   "language": "python",
   "name": "python3"
  },
  "language_info": {
   "codemirror_mode": {
    "name": "ipython",
    "version": 3
   },
   "file_extension": ".py",
   "mimetype": "text/x-python",
   "name": "python",
   "nbconvert_exporter": "python",
   "pygments_lexer": "ipython3",
   "version": "3.10.13"
  }
 },
 "nbformat": 4,
 "nbformat_minor": 2
}
