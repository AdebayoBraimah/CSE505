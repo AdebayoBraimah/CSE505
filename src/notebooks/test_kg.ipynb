{
 "cells": [
  {
   "cell_type": "code",
   "execution_count": 1,
   "metadata": {},
   "outputs": [],
   "source": [
    "import os\n",
    "import sys\n",
    "import time\n",
    "import pandas as pd"
   ]
  },
  {
   "cell_type": "code",
   "execution_count": 2,
   "metadata": {},
   "outputs": [],
   "source": [
    "# Define constants\n",
    "ERGOROOT: str = (\n",
    "    \"/Users/adebayobraimah/bin/ErgoEngine-3.0_release/ErgoAI/Coherent/ERGOAI_3.0/ErgoAI\"\n",
    ")\n",
    "XSBARCHDIR: str = (\n",
    "    \"/Users/adebayobraimah/bin/ErgoEngine-3.0_release/ErgoAI/Coherent/ERGOAI_3.0/XSB/config/aarch64-apple-darwin22.6.0\"\n",
    ")"
   ]
  },
  {
   "cell_type": "code",
   "execution_count": 3,
   "metadata": {},
   "outputs": [],
   "source": [
    "_PKG_PATH = \"/Users/adebayobraimah/Desktop/projects/CSE505\""
   ]
  },
  {
   "cell_type": "code",
   "execution_count": 4,
   "metadata": {},
   "outputs": [],
   "source": [
    "sys.path.append(_PKG_PATH)"
   ]
  },
  {
   "cell_type": "code",
   "execution_count": 5,
   "metadata": {},
   "outputs": [],
   "source": [
    "# sys.path.append(ERGOROOT.replace(\"\\\\\", \"/\") + \"/python\")"
   ]
  },
  {
   "cell_type": "code",
   "execution_count": 6,
   "metadata": {},
   "outputs": [],
   "source": [
    "from src.kg.knowledge_graph import scrape_sbu_solar\n",
    "from src.ergoai.ergoai import json_to_ergo"
   ]
  },
  {
   "cell_type": "code",
   "execution_count": 7,
   "metadata": {},
   "outputs": [],
   "source": [
    "url = \"https://prod.ps.stonybrook.edu/psc/csprodg/EMPLOYEE/CAMP/c/COMMUNITY_ACCESS.SSS_BROWSE_CATLG.GBL?\""
   ]
  },
  {
   "cell_type": "code",
   "execution_count": null,
   "metadata": {},
   "outputs": [],
   "source": [
    "majors = (\"cse\", \"ams\")\n",
    "# majors = (\"ams\",)\n",
    "\n",
    "for major in majors:\n",
    "    df = scrape_sbu_solar(\n",
    "        url, major_three_letter_code=major, wait_time=10, headless=True, verbose=True\n",
    "    )\n",
    "    df.to_csv(f\"{major}.csv\", index=True)\n",
    "    df.to_json(f\"{major}.json\", orient=\"index\", indent=4)\n",
    "\n",
    "    # time.sleep(10)\n",
    "    \n",
    "    json_to_ergo(json_file=f\"{major}.json\")"
   ]
  },
  {
   "cell_type": "code",
   "execution_count": null,
   "metadata": {},
   "outputs": [],
   "source": [
    "# ! cp cse.ergo /Users/adebayobraimah/Desktop/projects/CSE505/ergo_test"
   ]
  },
  {
   "cell_type": "code",
   "execution_count": null,
   "metadata": {},
   "outputs": [],
   "source": [
    "# df = scrape_sbu_solar(url,major_three_letter_code='cse',wait_time=10,headless=True,verbose=True)\n",
    "# df = scrape_sbu_solar(url, major_three_letter_code=\"ams\", wait_time=10, headless=True, verbose=True)"
   ]
  },
  {
   "cell_type": "code",
   "execution_count": 8,
   "metadata": {},
   "outputs": [
    {
     "name": "stdout",
     "output_type": "stream",
     "text": [
      "\n"
     ]
    }
   ],
   "source": [
    "# df = pd.read_csv(\"cse.csv\")\n",
    "# df.drop(columns=[\"Description\",\n",
    "#             \"Academic Group\",\n",
    "#             \"Academic Organization\",\n",
    "#             \"Course Components\",\n",
    "#             \"Grading Basis\",], axis=1, inplace=True)\n",
    "# json_to_ergo(json_file=\"cse.json\")\n",
    "# ! cp cse.ergo /Users/adebayobraimah/Desktop/projects/CSE505/ergo_test"
   ]
  },
  {
   "cell_type": "code",
   "execution_count": null,
   "metadata": {},
   "outputs": [],
   "source": [
    "! cp cse.ergo /Users/adebayobraimah/Desktop/projects/CSE505/ergo_test"
   ]
  },
  {
   "cell_type": "code",
   "execution_count": null,
   "metadata": {},
   "outputs": [],
   "source": [
    "# df"
   ]
  },
  {
   "cell_type": "code",
   "execution_count": null,
   "metadata": {},
   "outputs": [],
   "source": [
    "# df.to_csv(\"cse.csv\",index=True)\n",
    "# df.to_csv(\"ams.csv\",index=True)"
   ]
  },
  {
   "cell_type": "code",
   "execution_count": null,
   "metadata": {},
   "outputs": [],
   "source": [
    "# df.to_json(\"cse.json\", orient=\"index\", indent=4)\n",
    "# df.to_json(\"ams.json\", orient=\"index\", indent=4)"
   ]
  },
  {
   "cell_type": "code",
   "execution_count": null,
   "metadata": {},
   "outputs": [],
   "source": [
    "# json_to_ergo(json_file=\"cse.json\")\n",
    "# json_to_ergo(json_file=\"ams.json\")"
   ]
  },
  {
   "cell_type": "code",
   "execution_count": null,
   "metadata": {},
   "outputs": [],
   "source": [
    "# time.sleep(10)\n",
    "\n",
    "# json_to_ergo(\n",
    "#     json_file=\"/Users/adebayobraimah/Desktop/projects/CSE505/src/notebooks/ergo_nbs/json_to_ergo/sample.json\",\n",
    "#     output_file=\"/Users/adebayobraimah/Desktop/projects/CSE505/ergo_test/sample.ergo\",\n",
    "# )"
   ]
  },
  {
   "cell_type": "code",
   "execution_count": null,
   "metadata": {},
   "outputs": [],
   "source": [
    "# command = \"pip install selenium\""
   ]
  },
  {
   "cell_type": "code",
   "execution_count": null,
   "metadata": {},
   "outputs": [],
   "source": [
    "# import shlex\n",
    "# import subprocess"
   ]
  },
  {
   "cell_type": "code",
   "execution_count": null,
   "metadata": {},
   "outputs": [],
   "source": [
    "# command = shlex.split(command)\n",
    "# command"
   ]
  },
  {
   "cell_type": "code",
   "execution_count": null,
   "metadata": {},
   "outputs": [],
   "source": [
    "# subprocess.run(command, check=True)"
   ]
  },
  {
   "cell_type": "code",
   "execution_count": null,
   "metadata": {},
   "outputs": [],
   "source": []
  }
 ],
 "metadata": {
  "kernelspec": {
   "display_name": "Python 3",
   "language": "python",
   "name": "python3"
  },
  "language_info": {
   "codemirror_mode": {
    "name": "ipython",
    "version": 3
   },
   "file_extension": ".py",
   "mimetype": "text/x-python",
   "name": "python",
   "nbconvert_exporter": "python",
   "pygments_lexer": "ipython3",
   "version": "3.10.13"
  }
 },
 "nbformat": 4,
 "nbformat_minor": 2
}
