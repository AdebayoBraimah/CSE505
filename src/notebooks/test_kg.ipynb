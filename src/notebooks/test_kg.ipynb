{
 "cells": [
  {
   "cell_type": "code",
   "execution_count": 1,
   "metadata": {},
   "outputs": [],
   "source": [
    "import os\n",
    "import sys"
   ]
  },
  {
   "cell_type": "code",
   "execution_count": 2,
   "metadata": {},
   "outputs": [],
   "source": [
    "# Define constants\n",
    "ERGOROOT: str = (\n",
    "    \"/Users/adebayobraimah/bin/ErgoEngine-3.0_release/ErgoAI/Coherent/ERGOAI_3.0/ErgoAI\"\n",
    ")\n",
    "XSBARCHDIR: str = (\n",
    "    \"/Users/adebayobraimah/bin/ErgoEngine-3.0_release/ErgoAI/Coherent/ERGOAI_3.0/XSB/config/aarch64-apple-darwin22.6.0\"\n",
    ")"
   ]
  },
  {
   "cell_type": "code",
   "execution_count": 3,
   "metadata": {},
   "outputs": [],
   "source": [
    "_PKG_PATH = \"/Users/adebayobraimah/Desktop/projects/CSE505\""
   ]
  },
  {
   "cell_type": "code",
   "execution_count": 4,
   "metadata": {},
   "outputs": [],
   "source": [
    "sys.path.append(ERGOROOT.replace(\"\\\\\", \"/\") + \"/python\")"
   ]
  },
  {
   "cell_type": "code",
   "execution_count": 5,
   "metadata": {},
   "outputs": [],
   "source": [
    "sys.path.append(_PKG_PATH)"
   ]
  },
  {
   "cell_type": "code",
   "execution_count": 6,
   "metadata": {},
   "outputs": [],
   "source": [
    "from src.kg.knowledge_graph import scrape_sbu_solar"
   ]
  },
  {
   "cell_type": "code",
   "execution_count": 7,
   "metadata": {},
   "outputs": [],
   "source": [
    "url = \"https://prod.ps.stonybrook.edu/psc/csprodg/EMPLOYEE/CAMP/c/COMMUNITY_ACCESS.SSS_BROWSE_CATLG.GBL?\""
   ]
  },
  {
   "cell_type": "code",
   "execution_count": 8,
   "metadata": {},
   "outputs": [
    {
     "name": "stdout",
     "output_type": "stream",
     "text": [
      "\n",
      "Scraping course information for CSE...\n",
      "\n",
      "Processing course: 101...\n",
      "Processing course: 102...\n",
      "Processing course: 110...\n",
      "Processing course: (113)...\n",
      "Processing course: 114...\n",
      "Processing course: 130...\n",
      "Processing course: 150...\n",
      "Processing course: 160...\n",
      "Processing course: 161...\n",
      "Processing course: 190...\n",
      "Processing course: 191...\n",
      "Processing course: 192...\n",
      "Processing course: (213)...\n",
      "Processing course: 214...\n",
      "Processing course: 215...\n",
      "Processing course: 216...\n",
      "Processing course: 220...\n",
      "Processing course: 230...\n",
      "Processing course: 260...\n",
      "Processing course: 261...\n",
      "Processing course: 300...\n",
      "Processing course: 301...\n",
      "Processing course: 303...\n",
      "Processing course: 304...\n",
      "Processing course: 305...\n",
      "Processing course: 306...\n",
      "Processing course: 307...\n",
      "Processing course: 310...\n",
      "Processing course: 311...\n",
      "Processing course: 312...\n",
      "Processing course: 316...\n",
      "Processing course: 320...\n",
      "Processing course: 323...\n",
      "Processing course: 325...\n",
      "Processing course: 327...\n",
      "Processing course: 328...\n",
      "Processing course: 331...\n",
      "Processing course: 332...\n",
      "Processing course: 333...\n",
      "Processing course: 334...\n",
      "Processing course: 336...\n",
      "Processing course: 337...\n",
      "Processing course: 350...\n",
      "Processing course: 351...\n",
      "Processing course: 352...\n",
      "Processing course: 353...\n",
      "Processing course: 354...\n",
      "Processing course: 355...\n",
      "Processing course: 356...\n",
      "Processing course: 357...\n",
      "Processing course: 360...\n",
      "Processing course: 361...\n",
      "Processing course: 362...\n",
      "Processing course: 363...\n",
      "Processing course: 364...\n",
      "Processing course: 366...\n",
      "Processing course: 370...\n",
      "Processing course: 371...\n",
      "Processing course: 373...\n",
      "Processing course: 376...\n",
      "Processing course: 377...\n",
      "Processing course: 378...\n",
      "Processing course: 380...\n",
      "Processing course: 381...\n",
      "Processing course: 385...\n",
      "Processing course: 390...\n",
      "Processing course: 391...\n",
      "Processing course: 392...\n",
      "Processing course: 393...\n",
      "Processing course: 394...\n",
      "Processing course: 416...\n",
      "Processing course: 475...\n",
      "Processing course: 487...\n",
      "Processing course: 488...\n",
      "Processing course: 495...\n",
      "Processing course: 496...\n",
      "Processing course: 502...\n",
      "Processing course: 504...\n",
      "Processing course: 505...\n",
      "Processing course: 506...\n",
      "Processing course: 507...\n",
      "Processing course: 508...\n",
      "Processing course: 509...\n",
      "Processing course: 510...\n",
      "Processing course: 511...\n",
      "Processing course: 512...\n",
      "Processing course: 514...\n",
      "Processing course: 515...\n",
      "Processing course: 516...\n",
      "Processing course: 517...\n",
      "Processing course: 518...\n",
      "Processing course: 519...\n",
      "Processing course: 521...\n",
      "Processing course: 522...\n",
      "Processing course: 523...\n",
      "Processing course: 524...\n",
      "Processing course: 525...\n",
      "Processing course: 526...\n",
      "Processing course: 527...\n",
      "Processing course: 528...\n",
      "Processing course: 529...\n",
      "Processing course: 530...\n",
      "Processing course: 531...\n",
      "Processing course: 532...\n",
      "Processing course: 533...\n",
      "Processing course: 534...\n",
      "Processing course: 535...\n",
      "Processing course: 536...\n",
      "Processing course: 537...\n",
      "Processing course: 538...\n",
      "Processing course: 540...\n",
      "Processing course: 541...\n",
      "Processing course: 542...\n",
      "Processing course: 544...\n",
      "Processing course: 545...\n",
      "Processing course: 546...\n",
      "Processing course: 547...\n",
      "Processing course: 548...\n",
      "Processing course: 549...\n",
      "Processing course: 550...\n",
      "Processing course: 551...\n",
      "Processing course: 552...\n",
      "Processing course: 555...\n",
      "Processing course: 564...\n",
      "Processing course: 566...\n",
      "Processing course: 570...\n",
      "Processing course: 577...\n",
      "Processing course: 581...\n",
      "Processing course: 582...\n",
      "Processing course: 583...\n",
      "Processing course: 587...\n",
      "Processing course: 590...\n",
      "Processing course: 591...\n",
      "Processing course: 592...\n",
      "Processing course: 593...\n",
      "Processing course: 594...\n",
      "Processing course: 595...\n",
      "Processing course: 596...\n",
      "Processing course: 597...\n",
      "Processing course: 599...\n",
      "Processing course: 600...\n",
      "Processing course: 602...\n",
      "Processing course: 605...\n",
      "Processing course: 608...\n",
      "Processing course: 610...\n",
      "Processing course: 613...\n",
      "Processing course: 614...\n",
      "Processing course: 615...\n",
      "Processing course: 617...\n",
      "Processing course: 620...\n",
      "Processing course: 621...\n",
      "Processing course: 624...\n",
      "Processing course: 625...\n",
      "Processing course: 626...\n",
      "Processing course: 628...\n",
      "Processing course: 633...\n",
      "Processing course: 638...\n",
      "Processing course: 639...\n",
      "Processing course: 641...\n",
      "Processing course: 642...\n",
      "Processing course: 643...\n",
      "Processing course: 644...\n",
      "Processing course: 645...\n",
      "Processing course: 646...\n",
      "Processing course: 648...\n",
      "Processing course: 649...\n",
      "Processing course: 650...\n",
      "Processing course: 651...\n",
      "Processing course: 652...\n",
      "Processing course: 653...\n",
      "Processing course: 654...\n",
      "Processing course: 655...\n",
      "Processing course: 656...\n",
      "Processing course: 657...\n",
      "Processing course: 658...\n",
      "Processing course: 659...\n",
      "Processing course: 660...\n",
      "Processing course: 660...\n",
      "Processing course: 661...\n",
      "Processing course: 662...\n",
      "Processing course: 663...\n",
      "Processing course: 664...\n",
      "Processing course: 665...\n",
      "Processing course: 669...\n",
      "Processing course: 670...\n",
      "Processing course: 671...\n",
      "Processing course: 672...\n",
      "Processing course: 674...\n",
      "Processing course: 677...\n",
      "Processing course: 681...\n",
      "Processing course: 684...\n",
      "Processing course: 686...\n",
      "Processing course: 687...\n",
      "Processing course: 690...\n",
      "Processing course: 691...\n",
      "Processing course: 692...\n",
      "Processing course: 693...\n",
      "Processing course: (694)...\n",
      "Processing course: (695)...\n",
      "Processing course: 696...\n",
      "Processing course: 697...\n",
      "Processing course: 698...\n",
      "Processing course: 699...\n",
      "Processing course: 700...\n",
      "Processing course: 701...\n",
      "Processing course: 800...\n"
     ]
    }
   ],
   "source": [
    "df = scrape_sbu_solar(url,major_three_letter_code='cse',wait_time=10,headless=True,verbose=True)"
   ]
  },
  {
   "cell_type": "code",
   "execution_count": 9,
   "metadata": {},
   "outputs": [],
   "source": [
    "df.to_csv(\"cse.csv\",index=True)"
   ]
  },
  {
   "cell_type": "code",
   "execution_count": 10,
   "metadata": {},
   "outputs": [],
   "source": [
    "df.to_json(\"cse.json\", orient=\"index\", indent=4)"
   ]
  },
  {
   "cell_type": "code",
   "execution_count": 11,
   "metadata": {},
   "outputs": [],
   "source": [
    "from src.ergoai.ergoai import json_to_ergo"
   ]
  },
  {
   "cell_type": "code",
   "execution_count": 12,
   "metadata": {},
   "outputs": [
    {
     "name": "stdout",
     "output_type": "stream",
     "text": [
      "\n"
     ]
    },
    {
     "data": {
      "text/plain": [
       "'/Users/adebayobraimah/Desktop/projects/CSE505/src/notebooks/cse.ergo'"
      ]
     },
     "execution_count": 12,
     "metadata": {},
     "output_type": "execute_result"
    }
   ],
   "source": [
    "json_to_ergo(json_file=\"cse.json\")"
   ]
  },
  {
   "cell_type": "code",
   "execution_count": null,
   "metadata": {},
   "outputs": [],
   "source": []
  }
 ],
 "metadata": {
  "kernelspec": {
   "display_name": "Python 3",
   "language": "python",
   "name": "python3"
  },
  "language_info": {
   "codemirror_mode": {
    "name": "ipython",
    "version": 3
   },
   "file_extension": ".py",
   "mimetype": "text/x-python",
   "name": "python",
   "nbconvert_exporter": "python",
   "pygments_lexer": "ipython3",
   "version": "3.10.13"
  }
 },
 "nbformat": 4,
 "nbformat_minor": 2
}
