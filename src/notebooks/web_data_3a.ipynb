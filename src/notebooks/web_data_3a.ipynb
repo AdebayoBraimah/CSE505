{
 "cells": [
  {
   "cell_type": "code",
   "execution_count": 1,
   "metadata": {},
   "outputs": [],
   "source": [
    "from selenium import webdriver\n",
    "from selenium.webdriver.common.by import By\n",
    "from selenium.webdriver.support.ui import WebDriverWait\n",
    "from selenium.webdriver.support import expected_conditions as EC\n",
    "from selenium.common.exceptions import NoSuchElementException\n",
    "import csv\n",
    "import time"
   ]
  },
  {
   "cell_type": "code",
   "execution_count": 2,
   "metadata": {},
   "outputs": [],
   "source": [
    "import pandas as pd\n",
    "from bs4 import BeautifulSoup"
   ]
  },
  {
   "cell_type": "code",
   "execution_count": 3,
   "metadata": {},
   "outputs": [],
   "source": [
    "from typing import List, Dict, Tuple"
   ]
  },
  {
   "cell_type": "code",
   "execution_count": 4,
   "metadata": {},
   "outputs": [],
   "source": [
    "url = \"https://prod.ps.stonybrook.edu/psc/csprodg/EMPLOYEE/CAMP/c/COMMUNITY_ACCESS.SSS_BROWSE_CATLG.GBL?\""
   ]
  },
  {
   "cell_type": "code",
   "execution_count": 5,
   "metadata": {},
   "outputs": [],
   "source": [
    "# Setup Selenium WebDriver\n",
    "driver = webdriver.Chrome()\n",
    "driver.get(url)"
   ]
  },
  {
   "cell_type": "code",
   "execution_count": 6,
   "metadata": {},
   "outputs": [],
   "source": [
    "# NOTE: If Major ID starts with 'A', skip this step.\n",
    "#\n",
    "# Wait for the page to load and click on 'C' in the red box\n",
    "WebDriverWait(driver, 10).until(\n",
    "    EC.element_to_be_clickable((By.LINK_TEXT, 'C'))\n",
    "    # EC.element_to_be_clickable((By.LINK_TEXT, \"A\"))\n",
    ").click()"
   ]
  },
  {
   "cell_type": "code",
   "execution_count": 7,
   "metadata": {},
   "outputs": [],
   "source": [
    "# Click on 'CSE - Computer Science' in the red box\n",
    "WebDriverWait(driver, 10).until(\n",
    "    EC.element_to_be_clickable((By.PARTIAL_LINK_TEXT, 'CSE'))\n",
    "    # EC.element_to_be_clickable((By.PARTIAL_LINK_TEXT, \"AAS\"))\n",
    ").click()"
   ]
  },
  {
   "cell_type": "code",
   "execution_count": 8,
   "metadata": {},
   "outputs": [],
   "source": [
    "# Wait for the table to load and then scrape the data\n",
    "time.sleep(\n",
    "    5\n",
    ")  # Time to wait for javascript to load the table.\n",
    "table = driver.find_elements(By.TAG_NAME, \"tbody\")\n",
    "\n",
    "for tab in reversed(table):\n",
    "# for tab in table:\n",
    "    # print(table.index(tab))\n",
    "    try:\n",
    "        tab.find_element(By.PARTIAL_LINK_TEXT, 'Course Nbr')\n",
    "    except:\n",
    "        # except (AttributeError, NoSuchElementException):\n",
    "        table.remove(tab)\n",
    "\n",
    "table = table[-1]"
   ]
  },
  {
   "cell_type": "code",
   "execution_count": 9,
   "metadata": {},
   "outputs": [
    {
     "data": {
      "text/plain": [
       "True"
      ]
     },
     "execution_count": 9,
     "metadata": {},
     "output_type": "execute_result"
    }
   ],
   "source": [
    "table.is_displayed()"
   ]
  },
  {
   "cell_type": "code",
   "execution_count": 10,
   "metadata": {},
   "outputs": [
    {
     "data": {
      "text/plain": [
       "'Course Nbr Course Title\\n101\\nComputer Science Principles\\n102\\nIntroduction to Web Design and Programming\\n110\\nIntroduction to Computer Science\\n(113)\\nFoundations of Computer Science I\\n\\n** available as of 08/20/2024\\n114\\nIntroduction to Object-Oriented Programming\\n130\\nIntroduction to Programming in C\\n150\\nFoundations of Computer Science: Honors\\n160\\nComputer Science A: Honors\\n161\\nLaboratory for Computer Science A: Honors\\n190\\nSpecial Topics in Practice and Applications of Computer Science\\n191\\nSpecial Topics in Practice and Applications for Computer Science\\n192\\nSpecial Topics in Practice and Applications for Computer Science\\n(213)\\nFoundations of Computer Science II\\n\\n** available as of 08/20/2025\\n214\\nData Structures\\n215\\nFoundations of Computer Science\\n216\\nProgramming Abstractions\\n220\\nSystems Fundamentals I\\n230\\nIntermediate Programming in C and C++\\n260\\nComputer Science B: Honors\\n261\\nLaboratory for Computer Science B: Honors\\n300\\nTechnical Communications\\n301\\nHistory of Computing\\n303\\nIntroduction to the Theory of Computation\\n304\\nCompiler Design\\n305\\nPrinciples of Database Systems\\n306\\nOperating Systems\\n307\\nPrinciples of Programming Languages\\n310\\nComputer Networks\\n311\\nSystems Administration\\n312\\nSocial, Legal, and Ethical Issues in Computing\\n316\\nFundamentals of Software Development\\n320\\nSystems Fundamentals II\\n323\\nHuman-Computer Interaction\\n325\\nComputers and Sculpture\\n327\\nFundamentals of Computer Vision\\n328\\nFundamentals of Computer Graphics\\n331\\nComputer Security Fundamentals\\n332\\nIntroduction to Visualization\\n333\\nUser Interface Development\\n334\\nIntroduction to Multimedia Systems\\n336\\nInternet Programming\\n337\\nScripting Languages\\n350\\nTheory of Computation: Honors\\n351\\nIntroduction to Data Science\\n352\\nArtificial Intelligence\\n353\\nMachine Learning\\n354\\nNatural Language Processing\\n355\\nComputational Geometry\\n356\\nCloud Computing\\n357\\nStatistical Methods for Data Science\\n360\\nSoftware Security\\n361\\nWeb Security\\n362\\nMobile Security\\n363\\nOffensive Security\\n364\\nAdvanced Multimedia Techniques\\n366\\nIntroduction to Virtual Reality\\n370\\nWireless and Mobile Networking\\n371\\nLogic\\n373\\nAnalysis of Algorithms\\n376\\nAdvanced Systems Programming in UNIX/C\\n377\\nIntroduction to Medical Imaging\\n378\\nIntroduction to Robotics\\n380\\n2D Game Programming\\n381\\n3D Game Programming\\n385\\nAnalysis of Algorithms: Honors\\n390\\nSpecial Topics in Computer Science\\n391\\nSpecial Topics in Computer Science\\n392\\nSpecial Topics in Computer Science\\n393\\nSpecial Topics in Computer Science\\n394\\nSpecial Topics in Computer Science\\n416\\nSoftware Engineering\\n475\\nUndergraduate Teaching Practicum\\n487\\nResearch in Computer Science\\n488\\nInternship in Computer Science\\n495\\nSenior Honors Research Project I\\n496\\nSenior Honors Research Project II\\n502\\nComputer Architecture\\n504\\nCompiler Design\\n505\\nComputing with Logic\\n506\\nOperating Systems\\n507\\nIntroduction to Computational Linguistics\\n508\\nNetwork Security\\n509\\nComputer System Security\\n510\\nHybrid Systems\\n511\\nBrain and Memory Modeling\\n512\\nMachine Learning\\n514\\nData Analytics Software Stacks and Algorithms\\n515\\nIntroduction to Transaction Processing Systems\\n516\\nScience for Society I\\n517\\nScience for Society II\\n518\\nFoundations of Human Computer Interactions\\n519\\nData Science Fundamentals\\n521\\nData Mining Concepts and Techniques\\n522\\nSpecial Project in Computer Science\\n523\\nAdvanced Project in Computer Science I\\n524\\nAdvanced Project in Computer Science II\\n525\\nIntroduction to Robotics\\n526\\nPrinciples of Programming Languages\\n527\\nIntroduction to Computer Vision\\n528\\nComputer Graphics\\n529\\nSimulation and Modeling\\n530\\nGeometric Foundations of Graphics and Visualization\\n531\\nPerformance Analysis of Systems\\n532\\nTheory of Database Systems\\n533\\nNetwork Programming\\n534\\nFundamentals of Computer Networks\\n535\\nDistributed Systems\\n536\\nIntroduction to User-Interface Development\\n537\\nArtificial Intelligence\\n538\\nNatural Language Processing\\n540\\nTheory of Computation\\n541\\nLogic in Computer Science\\n542\\nBig Data Systems, Algorithms and Networks\\n544\\nProbability and Statistics for Data Scientists\\n545\\nBig Data Analytics\\n546\\nCryptography\\n547\\nDiscrete Mathematics\\n548\\nAnalysis of Algorithms\\n549\\nComputational Biology\\n550\\nQuantum Computing and Applications\\n551\\nSmart Energy in the Information Age\\n552\\nEnergy Efficient Computing\\n555\\nComputational Geometry\\n564\\nVisualization\\n566\\nVirtual Reality\\n570\\nWireless and Mobile Networks\\n577\\nMedical Imaging\\n581\\nComputer Science Fundamentals: Theory\\n582\\nComputer Science Fundamentals: Data Structures and Algorithms\\n583\\nComp Sci Fundamentals: Prog.Abstract.\\n587\\nProficiency Requirement\\n590\\nTopics in Computer Science\\n591\\nTopics in Computer Science\\n592\\nAdvanced Topics in Computer Science\\n593\\nIndependent Study in Computer Science\\n594\\nAdvanced Topics in Computer Science\\n595\\nAdvanced Topics in Computer Science\\n596\\nMS Internship Project Off-Campus\\n597\\nMS Internship Project on Campus\\n599\\nM.S. Thesis Research\\n600\\nResearch in Modern Computer Science\\n602\\nAdvanced Computer Architecture\\n605\\nPerformance Evaluation of Computer Systems\\n608\\nAdvanced Computer Security\\n610\\nParallel Computer Architectures\\n613\\nParallel Programming\\n614\\nAdvanced Programming Languages\\n615\\nAdvanced Computer Vision\\n617\\nAdvanced Topics in Wireless Networks\\n620\\nVirtual Reality\\n621\\nPhysics-based Modeling for Visual Computing\\n624\\nAdvanced Operating Systems\\n625\\nAdvanced Asynchronous Systems\\n626\\nSwitching and Routing in Parallel and Distributed Systems\\n628\\nNatural Language Processing\\n633\\nComputability and Undecidability\\n638\\nAdvanced Algorithms\\n639\\nSeminar in Advanced Topics in Computer Science\\n641\\nSeminar in Logic in Computer Science\\n642\\nSeminar in Algorithms\\n643\\nSeminar in Concurrency\\n644\\nSeminar in Databases\\n645\\nSeminar in Languages\\n646\\nSeminar in Artificial Intelligence\\n648\\nSeminar in Graphics\\n649\\nSeminar in Operating Systems\\n650\\nSeminar in Architecture\\n651\\nSeminar in Secure Computation\\n652\\nSeminar in User Interfaces\\n653\\nSeminar in Virtual Reality\\n654\\nSeminar in Visualization\\n655\\nSeminar in Natural Language Processing\\n656\\nSeminar in Computer Vision\\n657\\nSeminar in Design Analysis\\n658\\nSeminar on Mobile and Wireless Networking\\n659\\nSeminar in Computer Security\\n660\\nSeminar in Sustainable Computing\\n660\\nSeminar in Media Networks\\n661\\nSeminar in Data Privacy\\n662\\nSeminar in Medical Imaging\\n663\\nCyber Physical Systems and Verification\\n664\\nDistributed Systems\\n665\\nSpecial Topics in Theory of Computing\\n669\\nSpecial Topics in Databases\\n670\\nSpecial Topics in Languages\\n671\\nSpecial Topics in Artificial Intelligence\\n672\\nSpecial Topics in Image Processing\\n674\\nSpecial Topics in Operating Systems\\n677\\nSpecial Topics in User Interfaces\\n681\\nSpecial Topics in Computer Vision\\n684\\nSpecial Topics in Computer Security\\n686\\nSpecial Topics in Data Privacy\\n687\\nSpecial Topics in Applied Cryptography\\n690\\nAdvanced Topics in Computer Science\\n691\\nAdvanced Topics in Computer Science\\n692\\nAdvanced Topics in Computer Science\\n693\\nAdvanced Topics in Computer Science\\n(694)\\nSeminar in Sustainable Computing\\n\\n** available as of 05/20/2024\\n(695)\\nSeminar in Deep Learning Theory\\n\\n** available as of 05/20/2024\\n696\\nPhD Internship Project Off-Campus\\n697\\nPhD Internship Project On Campus\\n698\\nPracticum in Teaching\\n699\\nDissertation Research on Campus\\n700\\nDissertation Research off Campus - Domestic\\n701\\nDissertation Research off Campus - International\\n800\\nFT SUMMER RESEARCH'"
      ]
     },
     "execution_count": 10,
     "metadata": {},
     "output_type": "execute_result"
    }
   ],
   "source": [
    "table.text\n"
   ]
  },
  {
   "cell_type": "code",
   "execution_count": null,
   "metadata": {},
   "outputs": [],
   "source": []
  },
  {
   "cell_type": "code",
   "execution_count": 11,
   "metadata": {},
   "outputs": [
    {
     "data": {
      "text/plain": [
       "['Course Nbr', 'Course Title']"
      ]
     },
     "execution_count": 11,
     "metadata": {},
     "output_type": "execute_result"
    }
   ],
   "source": [
    "# Extract headers\n",
    "headers = [header.text for header in table.find_elements(By.TAG_NAME, \"th\")]\n",
    "headers"
   ]
  },
  {
   "cell_type": "code",
   "execution_count": 12,
   "metadata": {},
   "outputs": [
    {
     "data": {
      "text/plain": [
       "[['101', 'Computer Science Principles'],\n",
       " ['102', 'Introduction to Web Design and Programming'],\n",
       " ['110', 'Introduction to Computer Science'],\n",
       " ['(113)',\n",
       "  'Foundations of Computer Science I\\n\\n** available as of 08/20/2024'],\n",
       " ['114', 'Introduction to Object-Oriented Programming'],\n",
       " ['130', 'Introduction to Programming in C'],\n",
       " ['150', 'Foundations of Computer Science: Honors'],\n",
       " ['160', 'Computer Science A: Honors'],\n",
       " ['161', 'Laboratory for Computer Science A: Honors'],\n",
       " ['190', 'Special Topics in Practice and Applications of Computer Science'],\n",
       " ['191', 'Special Topics in Practice and Applications for Computer Science'],\n",
       " ['192', 'Special Topics in Practice and Applications for Computer Science'],\n",
       " ['(213)',\n",
       "  'Foundations of Computer Science II\\n\\n** available as of 08/20/2025'],\n",
       " ['214', 'Data Structures'],\n",
       " ['215', 'Foundations of Computer Science'],\n",
       " ['216', 'Programming Abstractions'],\n",
       " ['220', 'Systems Fundamentals I'],\n",
       " ['230', 'Intermediate Programming in C and C++'],\n",
       " ['260', 'Computer Science B: Honors'],\n",
       " ['261', 'Laboratory for Computer Science B: Honors'],\n",
       " ['300', 'Technical Communications'],\n",
       " ['301', 'History of Computing'],\n",
       " ['303', 'Introduction to the Theory of Computation'],\n",
       " ['304', 'Compiler Design'],\n",
       " ['305', 'Principles of Database Systems'],\n",
       " ['306', 'Operating Systems'],\n",
       " ['307', 'Principles of Programming Languages'],\n",
       " ['310', 'Computer Networks'],\n",
       " ['311', 'Systems Administration'],\n",
       " ['312', 'Social, Legal, and Ethical Issues in Computing'],\n",
       " ['316', 'Fundamentals of Software Development'],\n",
       " ['320', 'Systems Fundamentals II'],\n",
       " ['323', 'Human-Computer Interaction'],\n",
       " ['325', 'Computers and Sculpture'],\n",
       " ['327', 'Fundamentals of Computer Vision'],\n",
       " ['328', 'Fundamentals of Computer Graphics'],\n",
       " ['331', 'Computer Security Fundamentals'],\n",
       " ['332', 'Introduction to Visualization'],\n",
       " ['333', 'User Interface Development'],\n",
       " ['334', 'Introduction to Multimedia Systems'],\n",
       " ['336', 'Internet Programming'],\n",
       " ['337', 'Scripting Languages'],\n",
       " ['350', 'Theory of Computation: Honors'],\n",
       " ['351', 'Introduction to Data Science'],\n",
       " ['352', 'Artificial Intelligence'],\n",
       " ['353', 'Machine Learning'],\n",
       " ['354', 'Natural Language Processing'],\n",
       " ['355', 'Computational Geometry'],\n",
       " ['356', 'Cloud Computing'],\n",
       " ['357', 'Statistical Methods for Data Science'],\n",
       " ['360', 'Software Security'],\n",
       " ['361', 'Web Security'],\n",
       " ['362', 'Mobile Security'],\n",
       " ['363', 'Offensive Security'],\n",
       " ['364', 'Advanced Multimedia Techniques'],\n",
       " ['366', 'Introduction to Virtual Reality'],\n",
       " ['370', 'Wireless and Mobile Networking'],\n",
       " ['371', 'Logic'],\n",
       " ['373', 'Analysis of Algorithms'],\n",
       " ['376', 'Advanced Systems Programming in UNIX/C'],\n",
       " ['377', 'Introduction to Medical Imaging'],\n",
       " ['378', 'Introduction to Robotics'],\n",
       " ['380', '2D Game Programming'],\n",
       " ['381', '3D Game Programming'],\n",
       " ['385', 'Analysis of Algorithms: Honors'],\n",
       " ['390', 'Special Topics in Computer Science'],\n",
       " ['391', 'Special Topics in Computer Science'],\n",
       " ['392', 'Special Topics in Computer Science'],\n",
       " ['393', 'Special Topics in Computer Science'],\n",
       " ['394', 'Special Topics in Computer Science'],\n",
       " ['416', 'Software Engineering'],\n",
       " ['475', 'Undergraduate Teaching Practicum'],\n",
       " ['487', 'Research in Computer Science'],\n",
       " ['488', 'Internship in Computer Science'],\n",
       " ['495', 'Senior Honors Research Project I'],\n",
       " ['496', 'Senior Honors Research Project II'],\n",
       " ['502', 'Computer Architecture'],\n",
       " ['504', 'Compiler Design'],\n",
       " ['505', 'Computing with Logic'],\n",
       " ['506', 'Operating Systems'],\n",
       " ['507', 'Introduction to Computational Linguistics'],\n",
       " ['508', 'Network Security'],\n",
       " ['509', 'Computer System Security'],\n",
       " ['510', 'Hybrid Systems'],\n",
       " ['511', 'Brain and Memory Modeling'],\n",
       " ['512', 'Machine Learning'],\n",
       " ['514', 'Data Analytics Software Stacks and Algorithms'],\n",
       " ['515', 'Introduction to Transaction Processing Systems'],\n",
       " ['516', 'Science for Society I'],\n",
       " ['517', 'Science for Society II'],\n",
       " ['518', 'Foundations of Human Computer Interactions'],\n",
       " ['519', 'Data Science Fundamentals'],\n",
       " ['521', 'Data Mining Concepts and Techniques'],\n",
       " ['522', 'Special Project in Computer Science'],\n",
       " ['523', 'Advanced Project in Computer Science I'],\n",
       " ['524', 'Advanced Project in Computer Science II'],\n",
       " ['525', 'Introduction to Robotics'],\n",
       " ['526', 'Principles of Programming Languages'],\n",
       " ['527', 'Introduction to Computer Vision'],\n",
       " ['528', 'Computer Graphics'],\n",
       " ['529', 'Simulation and Modeling'],\n",
       " ['530', 'Geometric Foundations of Graphics and Visualization'],\n",
       " ['531', 'Performance Analysis of Systems'],\n",
       " ['532', 'Theory of Database Systems'],\n",
       " ['533', 'Network Programming'],\n",
       " ['534', 'Fundamentals of Computer Networks'],\n",
       " ['535', 'Distributed Systems'],\n",
       " ['536', 'Introduction to User-Interface Development'],\n",
       " ['537', 'Artificial Intelligence'],\n",
       " ['538', 'Natural Language Processing'],\n",
       " ['540', 'Theory of Computation'],\n",
       " ['541', 'Logic in Computer Science'],\n",
       " ['542', 'Big Data Systems, Algorithms and Networks'],\n",
       " ['544', 'Probability and Statistics for Data Scientists'],\n",
       " ['545', 'Big Data Analytics'],\n",
       " ['546', 'Cryptography'],\n",
       " ['547', 'Discrete Mathematics'],\n",
       " ['548', 'Analysis of Algorithms'],\n",
       " ['549', 'Computational Biology'],\n",
       " ['550', 'Quantum Computing and Applications'],\n",
       " ['551', 'Smart Energy in the Information Age'],\n",
       " ['552', 'Energy Efficient Computing'],\n",
       " ['555', 'Computational Geometry'],\n",
       " ['564', 'Visualization'],\n",
       " ['566', 'Virtual Reality'],\n",
       " ['570', 'Wireless and Mobile Networks'],\n",
       " ['577', 'Medical Imaging'],\n",
       " ['581', 'Computer Science Fundamentals: Theory'],\n",
       " ['582', 'Computer Science Fundamentals: Data Structures and Algorithms'],\n",
       " ['583', 'Comp Sci Fundamentals: Prog.Abstract.'],\n",
       " ['587', 'Proficiency Requirement'],\n",
       " ['590', 'Topics in Computer Science'],\n",
       " ['591', 'Topics in Computer Science'],\n",
       " ['592', 'Advanced Topics in Computer Science'],\n",
       " ['593', 'Independent Study in Computer Science'],\n",
       " ['594', 'Advanced Topics in Computer Science'],\n",
       " ['595', 'Advanced Topics in Computer Science'],\n",
       " ['596', 'MS Internship Project Off-Campus'],\n",
       " ['597', 'MS Internship Project on Campus'],\n",
       " ['599', 'M.S. Thesis Research'],\n",
       " ['600', 'Research in Modern Computer Science'],\n",
       " ['602', 'Advanced Computer Architecture'],\n",
       " ['605', 'Performance Evaluation of Computer Systems'],\n",
       " ['608', 'Advanced Computer Security'],\n",
       " ['610', 'Parallel Computer Architectures'],\n",
       " ['613', 'Parallel Programming'],\n",
       " ['614', 'Advanced Programming Languages'],\n",
       " ['615', 'Advanced Computer Vision'],\n",
       " ['617', 'Advanced Topics in Wireless Networks'],\n",
       " ['620', 'Virtual Reality'],\n",
       " ['621', 'Physics-based Modeling for Visual Computing'],\n",
       " ['624', 'Advanced Operating Systems'],\n",
       " ['625', 'Advanced Asynchronous Systems'],\n",
       " ['626', 'Switching and Routing in Parallel and Distributed Systems'],\n",
       " ['628', 'Natural Language Processing'],\n",
       " ['633', 'Computability and Undecidability'],\n",
       " ['638', 'Advanced Algorithms'],\n",
       " ['639', 'Seminar in Advanced Topics in Computer Science'],\n",
       " ['641', 'Seminar in Logic in Computer Science'],\n",
       " ['642', 'Seminar in Algorithms'],\n",
       " ['643', 'Seminar in Concurrency'],\n",
       " ['644', 'Seminar in Databases'],\n",
       " ['645', 'Seminar in Languages'],\n",
       " ['646', 'Seminar in Artificial Intelligence'],\n",
       " ['648', 'Seminar in Graphics'],\n",
       " ['649', 'Seminar in Operating Systems'],\n",
       " ['650', 'Seminar in Architecture'],\n",
       " ['651', 'Seminar in Secure Computation'],\n",
       " ['652', 'Seminar in User Interfaces'],\n",
       " ['653', 'Seminar in Virtual Reality'],\n",
       " ['654', 'Seminar in Visualization'],\n",
       " ['655', 'Seminar in Natural Language Processing'],\n",
       " ['656', 'Seminar in Computer Vision'],\n",
       " ['657', 'Seminar in Design Analysis'],\n",
       " ['658', 'Seminar on Mobile and Wireless Networking'],\n",
       " ['659', 'Seminar in Computer Security'],\n",
       " ['660', 'Seminar in Sustainable Computing'],\n",
       " ['660', 'Seminar in Media Networks'],\n",
       " ['661', 'Seminar in Data Privacy'],\n",
       " ['662', 'Seminar in Medical Imaging'],\n",
       " ['663', 'Cyber Physical Systems and Verification'],\n",
       " ['664', 'Distributed Systems'],\n",
       " ['665', 'Special Topics in Theory of Computing'],\n",
       " ['669', 'Special Topics in Databases'],\n",
       " ['670', 'Special Topics in Languages'],\n",
       " ['671', 'Special Topics in Artificial Intelligence'],\n",
       " ['672', 'Special Topics in Image Processing'],\n",
       " ['674', 'Special Topics in Operating Systems'],\n",
       " ['677', 'Special Topics in User Interfaces'],\n",
       " ['681', 'Special Topics in Computer Vision'],\n",
       " ['684', 'Special Topics in Computer Security'],\n",
       " ['686', 'Special Topics in Data Privacy'],\n",
       " ['687', 'Special Topics in Applied Cryptography'],\n",
       " ['690', 'Advanced Topics in Computer Science'],\n",
       " ['691', 'Advanced Topics in Computer Science'],\n",
       " ['692', 'Advanced Topics in Computer Science'],\n",
       " ['693', 'Advanced Topics in Computer Science'],\n",
       " ['(694)',\n",
       "  'Seminar in Sustainable Computing\\n\\n** available as of 05/20/2024'],\n",
       " ['(695)', 'Seminar in Deep Learning Theory\\n\\n** available as of 05/20/2024'],\n",
       " ['696', 'PhD Internship Project Off-Campus'],\n",
       " ['697', 'PhD Internship Project On Campus'],\n",
       " ['698', 'Practicum in Teaching'],\n",
       " ['699', 'Dissertation Research on Campus'],\n",
       " ['700', 'Dissertation Research off Campus - Domestic'],\n",
       " ['701', 'Dissertation Research off Campus - International'],\n",
       " ['800', 'FT SUMMER RESEARCH']]"
      ]
     },
     "execution_count": 12,
     "metadata": {},
     "output_type": "execute_result"
    }
   ],
   "source": [
    "# Extract rows\n",
    "rows = []\n",
    "for row in table.find_elements(By.TAG_NAME, \"tr\"):\n",
    "    cells = [cell.text for cell in row.find_elements(By.TAG_NAME, \"td\")]\n",
    "    if cells:  # This check is to skip rows without table data cells\n",
    "        rows.append(cells)\n",
    "rows"
   ]
  },
  {
   "cell_type": "code",
   "execution_count": 13,
   "metadata": {},
   "outputs": [
    {
     "data": {
      "text/html": [
       "<div>\n",
       "<style scoped>\n",
       "    .dataframe tbody tr th:only-of-type {\n",
       "        vertical-align: middle;\n",
       "    }\n",
       "\n",
       "    .dataframe tbody tr th {\n",
       "        vertical-align: top;\n",
       "    }\n",
       "\n",
       "    .dataframe thead th {\n",
       "        text-align: right;\n",
       "    }\n",
       "</style>\n",
       "<table border=\"1\" class=\"dataframe\">\n",
       "  <thead>\n",
       "    <tr style=\"text-align: right;\">\n",
       "      <th></th>\n",
       "      <th>Course Nbr</th>\n",
       "      <th>Course Title</th>\n",
       "    </tr>\n",
       "  </thead>\n",
       "  <tbody>\n",
       "    <tr>\n",
       "      <th>0</th>\n",
       "      <td>101</td>\n",
       "      <td>Computer Science Principles</td>\n",
       "    </tr>\n",
       "    <tr>\n",
       "      <th>1</th>\n",
       "      <td>102</td>\n",
       "      <td>Introduction to Web Design and Programming</td>\n",
       "    </tr>\n",
       "    <tr>\n",
       "      <th>2</th>\n",
       "      <td>110</td>\n",
       "      <td>Introduction to Computer Science</td>\n",
       "    </tr>\n",
       "    <tr>\n",
       "      <th>3</th>\n",
       "      <td>(113)</td>\n",
       "      <td>Foundations of Computer Science I\\n\\n** availa...</td>\n",
       "    </tr>\n",
       "    <tr>\n",
       "      <th>4</th>\n",
       "      <td>114</td>\n",
       "      <td>Introduction to Object-Oriented Programming</td>\n",
       "    </tr>\n",
       "    <tr>\n",
       "      <th>...</th>\n",
       "      <td>...</td>\n",
       "      <td>...</td>\n",
       "    </tr>\n",
       "    <tr>\n",
       "      <th>201</th>\n",
       "      <td>698</td>\n",
       "      <td>Practicum in Teaching</td>\n",
       "    </tr>\n",
       "    <tr>\n",
       "      <th>202</th>\n",
       "      <td>699</td>\n",
       "      <td>Dissertation Research on Campus</td>\n",
       "    </tr>\n",
       "    <tr>\n",
       "      <th>203</th>\n",
       "      <td>700</td>\n",
       "      <td>Dissertation Research off Campus - Domestic</td>\n",
       "    </tr>\n",
       "    <tr>\n",
       "      <th>204</th>\n",
       "      <td>701</td>\n",
       "      <td>Dissertation Research off Campus - International</td>\n",
       "    </tr>\n",
       "    <tr>\n",
       "      <th>205</th>\n",
       "      <td>800</td>\n",
       "      <td>FT SUMMER RESEARCH</td>\n",
       "    </tr>\n",
       "  </tbody>\n",
       "</table>\n",
       "<p>206 rows × 2 columns</p>\n",
       "</div>"
      ],
      "text/plain": [
       "    Course Nbr                                       Course Title\n",
       "0          101                        Computer Science Principles\n",
       "1          102         Introduction to Web Design and Programming\n",
       "2          110                   Introduction to Computer Science\n",
       "3        (113)  Foundations of Computer Science I\\n\\n** availa...\n",
       "4          114        Introduction to Object-Oriented Programming\n",
       "..         ...                                                ...\n",
       "201        698                              Practicum in Teaching\n",
       "202        699                    Dissertation Research on Campus\n",
       "203        700        Dissertation Research off Campus - Domestic\n",
       "204        701   Dissertation Research off Campus - International\n",
       "205        800                                 FT SUMMER RESEARCH\n",
       "\n",
       "[206 rows x 2 columns]"
      ]
     },
     "execution_count": 13,
     "metadata": {},
     "output_type": "execute_result"
    }
   ],
   "source": [
    "df = pd.DataFrame(rows, columns=headers)\n",
    "df"
   ]
  },
  {
   "cell_type": "code",
   "execution_count": 14,
   "metadata": {},
   "outputs": [],
   "source": [
    "# driver.quit()"
   ]
  },
  {
   "cell_type": "code",
   "execution_count": 15,
   "metadata": {},
   "outputs": [
    {
     "data": {
      "text/plain": [
       "'101'"
      ]
     },
     "execution_count": 15,
     "metadata": {},
     "output_type": "execute_result"
    }
   ],
   "source": [
    "df['Course Nbr'][0]"
   ]
  },
  {
   "cell_type": "code",
   "execution_count": 16,
   "metadata": {},
   "outputs": [
    {
     "data": {
      "text/plain": [
       "selenium.webdriver.remote.webelement.WebElement"
      ]
     },
     "execution_count": 16,
     "metadata": {},
     "output_type": "execute_result"
    }
   ],
   "source": [
    "type(table)"
   ]
  },
  {
   "cell_type": "code",
   "execution_count": 17,
   "metadata": {},
   "outputs": [],
   "source": [
    "# Wait for the page to load and click on course number\n",
    "WebDriverWait(driver, 10).until(\n",
    "    # EC.element_to_be_clickable((By.LINK_TEXT, \"101\"))\n",
    "    EC.element_to_be_clickable((By.LINK_TEXT, \"577\"))\n",
    "    # EC.element_to_be_clickable((By.LINK_TEXT, \"A\"))\n",
    ").click()"
   ]
  },
  {
   "cell_type": "code",
   "execution_count": 18,
   "metadata": {},
   "outputs": [],
   "source": [
    "# # Need to know if ID is always the same.\n",
    "# try:\n",
    "#     _career = driver.find_element(By.ID, \"win0divSSR_CRSE_OFF_VW_ACAD_CAREER$0\")\n",
    "# except:\n",
    "#     _career = driver.find_element(By.ID, \"win0divSSR_CRSE_OFF_VW_ACAD_CAREER$0\")\n",
    "# finally:\n",
    "#     career: str = \"\"\n",
    "# career: str = _career.text # .split(\"\\n\")[1]\n",
    "# career"
   ]
  },
  {
   "cell_type": "code",
   "execution_count": 19,
   "metadata": {},
   "outputs": [],
   "source": [
    "# # Class name is not unique -- problematic.\n",
    "# time.sleep(5) # Only needs to be done once.\n",
    "# _career_grade_basis = driver.find_elements(By.CLASS_NAME, \"PSDROPDOWNLIST_DISPONLY\")\n",
    "# career: str = _career_grade_basis[0].text  # .split(\"\\n\")[1]\n",
    "# career"
   ]
  },
  {
   "cell_type": "code",
   "execution_count": 20,
   "metadata": {},
   "outputs": [],
   "source": [
    "# _career_grade_basis[1].text"
   ]
  },
  {
   "cell_type": "code",
   "execution_count": 21,
   "metadata": {},
   "outputs": [
    {
     "data": {
      "text/plain": [
       "'Graduate'"
      ]
     },
     "execution_count": 21,
     "metadata": {},
     "output_type": "execute_result"
    }
   ],
   "source": [
    "# Use ID to find element -- it is unique.\n",
    "time.sleep(5) # Needs to be done every time on a new page.\n",
    "career: str = driver.find_element(By.ID, \"win0divSSR_CRSE_OFF_VW_ACAD_CAREER$0\").text\n",
    "# career: str = _career.text # .split(\"\\n\")[1]\n",
    "career"
   ]
  },
  {
   "cell_type": "code",
   "execution_count": null,
   "metadata": {},
   "outputs": [],
   "source": [
    "units: float = driver.find_element(By.ID, \"DERIVED_CRSECAT_UNITS_RANGE$0\").text # .split(\"\\n\")[0]\n",
    "units"
   ]
  },
  {
   "cell_type": "code",
   "execution_count": null,
   "metadata": {},
   "outputs": [],
   "source": [
    "grading_basis: str = driver.find_element(By.ID, \"win0divSSR_CRSE_OFF_VW_GRADING_BASIS$0\").text\n",
    "grading_basis"
   ]
  },
  {
   "cell_type": "code",
   "execution_count": null,
   "metadata": {},
   "outputs": [],
   "source": [
    "try:\n",
    "    enrollment_requirement: str = driver.find_element(\n",
    "        By.ID, \"DERIVED_CRSECAT_DESCR254A$0\"\n",
    "    ).text\n",
    "except NoSuchElementException:\n",
    "    enrollment_requirement: str = \"\"\n",
    "\n",
    "enrollment_requirement"
   ]
  },
  {
   "cell_type": "code",
   "execution_count": null,
   "metadata": {},
   "outputs": [],
   "source": [
    "# # Come back, this can have multiple values.\n",
    "# course_components: str = driver.find_element(By.ID, \"DERIVED_CRSECAT_DESCR$0\").text\n",
    "# course_components"
   ]
  },
  {
   "cell_type": "code",
   "execution_count": null,
   "metadata": {},
   "outputs": [],
   "source": [
    "# driver.find_element(By.ID, \"DERIVED_CRSECAT_DESCR$1\").text"
   ]
  },
  {
   "cell_type": "code",
   "execution_count": null,
   "metadata": {},
   "outputs": [],
   "source": [
    "def _get_course_components(driver: webdriver) -> Tuple[str, ...]:\n",
    "    course_components_list: List = []\n",
    "    for num in range(0,10):\n",
    "        try:\n",
    "            course_components_list.append(\n",
    "                driver.find_element(By.ID, f\"DERIVED_CRSECAT_DESCR${num}\").text\n",
    "            )\n",
    "        except NoSuchElementException:\n",
    "            return tuple(course_components_list)"
   ]
  },
  {
   "cell_type": "code",
   "execution_count": null,
   "metadata": {},
   "outputs": [],
   "source": [
    "_get_course_components(driver)"
   ]
  },
  {
   "cell_type": "code",
   "execution_count": null,
   "metadata": {},
   "outputs": [],
   "source": [
    "academic_group: str = driver.find_element(By.ID, \"ACAD_GROUP_TBL_DESCR$0\").text\n",
    "academic_group"
   ]
  },
  {
   "cell_type": "code",
   "execution_count": null,
   "metadata": {},
   "outputs": [],
   "source": [
    "academic_organization: str = driver.find_element(\n",
    "    By.ID, \"win0divACAD_ORG_TBL_DESCR$0\"\n",
    ").text\n",
    "academic_organization"
   ]
  },
  {
   "cell_type": "code",
   "execution_count": null,
   "metadata": {},
   "outputs": [],
   "source": [
    "description: str = driver.find_element(By.ID, \"SSR_CRSE_OFF_VW_DESCRLONG$0\").text\n",
    "description"
   ]
  },
  {
   "cell_type": "code",
   "execution_count": null,
   "metadata": {},
   "outputs": [],
   "source": [
    "# Wait then click to go back to the course list\n",
    "WebDriverWait(driver, 10).until(\n",
    "    # EC.element_to_be_clickable((By.LINK_TEXT, \"101\"))\n",
    "    EC.element_to_be_clickable((By.LINK_TEXT, \"Return to Browse Course Catalog\"))\n",
    ").click()"
   ]
  },
  {
   "cell_type": "code",
   "execution_count": 22,
   "metadata": {},
   "outputs": [],
   "source": [
    "driver.quit()"
   ]
  },
  {
   "cell_type": "code",
   "execution_count": 29,
   "metadata": {},
   "outputs": [
    {
     "data": {
      "text/plain": [
       "3"
      ]
     },
     "execution_count": 29,
     "metadata": {},
     "output_type": "execute_result"
    }
   ],
   "source": [
    "df.columns.__len__() + 1"
   ]
  },
  {
   "cell_type": "code",
   "execution_count": 30,
   "metadata": {},
   "outputs": [
    {
     "data": {
      "text/html": [
       "<div>\n",
       "<style scoped>\n",
       "    .dataframe tbody tr th:only-of-type {\n",
       "        vertical-align: middle;\n",
       "    }\n",
       "\n",
       "    .dataframe tbody tr th {\n",
       "        vertical-align: top;\n",
       "    }\n",
       "\n",
       "    .dataframe thead th {\n",
       "        text-align: right;\n",
       "    }\n",
       "</style>\n",
       "<table border=\"1\" class=\"dataframe\">\n",
       "  <thead>\n",
       "    <tr style=\"text-align: right;\">\n",
       "      <th></th>\n",
       "      <th>Course Nbr</th>\n",
       "      <th>Course Title</th>\n",
       "    </tr>\n",
       "  </thead>\n",
       "  <tbody>\n",
       "    <tr>\n",
       "      <th>0</th>\n",
       "      <td>101</td>\n",
       "      <td>Computer Science Principles</td>\n",
       "    </tr>\n",
       "    <tr>\n",
       "      <th>1</th>\n",
       "      <td>102</td>\n",
       "      <td>Introduction to Web Design and Programming</td>\n",
       "    </tr>\n",
       "    <tr>\n",
       "      <th>2</th>\n",
       "      <td>110</td>\n",
       "      <td>Introduction to Computer Science</td>\n",
       "    </tr>\n",
       "    <tr>\n",
       "      <th>3</th>\n",
       "      <td>(113)</td>\n",
       "      <td>Foundations of Computer Science I\\n\\n** availa...</td>\n",
       "    </tr>\n",
       "    <tr>\n",
       "      <th>4</th>\n",
       "      <td>114</td>\n",
       "      <td>Introduction to Object-Oriented Programming</td>\n",
       "    </tr>\n",
       "    <tr>\n",
       "      <th>...</th>\n",
       "      <td>...</td>\n",
       "      <td>...</td>\n",
       "    </tr>\n",
       "    <tr>\n",
       "      <th>201</th>\n",
       "      <td>698</td>\n",
       "      <td>Practicum in Teaching</td>\n",
       "    </tr>\n",
       "    <tr>\n",
       "      <th>202</th>\n",
       "      <td>699</td>\n",
       "      <td>Dissertation Research on Campus</td>\n",
       "    </tr>\n",
       "    <tr>\n",
       "      <th>203</th>\n",
       "      <td>700</td>\n",
       "      <td>Dissertation Research off Campus - Domestic</td>\n",
       "    </tr>\n",
       "    <tr>\n",
       "      <th>204</th>\n",
       "      <td>701</td>\n",
       "      <td>Dissertation Research off Campus - International</td>\n",
       "    </tr>\n",
       "    <tr>\n",
       "      <th>205</th>\n",
       "      <td>800</td>\n",
       "      <td>FT SUMMER RESEARCH</td>\n",
       "    </tr>\n",
       "  </tbody>\n",
       "</table>\n",
       "<p>206 rows × 2 columns</p>\n",
       "</div>"
      ],
      "text/plain": [
       "    Course Nbr                                       Course Title\n",
       "0          101                        Computer Science Principles\n",
       "1          102         Introduction to Web Design and Programming\n",
       "2          110                   Introduction to Computer Science\n",
       "3        (113)  Foundations of Computer Science I\\n\\n** availa...\n",
       "4          114        Introduction to Object-Oriented Programming\n",
       "..         ...                                                ...\n",
       "201        698                              Practicum in Teaching\n",
       "202        699                    Dissertation Research on Campus\n",
       "203        700        Dissertation Research off Campus - Domestic\n",
       "204        701   Dissertation Research off Campus - International\n",
       "205        800                                 FT SUMMER RESEARCH\n",
       "\n",
       "[206 rows x 2 columns]"
      ]
     },
     "execution_count": 30,
     "metadata": {},
     "output_type": "execute_result"
    }
   ],
   "source": [
    "df"
   ]
  },
  {
   "cell_type": "code",
   "execution_count": 31,
   "metadata": {},
   "outputs": [],
   "source": [
    "df['col_test'] = 'test'"
   ]
  },
  {
   "cell_type": "code",
   "execution_count": 33,
   "metadata": {},
   "outputs": [],
   "source": [
    "df.drop(columns=['col_test'], inplace=True)"
   ]
  },
  {
   "cell_type": "code",
   "execution_count": 35,
   "metadata": {},
   "outputs": [],
   "source": [
    "df.insert(df.columns.__len__(), 'col_test', 'test')"
   ]
  },
  {
   "cell_type": "code",
   "execution_count": 36,
   "metadata": {},
   "outputs": [
    {
     "data": {
      "text/html": [
       "<div>\n",
       "<style scoped>\n",
       "    .dataframe tbody tr th:only-of-type {\n",
       "        vertical-align: middle;\n",
       "    }\n",
       "\n",
       "    .dataframe tbody tr th {\n",
       "        vertical-align: top;\n",
       "    }\n",
       "\n",
       "    .dataframe thead th {\n",
       "        text-align: right;\n",
       "    }\n",
       "</style>\n",
       "<table border=\"1\" class=\"dataframe\">\n",
       "  <thead>\n",
       "    <tr style=\"text-align: right;\">\n",
       "      <th></th>\n",
       "      <th>Course Nbr</th>\n",
       "      <th>Course Title</th>\n",
       "      <th>col_test</th>\n",
       "    </tr>\n",
       "  </thead>\n",
       "  <tbody>\n",
       "    <tr>\n",
       "      <th>0</th>\n",
       "      <td>101</td>\n",
       "      <td>Computer Science Principles</td>\n",
       "      <td>test</td>\n",
       "    </tr>\n",
       "    <tr>\n",
       "      <th>1</th>\n",
       "      <td>102</td>\n",
       "      <td>Introduction to Web Design and Programming</td>\n",
       "      <td>test</td>\n",
       "    </tr>\n",
       "    <tr>\n",
       "      <th>2</th>\n",
       "      <td>110</td>\n",
       "      <td>Introduction to Computer Science</td>\n",
       "      <td>test</td>\n",
       "    </tr>\n",
       "    <tr>\n",
       "      <th>3</th>\n",
       "      <td>(113)</td>\n",
       "      <td>Foundations of Computer Science I\\n\\n** availa...</td>\n",
       "      <td>test</td>\n",
       "    </tr>\n",
       "    <tr>\n",
       "      <th>4</th>\n",
       "      <td>114</td>\n",
       "      <td>Introduction to Object-Oriented Programming</td>\n",
       "      <td>test</td>\n",
       "    </tr>\n",
       "    <tr>\n",
       "      <th>...</th>\n",
       "      <td>...</td>\n",
       "      <td>...</td>\n",
       "      <td>...</td>\n",
       "    </tr>\n",
       "    <tr>\n",
       "      <th>201</th>\n",
       "      <td>698</td>\n",
       "      <td>Practicum in Teaching</td>\n",
       "      <td>test</td>\n",
       "    </tr>\n",
       "    <tr>\n",
       "      <th>202</th>\n",
       "      <td>699</td>\n",
       "      <td>Dissertation Research on Campus</td>\n",
       "      <td>test</td>\n",
       "    </tr>\n",
       "    <tr>\n",
       "      <th>203</th>\n",
       "      <td>700</td>\n",
       "      <td>Dissertation Research off Campus - Domestic</td>\n",
       "      <td>test</td>\n",
       "    </tr>\n",
       "    <tr>\n",
       "      <th>204</th>\n",
       "      <td>701</td>\n",
       "      <td>Dissertation Research off Campus - International</td>\n",
       "      <td>test</td>\n",
       "    </tr>\n",
       "    <tr>\n",
       "      <th>205</th>\n",
       "      <td>800</td>\n",
       "      <td>FT SUMMER RESEARCH</td>\n",
       "      <td>test</td>\n",
       "    </tr>\n",
       "  </tbody>\n",
       "</table>\n",
       "<p>206 rows × 3 columns</p>\n",
       "</div>"
      ],
      "text/plain": [
       "    Course Nbr                                       Course Title col_test\n",
       "0          101                        Computer Science Principles     test\n",
       "1          102         Introduction to Web Design and Programming     test\n",
       "2          110                   Introduction to Computer Science     test\n",
       "3        (113)  Foundations of Computer Science I\\n\\n** availa...     test\n",
       "4          114        Introduction to Object-Oriented Programming     test\n",
       "..         ...                                                ...      ...\n",
       "201        698                              Practicum in Teaching     test\n",
       "202        699                    Dissertation Research on Campus     test\n",
       "203        700        Dissertation Research off Campus - Domestic     test\n",
       "204        701   Dissertation Research off Campus - International     test\n",
       "205        800                                 FT SUMMER RESEARCH     test\n",
       "\n",
       "[206 rows x 3 columns]"
      ]
     },
     "execution_count": 36,
     "metadata": {},
     "output_type": "execute_result"
    }
   ],
   "source": [
    "df"
   ]
  },
  {
   "cell_type": "code",
   "execution_count": null,
   "metadata": {},
   "outputs": [],
   "source": []
  }
 ],
 "metadata": {
  "kernelspec": {
   "display_name": "Python 3",
   "language": "python",
   "name": "python3"
  },
  "language_info": {
   "codemirror_mode": {
    "name": "ipython",
    "version": 3
   },
   "file_extension": ".py",
   "mimetype": "text/x-python",
   "name": "python",
   "nbconvert_exporter": "python",
   "pygments_lexer": "ipython3",
   "version": "3.10.13"
  }
 },
 "nbformat": 4,
 "nbformat_minor": 2
}
