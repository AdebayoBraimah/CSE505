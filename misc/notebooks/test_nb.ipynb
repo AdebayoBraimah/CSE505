{
 "cells": [
  {
   "cell_type": "code",
   "execution_count": 1,
   "metadata": {},
   "outputs": [],
   "source": [
    "import os\n",
    "import sys"
   ]
  },
  {
   "cell_type": "code",
   "execution_count": 2,
   "metadata": {},
   "outputs": [],
   "source": [
    "_PKG_PATH = \"/Users/adebayobraimah/Desktop/projects/CSE505\""
   ]
  },
  {
   "cell_type": "code",
   "execution_count": 3,
   "metadata": {},
   "outputs": [],
   "source": [
    "sys.path.append(_PKG_PATH)"
   ]
  },
  {
   "cell_type": "code",
   "execution_count": 4,
   "metadata": {},
   "outputs": [],
   "source": [
    "from src import RESROURCEDIR\n",
    "from src.schedule import create_schedule\n",
    "from src.kg.knowledge_graph import KnowledgeGraph"
   ]
  },
  {
   "cell_type": "code",
   "execution_count": 5,
   "metadata": {},
   "outputs": [],
   "source": [
    "lp_file: str = os.path.join(RESROURCEDIR, \"cse.schedule.lp\")"
   ]
  },
  {
   "cell_type": "code",
   "execution_count": 6,
   "metadata": {},
   "outputs": [],
   "source": [
    "kg = KnowledgeGraph(lp=lp_file)"
   ]
  },
  {
   "cell_type": "code",
   "execution_count": 7,
   "metadata": {},
   "outputs": [
    {
     "name": "stderr",
     "output_type": "stream",
     "text": [
      "/Users/adebayobraimah/Desktop/projects/CSE505/src/resources/cse.schedule.lp:345:11-12: info: tuple ignored:\n",
      "  #inf@0\n",
      "\n"
     ]
    },
    {
     "data": {
      "text/plain": [
       "'clingo version 5.7.1\\nReading from ...s/CSE505/src/resources/cse.schedule.lp\\nSolving...\\nUNSATISFIABLE\\n\\nModels       : 0\\nCalls        : 1\\nTime         : 5.226s (Solving: 5.22s 1st Model: 0.00s Unsat: 5.22s)\\nCPU Time     : 5.220s\\n'"
      ]
     },
     "execution_count": 7,
     "metadata": {},
     "output_type": "execute_result"
    }
   ],
   "source": [
    "create_schedule(lp_file=lp_file)"
   ]
  },
  {
   "cell_type": "code",
   "execution_count": null,
   "metadata": {},
   "outputs": [],
   "source": []
  }
 ],
 "metadata": {
  "kernelspec": {
   "display_name": "Python 3",
   "language": "python",
   "name": "python3"
  },
  "language_info": {
   "codemirror_mode": {
    "name": "ipython",
    "version": 3
   },
   "file_extension": ".py",
   "mimetype": "text/x-python",
   "name": "python",
   "nbconvert_exporter": "python",
   "pygments_lexer": "ipython3",
   "version": "3.10.14"
  }
 },
 "nbformat": 4,
 "nbformat_minor": 2
}
