{
 "cells": [
  {
   "cell_type": "code",
   "execution_count": null,
   "metadata": {},
   "outputs": [],
   "source": [
    "import os\n",
    "import re\n",
    "import time\n",
    "import pandas as pd\n",
    "\n",
    "from dataclasses import dataclass\n",
    "from selenium import webdriver\n",
    "from selenium.webdriver.common.by import By\n",
    "from selenium.webdriver.support.ui import WebDriverWait\n",
    "from selenium.webdriver.support import expected_conditions as EC\n",
    "from selenium.common.exceptions import NoSuchElementException"
   ]
  },
  {
   "cell_type": "code",
   "execution_count": null,
   "metadata": {},
   "outputs": [],
   "source": [
    "from typing import Optional, List, Tuple, Union"
   ]
  },
  {
   "cell_type": "code",
   "execution_count": null,
   "metadata": {},
   "outputs": [],
   "source": [
    "import sys"
   ]
  },
  {
   "cell_type": "code",
   "execution_count": null,
   "metadata": {},
   "outputs": [],
   "source": [
    "_PKG_PATH: str = \"/Users/adebayobraimah/Desktop/projects/CSE505\""
   ]
  },
  {
   "cell_type": "code",
   "execution_count": null,
   "metadata": {},
   "outputs": [],
   "source": [
    "sys.path.append(_PKG_PATH)"
   ]
  },
  {
   "cell_type": "code",
   "execution_count": null,
   "metadata": {},
   "outputs": [],
   "source": [
    "from src.utils import util"
   ]
  },
  {
   "cell_type": "code",
   "execution_count": null,
   "metadata": {},
   "outputs": [],
   "source": [
    "url = \"https://prod.ps.stonybrook.edu/psc/csprodg/EMPLOYEE/CAMP/c/COMMUNITY_ACCESS.SSS_BROWSE_CATLG.GBL?\""
   ]
  },
  {
   "cell_type": "code",
   "execution_count": null,
   "metadata": {},
   "outputs": [],
   "source": [
    "wait_time: int = 10"
   ]
  },
  {
   "cell_type": "code",
   "execution_count": null,
   "metadata": {},
   "outputs": [],
   "source": [
    "# Setup Selenium WebDriver\n",
    "driver = webdriver.Chrome()\n",
    "driver.get(url)"
   ]
  },
  {
   "cell_type": "code",
   "execution_count": null,
   "metadata": {},
   "outputs": [],
   "source": [
    "major_three_letter_code: str = \"mat\".upper()\n",
    "major_three_letter_code"
   ]
  },
  {
   "cell_type": "code",
   "execution_count": null,
   "metadata": {},
   "outputs": [],
   "source": [
    "nav_letter: str = major_three_letter_code[0].upper()\n",
    "nav_letter"
   ]
  },
  {
   "cell_type": "code",
   "execution_count": null,
   "metadata": {},
   "outputs": [],
   "source": [
    "WebDriverWait(driver, wait_time).until(\n",
    "    EC.element_to_be_clickable((By.LINK_TEXT, nav_letter))\n",
    ").click()"
   ]
  },
  {
   "cell_type": "code",
   "execution_count": null,
   "metadata": {},
   "outputs": [],
   "source": [
    "# Navigate to major\n",
    "WebDriverWait(driver, wait_time).until(\n",
    "    EC.element_to_be_clickable((By.PARTIAL_LINK_TEXT, major_three_letter_code))\n",
    ").click()"
   ]
  },
  {
   "cell_type": "code",
   "execution_count": null,
   "metadata": {},
   "outputs": [],
   "source": [
    "# Get table data\n",
    "time.sleep(wait_time // 2)  # Time to wait for javascript to load the table.\n",
    "table: List[webdriver.remote.webelement.WebElement] = driver.find_elements(\n",
    "    By.TAG_NAME, \"tbody\"\n",
    ")"
   ]
  },
  {
   "cell_type": "code",
   "execution_count": null,
   "metadata": {},
   "outputs": [],
   "source": [
    "for tab in reversed(table):\n",
    "    try:\n",
    "        tab.find_element(By.PARTIAL_LINK_TEXT, \"Course Nbr\")\n",
    "    except (AttributeError, NoSuchElementException):\n",
    "        table.remove(tab)\n",
    "\n",
    "try:\n",
    "    table = table[-1]  # Get the last table\n",
    "except IndexError:\n",
    "    table = None"
   ]
  },
  {
   "cell_type": "code",
   "execution_count": null,
   "metadata": {},
   "outputs": [],
   "source": [
    "table"
   ]
  },
  {
   "cell_type": "code",
   "execution_count": null,
   "metadata": {},
   "outputs": [],
   "source": [
    "# Verify table\n",
    "if not table.is_displayed():\n",
    "    raise ValueError(\"Table is not displayed. Check the URL and major code.\")\n",
    "\n",
    "if not table.text:\n",
    "    raise ValueError(\"Table is empty. Check the URL and major code.\")\n"
   ]
  },
  {
   "cell_type": "code",
   "execution_count": null,
   "metadata": {},
   "outputs": [],
   "source": [
    "headers = [header.text for header in table.find_elements(By.TAG_NAME, \"th\")]\n",
    "headers"
   ]
  },
  {
   "cell_type": "code",
   "execution_count": null,
   "metadata": {},
   "outputs": [],
   "source": [
    "rows = []\n",
    "for row in table.find_elements(By.TAG_NAME, \"tr\"):\n",
    "    cells = [cell.text for cell in row.find_elements(By.TAG_NAME, \"td\")]\n",
    "    if cells:  # This check is to skip rows without table data cells\n",
    "        rows.append(cells)\n",
    "rows"
   ]
  },
  {
   "cell_type": "code",
   "execution_count": null,
   "metadata": {},
   "outputs": [],
   "source": [
    "df = pd.DataFrame(rows, columns=headers)"
   ]
  },
  {
   "cell_type": "code",
   "execution_count": null,
   "metadata": {},
   "outputs": [],
   "source": [
    "_course_numbers: List[str] = df[\"Course Nbr\"].tolist()\n",
    "# _course_numbers"
   ]
  },
  {
   "cell_type": "code",
   "execution_count": null,
   "metadata": {},
   "outputs": [],
   "source": [
    "# NO EDIT\n",
    "def clean_course_title(course_title: str) -> str:\n",
    "    \"\"\"Clean course title by removing any additional information after '**'.\n",
    "\n",
    "    Args:\n",
    "        course_title: Course title string.\n",
    "\n",
    "    Returns:\n",
    "        Cleaned course title string.\n",
    "    \"\"\"\n",
    "    # Use a regular expression to match only the course title before '**'\n",
    "    cleaned_title = re.sub(r\"\\*\\*.*$\", \"\", course_title).strip()\n",
    "    return cleaned_title"
   ]
  },
  {
   "cell_type": "code",
   "execution_count": null,
   "metadata": {},
   "outputs": [],
   "source": [
    "_course_titles: List[str] = df[\"Course Title\"].tolist()\n",
    "df[\"Course Title\"] = [clean_course_title(title) for title in _course_titles]"
   ]
  },
  {
   "cell_type": "code",
   "execution_count": null,
   "metadata": {},
   "outputs": [],
   "source": [
    "course = _course_numbers[0]\n",
    "course"
   ]
  },
  {
   "cell_type": "code",
   "execution_count": null,
   "metadata": {},
   "outputs": [],
   "source": [
    "# Wait for the page to load and click on course number\n",
    "WebDriverWait(driver, wait_time).until(\n",
    "    EC.element_to_be_clickable((By.LINK_TEXT, f\"{course}\"))\n",
    ").click()"
   ]
  },
  {
   "cell_type": "code",
   "execution_count": null,
   "metadata": {},
   "outputs": [],
   "source": [
    "# Use ID to find element -- it is unique.\n",
    "WebDriverWait(driver, wait_time).until(\n",
    "    EC.presence_of_element_located(\n",
    "        (By.ID, \"win0divSSR_CRSE_OFF_VW_ACAD_CAREER$0\")\n",
    "    )\n",
    ").click()"
   ]
  },
  {
   "cell_type": "code",
   "execution_count": null,
   "metadata": {},
   "outputs": [],
   "source": [
    "career: str = driver.find_element(By.ID, \"win0divSSR_CRSE_OFF_VW_ACAD_CAREER$0\").text\n",
    "career"
   ]
  },
  {
   "cell_type": "code",
   "execution_count": null,
   "metadata": {},
   "outputs": [],
   "source": [
    "units: str = float(driver.find_element(By.ID, \"DERIVED_CRSECAT_UNITS_RANGE$0\").text)\n",
    "units"
   ]
  },
  {
   "cell_type": "code",
   "execution_count": null,
   "metadata": {},
   "outputs": [],
   "source": [
    "grading_basis: str = driver.find_element(\n",
    "    By.ID, \"win0divSSR_CRSE_OFF_VW_GRADING_BASIS$0\"\n",
    ").text\n",
    "grading_basis"
   ]
  },
  {
   "cell_type": "code",
   "execution_count": null,
   "metadata": {},
   "outputs": [],
   "source": [
    "_enrollment_requirement: str = driver.find_element(\n",
    "    By.ID, \"DERIVED_CRSECAT_DESCR254A$0\"\n",
    ").text\n",
    "_enrollment_requirement"
   ]
  },
  {
   "cell_type": "code",
   "execution_count": null,
   "metadata": {},
   "outputs": [],
   "source": [
    "academic_group: str = driver.find_element(By.ID, \"ACAD_GROUP_TBL_DESCR$0\").text\n",
    "academic_group"
   ]
  },
  {
   "cell_type": "code",
   "execution_count": null,
   "metadata": {},
   "outputs": [],
   "source": []
  }
 ],
 "metadata": {
  "kernelspec": {
   "display_name": "Python 3",
   "language": "python",
   "name": "python3"
  },
  "language_info": {
   "codemirror_mode": {
    "name": "ipython",
    "version": 3
   },
   "file_extension": ".py",
   "mimetype": "text/x-python",
   "name": "python",
   "nbconvert_exporter": "python",
   "pygments_lexer": "ipython3",
   "version": "3.10.14"
  }
 },
 "nbformat": 4,
 "nbformat_minor": 2
}
