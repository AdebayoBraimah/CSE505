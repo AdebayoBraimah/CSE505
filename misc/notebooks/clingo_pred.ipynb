{
 "cells": [
  {
   "cell_type": "code",
   "execution_count": 1,
   "metadata": {},
   "outputs": [],
   "source": [
    "import os\n",
    "import sys"
   ]
  },
  {
   "cell_type": "code",
   "execution_count": 2,
   "metadata": {},
   "outputs": [],
   "source": [
    "import json\n",
    "import re"
   ]
  },
  {
   "cell_type": "code",
   "execution_count": 3,
   "metadata": {},
   "outputs": [],
   "source": [
    "_PKG_PATH: str = \"/Users/adebayobraimah/Desktop/projects/CSE505\"\n",
    "sys.path.append(_PKG_PATH)"
   ]
  },
  {
   "cell_type": "code",
   "execution_count": 4,
   "metadata": {},
   "outputs": [],
   "source": [
    "# from src.clapi.clapi import _write_list_to_file, translate_range\n",
    "from src.clapi.clapi import process_course_data_clingo"
   ]
  },
  {
   "cell_type": "code",
   "execution_count": 5,
   "metadata": {},
   "outputs": [],
   "source": [
    "json_file = (\n",
    "    \"/Users/adebayobraimah/Desktop/projects/CSE505/src/resources/cse_courses.json\"\n",
    ")"
   ]
  },
  {
   "cell_type": "code",
   "execution_count": 6,
   "metadata": {},
   "outputs": [],
   "source": [
    "# def generate_clingo_predicates_rules(json_file):\n",
    "#     with open(json_file, \"r\") as file:\n",
    "#         data = json.load(file)\n",
    "\n",
    "#     predicates = []\n",
    "#     rules = []\n",
    "\n",
    "#     output_file = json_file.replace(\".json\", \".lp\")\n",
    "\n",
    "#     for course_id, course_info in data.items():\n",
    "#         # Generate course predicates\n",
    "#         offered_spring1 = int(course_info[\"spring1\"])\n",
    "#         offered_fall1 = int(course_info[\"fall1\"])\n",
    "#         offered_spring2 = int(course_info[\"spring2\"])\n",
    "#         offered_fall2 = int(course_info[\"fall2\"])\n",
    "\n",
    "#         credits = (\n",
    "#             int(course_info.get(\"Credits\"))\n",
    "#             if isinstance(course_info.get(\"Credits\"), (float, int))\n",
    "#             else _translate_range(course_info.get(\"Credits\"))\n",
    "#         )\n",
    "\n",
    "#         career = course_info.get(\"Career\")\n",
    "\n",
    "#         predicates.append(\n",
    "#             f'course({course_id.lower()}, {credits}, \"{career}\", {offered_spring1}, {offered_fall1}, {offered_spring2}, {offered_fall2}).'\n",
    "#         )\n",
    "\n",
    "#         # Generate antirequisite rules\n",
    "#         if course_info[\"Antirequisites\"] != \"NONE\":\n",
    "#             rules.append(f\"% Antirequisites for {course_id.upper()}\")\n",
    "#             for antireq_group in course_info[\"Antirequisites\"]:\n",
    "#                 for antireq in antireq_group:\n",
    "#                     rules.append(\n",
    "#                         f\":- course({course_id.lower()}, {credits}, \\\"{career}\\\", {offered_spring1}, {offered_fall1}, {offered_spring2}, {offered_fall2}), \\n   course({antireq.lower()}, _, \\\"{career}\\\", _, _, _, _). \\n\"\n",
    "#                     )\n",
    "\n",
    "#         # Generate prerequisite rules\n",
    "#         if course_info[\"Prerequisites\"] != \"NONE\":\n",
    "#             rules.append(f\"% Prerequisites for {course_id.upper()}\")\n",
    "#             for prereq_group in course_info[\"Prerequisites\"]:\n",
    "#                 group_conditions = \", \".join(\n",
    "#                     [\n",
    "#                         f'\\n   not course({prereq.lower()}, _, \"{career}\", _, _, _, _)'\n",
    "#                         for prereq in prereq_group\n",
    "#                     ]\n",
    "#                 )\n",
    "#                 rules.append(\n",
    "#                     f\":- course({course_id.lower()}, {credits}, \\\"{career}\\\", {offered_spring1}, {offered_fall1}, {offered_spring2}, {offered_fall2}), {group_conditions}. \\n\" \n",
    "#                 )\n",
    "\n",
    "#         # Generate corequisite rules\n",
    "#         if course_info[\"Corequisites\"] != \"NONE\":\n",
    "#             rules.append(f\"% Corequisites for {course_id.upper()}\")\n",
    "#             for coreq_group in course_info[\"Corequisites\"]:\n",
    "#                 for coreq in coreq_group:\n",
    "#                     rules.append(\n",
    "#                         f\":- course({course_id.lower()}, {credits}, \\\"{career}\\\", {offered_spring1}, {offered_fall1}, {offered_spring2}, {offered_fall2}), \\n   not course({coreq.lower()}, _, \\\"{career}\\\", {offered_spring1}, {offered_fall1}, {offered_spring2}, {offered_fall2}). \\n\"\n",
    "#                     )\n",
    "\n",
    "#     # Write predicates and rules to file\n",
    "#     output = (\n",
    "#         [\"% Course predicates\"] + predicates + [\"\\n% Course Rules \\n\"] + rules\n",
    "#     )\n",
    "#     _write_list_to_file(output, output_file)\n",
    "\n",
    "#     # Output results\n",
    "#     return {\"predicates\": predicates, \"rules\": rules}\n",
    "\n",
    "\n",
    "# # Usage\n",
    "# results = generate_clingo_predicates_rules(json_file)\n",
    "# # print(\"Predicates:\")\n",
    "# # for predicate in results[\"predicates\"]:\n",
    "# #     print(predicate)\n",
    "# # print(\"\\nRules:\")\n",
    "# # for rule in results[\"rules\"]:\n",
    "# #     print(rule)"
   ]
  },
  {
   "cell_type": "code",
   "execution_count": 7,
   "metadata": {},
   "outputs": [],
   "source": [
    "# results"
   ]
  },
  {
   "cell_type": "code",
   "execution_count": 8,
   "metadata": {},
   "outputs": [
    {
     "data": {
      "text/plain": [
       "'/Users/adebayobraimah/Desktop/projects/CSE505/src/resources/cse_courses.lp'"
      ]
     },
     "execution_count": 8,
     "metadata": {},
     "output_type": "execute_result"
    }
   ],
   "source": [
    "process_course_data_clingo(json_file,repeatable_courses=None)"
   ]
  },
  {
   "cell_type": "code",
   "execution_count": 9,
   "metadata": {},
   "outputs": [],
   "source": [
    "# def create_clingo_atoms_from_json(file_path):\n",
    "#     # Open and read the JSON file\n",
    "#     with open(file_path, \"r\") as file:\n",
    "#         data = json.load(file)\n",
    "\n",
    "#     # List to store the clingo atoms\n",
    "#     clingo_atoms = []\n",
    "\n",
    "#     # Process each course\n",
    "#     for course_id, course_info in data.items():\n",
    "#         description = course_info.get(\"Description\", \"\")\n",
    "\n",
    "#         # Check if the course is repeatable\n",
    "#         if \"repeat\" in description.lower():\n",
    "#             # Initialize min_credits and max_credits\n",
    "#             min_credits = \"_\"\n",
    "#             max_credits = \"_\"\n",
    "\n",
    "#             # Example logic to extract credits info; this will need customization based on actual data\n",
    "#             # For simplicity, let's assume we find sentences like \"May be repeated for up to X credits.\"\n",
    "#             words = description.split()\n",
    "#             if \"credits\" in words:\n",
    "#                 credit_index = words.index(\"credits\")\n",
    "#                 for i in range(credit_index, credit_index - 4, -1):\n",
    "#                     if words[i - 1].isdigit():\n",
    "#                         max_credits = words[i - 1]\n",
    "#                         break\n",
    "\n",
    "#             # Create the clingo atom string\n",
    "#             atom = f\"repeatable({course_id.lower()}, {min_credits}, {max_credits})\"\n",
    "#             clingo_atoms.append(atom)\n",
    "\n",
    "#     return clingo_atoms\n",
    "\n",
    "\n",
    "# # Example usage\n",
    "# file_path = json_file\n",
    "# clingo_atoms = create_clingo_atoms_from_json(file_path)\n",
    "# # for atom in clingo_atoms:\n",
    "# #     print(atom)"
   ]
  },
  {
   "cell_type": "code",
   "execution_count": 10,
   "metadata": {},
   "outputs": [],
   "source": [
    "# clingo_atoms"
   ]
  },
  {
   "cell_type": "code",
   "execution_count": 11,
   "metadata": {},
   "outputs": [],
   "source": [
    "# def extract_credits(description):\n",
    "#     # Search for one or more digits followed by the word 'credits'\n",
    "#     match = re.search(r\"(\\d+) credits\", description)\n",
    "#     if match:\n",
    "#         # Return the number found\n",
    "#         return int(match.group(1))\n",
    "#     else:\n",
    "#         return None"
   ]
  },
  {
   "cell_type": "code",
   "execution_count": 12,
   "metadata": {},
   "outputs": [],
   "source": [
    "# def _check_repeatable_input(course_info):\n",
    "#     try:\n",
    "#         int(course_info)\n",
    "#         return True\n",
    "#     except ValueError:\n",
    "#         if course_info == \"_\":\n",
    "#             return True\n",
    "#         else:\n",
    "#             return False"
   ]
  },
  {
   "cell_type": "code",
   "execution_count": 13,
   "metadata": {},
   "outputs": [],
   "source": [
    "# def generate_atoms(json_file, other_courses=None):\n",
    "#     with open(json_file, \"r\") as file:\n",
    "#         data = json.load(file)\n",
    "\n",
    "#     atoms = []\n",
    "\n",
    "#     # other_courses = [('cse593',_,_)]\n",
    "#     if other_courses is not None:\n",
    "#         for course_info in other_courses:\n",
    "#             if (not course_info[0].upper() in data.keys()):\n",
    "#                 raise ValueError(f\"Course {course_info[0]} not found in the JSON file.\")\n",
    "#             if (len(course_info) != 3) or (not _check_repeatable_input(course_info[1])) or (not _check_repeatable_input(course_info[2])):\n",
    "#                 raise ValueError(\"Each course tuple should have exactly 3 elements.\")\n",
    "#             atom = f\"repeatable({course_info[0]}, {course_info[1]}, {course_info[2]}).\"\n",
    "#             atoms.append(atom)\n",
    "\n",
    "#     for course_id, course_info in data.items():\n",
    "#         description = course_info[\"Description\"].lower()\n",
    "#         if (\"repeat\" in description) and (not course_id in atoms):\n",
    "#             times = \"_\"\n",
    "#             max_credits = \"_\"\n",
    "#             if \"more than twice\" in description:\n",
    "#                 times = 2\n",
    "#             elif \"repeated once\" in description:\n",
    "#                 times = 2\n",
    "#             elif \"repeated twice\" in description:\n",
    "#                 times = 3\n",
    "#             elif (\"credits\" in description.lower()) and (extract_credits(description) is not None):\n",
    "#                 max_credits = extract_credits(description)\n",
    "#             else:\n",
    "#                 # NOTE: Uncommenting the line below will set the default value of times to 2.\n",
    "#                 #   This behavior may not be desired in all cases.\n",
    "#                 # times: int = 2\n",
    "#                 continue\n",
    "#             atom = f\"repeatable({course_id.lower()}, {times}, {max_credits}).\"\n",
    "#             atoms.append(atom)\n",
    "#     atoms = sorted(atoms)\n",
    "#     return atoms\n",
    "\n",
    "\n",
    "# # Use the actual data structure from the file you uploaded\n",
    "# generate_atoms(json_file, [(\"cse593\", '_', '_'),('cse390', 2, 4)])"
   ]
  },
  {
   "cell_type": "code",
   "execution_count": 14,
   "metadata": {},
   "outputs": [],
   "source": [
    "# _check_repeatable_input(\"_\")"
   ]
  },
  {
   "cell_type": "code",
   "execution_count": null,
   "metadata": {},
   "outputs": [],
   "source": []
  }
 ],
 "metadata": {
  "kernelspec": {
   "display_name": "Python 3",
   "language": "python",
   "name": "python3"
  },
  "language_info": {
   "codemirror_mode": {
    "name": "ipython",
    "version": 3
   },
   "file_extension": ".py",
   "mimetype": "text/x-python",
   "name": "python",
   "nbconvert_exporter": "python",
   "pygments_lexer": "ipython3",
   "version": "3.10.14"
  }
 },
 "nbformat": 4,
 "nbformat_minor": 2
}
