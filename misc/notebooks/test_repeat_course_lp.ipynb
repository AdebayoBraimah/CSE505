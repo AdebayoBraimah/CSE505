{
 "cells": [
  {
   "cell_type": "code",
   "execution_count": 1,
   "metadata": {},
   "outputs": [],
   "source": [
    "import json"
   ]
  },
  {
   "cell_type": "code",
   "execution_count": 2,
   "metadata": {},
   "outputs": [],
   "source": [
    "json_file = (\n",
    "    \"/Users/adebayobraimah/Desktop/projects/CSE505/src/resources/cse_courses.json\"\n",
    ")"
   ]
  },
  {
   "cell_type": "code",
   "execution_count": 6,
   "metadata": {},
   "outputs": [],
   "source": [
    "# Load the JSON data from file\n",
    "with open(json_file, \"r\") as file:\n",
    "    data = json.load(file)"
   ]
  },
  {
   "cell_type": "code",
   "execution_count": 7,
   "metadata": {},
   "outputs": [],
   "source": [
    "# Function to find the number of times a course can be repeated\n",
    "def find_repeated_info(description):\n",
    "    # Assuming the description mentions the repeat count and credits directly after the keyword \"repeated\"\n",
    "    parts = description.split(\"repeated\")\n",
    "    for part in parts:\n",
    "        if \"as the topic changes\" not in part:\n",
    "            # Assuming the format \"can be repeated X times for Y credits\"\n",
    "            words = part.split()\n",
    "            try:\n",
    "                times_index = words.index(\"times\")  # Find the index of 'times'\n",
    "                credits_index = words.index(\"credits\")  # Find the index of 'credits'\n",
    "                return int(words[times_index - 1]), float(words[credits_index - 1])\n",
    "            except (ValueError, IndexError):\n",
    "                continue\n",
    "    return None, None"
   ]
  },
  {
   "cell_type": "code",
   "execution_count": 11,
   "metadata": {},
   "outputs": [
    {
     "name": "stdout",
     "output_type": "stream",
     "text": [
      "None\n",
      "None\n",
      "None\n",
      "None\n",
      "None\n",
      "None\n",
      "None\n",
      "None\n",
      "None\n",
      "None\n",
      "None\n",
      "None\n",
      "None\n",
      "None\n"
     ]
    }
   ],
   "source": [
    "# Iterate over all courses\n",
    "for course_id, course_info in data.items():\n",
    "    description = course_info.get(\"Description\", \"\")\n",
    "    if (\"repeated\" in description) and (\"repeated as the topic changes\" not in description):\n",
    "        # print(course_info.get('CourseTitle'))\n",
    "        times_repeated, credits_repeated = find_repeated_info(description)\n",
    "        print(times_repeated)\n",
    "        # if times_repeated is not None and credits_repeated is not None:\n",
    "        #     print(\n",
    "        #         f\"repeatable({course_info['CourseTitle']}, {times_repeated}, {credits_repeated})\"\n",
    "        #     )"
   ]
  },
  {
   "cell_type": "code",
   "execution_count": null,
   "metadata": {},
   "outputs": [],
   "source": [
    "description = \"An independent research project with faculty supervision. Only three credits of research electives (AMS 487, CSE 487, BME 499, ESE 499, ESM 499, ISE 487, and MEC 499) may be counted toward technical elective requirements. May not be taken for more than six credits.\""
   ]
  },
  {
   "cell_type": "code",
   "execution_count": 12,
   "metadata": {},
   "outputs": [
    {
     "data": {
      "text/plain": [
       "['']"
      ]
     },
     "execution_count": 12,
     "metadata": {},
     "output_type": "execute_result"
    }
   ],
   "source": [
    "parts = description.split(\"repeated\")\n",
    "parts"
   ]
  },
  {
   "cell_type": "code",
   "execution_count": null,
   "metadata": {},
   "outputs": [],
   "source": []
  }
 ],
 "metadata": {
  "kernelspec": {
   "display_name": "Python 3",
   "language": "python",
   "name": "python3"
  },
  "language_info": {
   "codemirror_mode": {
    "name": "ipython",
    "version": 3
   },
   "file_extension": ".py",
   "mimetype": "text/x-python",
   "name": "python",
   "nbconvert_exporter": "python",
   "pygments_lexer": "ipython3",
   "version": "3.10.14"
  }
 },
 "nbformat": 4,
 "nbformat_minor": 2
}
