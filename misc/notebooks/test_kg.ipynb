{
 "cells": [
  {
   "cell_type": "code",
   "execution_count": 1,
   "metadata": {},
   "outputs": [],
   "source": [
    "import os\n",
    "import sys\n",
    "import pandas as pd"
   ]
  },
  {
   "cell_type": "code",
   "execution_count": 2,
   "metadata": {},
   "outputs": [],
   "source": [
    "# Define constants\n",
    "ERGOROOT: str = (\n",
    "    \"/Users/adebayobraimah/bin/ErgoEngine-3.0_release/ErgoAI/Coherent/ERGOAI_3.0/ErgoAI\"\n",
    ")\n",
    "XSBARCHDIR: str = (\n",
    "    \"/Users/adebayobraimah/bin/ErgoEngine-3.0_release/ErgoAI/Coherent/ERGOAI_3.0/XSB/config/aarch64-apple-darwin22.6.0\"\n",
    ")"
   ]
  },
  {
   "cell_type": "code",
   "execution_count": 3,
   "metadata": {},
   "outputs": [],
   "source": [
    "_PKG_PATH = \"/Users/adebayobraimah/Desktop/projects/CSE505\""
   ]
  },
  {
   "cell_type": "code",
   "execution_count": 4,
   "metadata": {},
   "outputs": [],
   "source": [
    "sys.path.append(_PKG_PATH)"
   ]
  },
  {
   "cell_type": "code",
   "execution_count": 5,
   "metadata": {},
   "outputs": [],
   "source": [
    "# sys.path.append(ERGOROOT.replace(\"\\\\\", \"/\") + \"/python\")"
   ]
  },
  {
   "cell_type": "code",
   "execution_count": 6,
   "metadata": {},
   "outputs": [],
   "source": [
    "from src import RESROURCEDIR\n",
    "from src.kg.knowledge_graph import scrape_sbu_solar, KnowledgeGraph\n",
    "from src.ergoai.ergoai import json_to_ergo\n",
    "from src.clapi.clapi import process_course_data_clingo"
   ]
  },
  {
   "cell_type": "code",
   "execution_count": 7,
   "metadata": {},
   "outputs": [],
   "source": [
    "url = \"https://prod.ps.stonybrook.edu/psc/csprodg/EMPLOYEE/CAMP/c/COMMUNITY_ACCESS.SSS_BROWSE_CATLG.GBL?\""
   ]
  },
  {
   "cell_type": "code",
   "execution_count": 8,
   "metadata": {},
   "outputs": [],
   "source": [
    "# majors = (\"cse\",)\n",
    "# majors = (\"ams\",)\n",
    "# majors = (\"bio\",)\n",
    "# majors = (\"che\",)\n",
    "# majors = (\"phy\",)\n",
    "# majors = (\"ast\",)\n",
    "# majors = (\"geo\",)\n",
    "# majors = (\"mat\",) # BUG: Figure out why MAT is not working\n",
    "\n",
    "majors = (\n",
    "    \"cse\",\n",
    "    \"ams\",\n",
    "    \"bio\",\n",
    "    \"phy\",\n",
    "    \"ast\",\n",
    "    # \"mat\", # BUG: Figure out why MAT is not working\n",
    "    \"che\",\n",
    "    \"geo\",\n",
    ")\n",
    "\n",
    "for major in majors:\n",
    "    outname: str = os.path.join(RESROURCEDIR, f\"{major}\")\n",
    "\n",
    "    if not (os.path.exists(f\"{outname}_courses.json\")):\n",
    "        kg = scrape_sbu_solar(\n",
    "            url, major_three_letter_code=major, wait_time=10, headless=True, verbose=True\n",
    "        )\n",
    "        kg.df.to_csv(f\"{outname}_courses.csv\", index=True)\n",
    "        kg.df.to_json(f\"{outname}_courses.json\", orient=\"index\", indent=4)\n",
    "    else:\n",
    "        pass\n",
    "\n",
    "    if not (os.path.exists(f\"{outname}_courses.lp\")):\n",
    "        process_course_data_clingo(\n",
    "            file_path=f\"{outname}_courses.json\", \n",
    "            output_file=f\"{outname}_courses.lp\"\n",
    "        )\n",
    "\n",
    "    # if not (os.path.exists(f\"{outname}_courses.ergo\")):\n",
    "    #     json_to_ergo(json_file=f\"{outname}_courses.json\")\n",
    "    # else:\n",
    "    #     continue"
   ]
  },
  {
   "cell_type": "code",
   "execution_count": 9,
   "metadata": {},
   "outputs": [],
   "source": [
    "# ! cp cse.ergo /Users/adebayobraimah/Desktop/projects/CSE505/ergo_test"
   ]
  },
  {
   "cell_type": "code",
   "execution_count": 10,
   "metadata": {},
   "outputs": [],
   "source": [
    "# kg = scrape_sbu_solar(url,major_three_letter_code='cse',wait_time=10,headless=True,verbose=True, output_filename='test.cse.json')\n",
    "# df = scrape_sbu_solar(url, major_three_letter_code=\"ams\", wait_time=10, headless=True, verbose=True)"
   ]
  },
  {
   "cell_type": "code",
   "execution_count": 11,
   "metadata": {},
   "outputs": [],
   "source": [
    "# ! cp 'test.cse.json' /Users/adebayobraimah/Desktop/projects/CSE505/ergo_test"
   ]
  },
  {
   "cell_type": "code",
   "execution_count": 12,
   "metadata": {},
   "outputs": [],
   "source": [
    "# kg = KnowledgeGraph(json='test.cse.json')"
   ]
  },
  {
   "cell_type": "code",
   "execution_count": 13,
   "metadata": {},
   "outputs": [],
   "source": [
    "# isinstance(kg, KnowledgeGraph)"
   ]
  },
  {
   "cell_type": "code",
   "execution_count": 14,
   "metadata": {},
   "outputs": [],
   "source": [
    "# jf = kg.json\n",
    "# jf"
   ]
  },
  {
   "cell_type": "code",
   "execution_count": 15,
   "metadata": {},
   "outputs": [],
   "source": [
    "# json_to_ergo(json_file=kg,output_file='cse.ergo')"
   ]
  },
  {
   "cell_type": "code",
   "execution_count": 16,
   "metadata": {},
   "outputs": [],
   "source": [
    "# ! cp cse.ergo /Users/adebayobraimah/Desktop/projects/CSE505/ergo_test"
   ]
  },
  {
   "cell_type": "code",
   "execution_count": 17,
   "metadata": {},
   "outputs": [],
   "source": [
    "# df = pd.DataFrame()\n",
    "# df['A'] = [1,2,3,4,5]"
   ]
  },
  {
   "cell_type": "code",
   "execution_count": 18,
   "metadata": {},
   "outputs": [],
   "source": [
    "# if len(df) == 0:\n",
    "#     print(\"empty\")"
   ]
  },
  {
   "cell_type": "code",
   "execution_count": 19,
   "metadata": {},
   "outputs": [],
   "source": [
    "# kg = KnowledgeGraph(df=df)"
   ]
  },
  {
   "cell_type": "code",
   "execution_count": 20,
   "metadata": {},
   "outputs": [],
   "source": [
    "# kg.json"
   ]
  },
  {
   "cell_type": "code",
   "execution_count": 21,
   "metadata": {},
   "outputs": [],
   "source": [
    "# df = pd.read_csv(\"cse.csv\")\n",
    "# df.drop(columns=[\"Description\",\n",
    "#             \"Academic Group\",\n",
    "#             \"Academic Organization\",\n",
    "#             \"Course Components\",\n",
    "#             \"Grading Basis\",], axis=1, inplace=True)\n",
    "# json_to_ergo(json_file=\"cse.json\")\n",
    "# ! cp cse.ergo /Users/adebayobraimah/Desktop/projects/CSE505/ergo_test"
   ]
  },
  {
   "cell_type": "code",
   "execution_count": 22,
   "metadata": {},
   "outputs": [],
   "source": [
    "# ! cp cse.ergo /Users/adebayobraimah/Desktop/projects/CSE505/ergo_test"
   ]
  },
  {
   "cell_type": "code",
   "execution_count": 23,
   "metadata": {},
   "outputs": [],
   "source": [
    "# df"
   ]
  },
  {
   "cell_type": "code",
   "execution_count": 24,
   "metadata": {},
   "outputs": [],
   "source": [
    "# df.to_csv(\"cse.csv\",index=True)\n",
    "# df.to_csv(\"ams.csv\",index=True)"
   ]
  },
  {
   "cell_type": "code",
   "execution_count": 25,
   "metadata": {},
   "outputs": [],
   "source": [
    "# df.to_json(\"cse.json\", orient=\"index\", indent=4)\n",
    "# df.to_json(\"ams.json\", orient=\"index\", indent=4)"
   ]
  },
  {
   "cell_type": "code",
   "execution_count": 26,
   "metadata": {},
   "outputs": [],
   "source": [
    "# json_to_ergo(json_file=\"cse.json\")\n",
    "# json_to_ergo(json_file=\"ams.json\")"
   ]
  },
  {
   "cell_type": "code",
   "execution_count": 27,
   "metadata": {},
   "outputs": [],
   "source": [
    "# time.sleep(10)\n",
    "\n",
    "# json_to_ergo(\n",
    "#     json_file=\"/Users/adebayobraimah/Desktop/projects/CSE505/src/notebooks/ergo_nbs/json_to_ergo/sample.json\",\n",
    "#     output_file=\"/Users/adebayobraimah/Desktop/projects/CSE505/ergo_test/sample.ergo\",\n",
    "# )"
   ]
  },
  {
   "cell_type": "code",
   "execution_count": 28,
   "metadata": {},
   "outputs": [],
   "source": [
    "# command = \"pip install selenium\""
   ]
  },
  {
   "cell_type": "code",
   "execution_count": 29,
   "metadata": {},
   "outputs": [],
   "source": [
    "# import shlex\n",
    "# import subprocess"
   ]
  },
  {
   "cell_type": "code",
   "execution_count": 30,
   "metadata": {},
   "outputs": [],
   "source": [
    "# command = shlex.split(command)\n",
    "# command"
   ]
  },
  {
   "cell_type": "code",
   "execution_count": 31,
   "metadata": {},
   "outputs": [],
   "source": [
    "# subprocess.run(command, check=True)"
   ]
  }
 ],
 "metadata": {
  "kernelspec": {
   "display_name": "Python 3",
   "language": "python",
   "name": "python3"
  },
  "language_info": {
   "codemirror_mode": {
    "name": "ipython",
    "version": 3
   },
   "file_extension": ".py",
   "mimetype": "text/x-python",
   "name": "python",
   "nbconvert_exporter": "python",
   "pygments_lexer": "ipython3",
   "version": "3.10.14"
  }
 },
 "nbformat": 4,
 "nbformat_minor": 2
}
