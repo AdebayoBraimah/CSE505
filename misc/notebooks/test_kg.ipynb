{
 "cells": [
  {
   "cell_type": "code",
   "execution_count": 1,
   "metadata": {},
   "outputs": [],
   "source": [
    "import os\n",
    "import sys\n",
    "import pandas as pd"
   ]
  },
  {
   "cell_type": "code",
   "execution_count": 2,
   "metadata": {},
   "outputs": [],
   "source": [
    "# Define constants\n",
    "ERGOROOT: str = (\n",
    "    \"/Users/adebayobraimah/bin/ErgoEngine-3.0_release/ErgoAI/Coherent/ERGOAI_3.0/ErgoAI\"\n",
    ")\n",
    "XSBARCHDIR: str = (\n",
    "    \"/Users/adebayobraimah/bin/ErgoEngine-3.0_release/ErgoAI/Coherent/ERGOAI_3.0/XSB/config/aarch64-apple-darwin22.6.0\"\n",
    ")"
   ]
  },
  {
   "cell_type": "code",
   "execution_count": 3,
   "metadata": {},
   "outputs": [],
   "source": [
    "_PKG_PATH = \"/Users/adebayobraimah/Desktop/projects/CSE505\""
   ]
  },
  {
   "cell_type": "code",
   "execution_count": 4,
   "metadata": {},
   "outputs": [],
   "source": [
    "sys.path.append(_PKG_PATH)"
   ]
  },
  {
   "cell_type": "code",
   "execution_count": 5,
   "metadata": {},
   "outputs": [],
   "source": [
    "# sys.path.append(ERGOROOT.replace(\"\\\\\", \"/\") + \"/python\")"
   ]
  },
  {
   "cell_type": "code",
   "execution_count": 6,
   "metadata": {},
   "outputs": [],
   "source": [
    "from src import RESROURCEDIR\n",
    "from src.kg.knowledge_graph import scrape_sbu_solar, KnowledgeGraph\n",
    "from src.ergoai.ergoai import json_to_ergo"
   ]
  },
  {
   "cell_type": "code",
   "execution_count": 7,
   "metadata": {},
   "outputs": [],
   "source": [
    "url = \"https://prod.ps.stonybrook.edu/psc/csprodg/EMPLOYEE/CAMP/c/COMMUNITY_ACCESS.SSS_BROWSE_CATLG.GBL?\""
   ]
  },
  {
   "cell_type": "code",
   "execution_count": 8,
   "metadata": {},
   "outputs": [
    {
     "name": "stdout",
     "output_type": "stream",
     "text": [
      "\n",
      "\n",
      "Scraping course information for CHE...\n",
      "\n",
      "Processing course: 115...\n",
      "Processing course: 129...\n",
      "Processing course: 130...\n",
      "Processing course: 131...\n",
      "Processing course: 132...\n",
      "Processing course: 133...\n",
      "Processing course: 134...\n",
      "Processing course: 152...\n",
      "Processing course: 154...\n",
      "Processing course: 301...\n",
      "Processing course: 302...\n",
      "Processing course: 303...\n",
      "Processing course: 304...\n",
      "Processing course: 310...\n",
      "Processing course: 312...\n",
      "Processing course: 321...\n",
      "Processing course: 322...\n",
      "Processing course: 327...\n",
      "Processing course: 328...\n",
      "Processing course: 331...\n",
      "Processing course: 332...\n",
      "Processing course: 345...\n",
      "Processing course: 346...\n",
      "Processing course: 348...\n",
      "Processing course: 351...\n",
      "Processing course: 353...\n",
      "Processing course: 357...\n",
      "Processing course: 358...\n",
      "Processing course: 361...\n",
      "Processing course: 362...\n",
      "Processing course: 375...\n",
      "Processing course: 376...\n",
      "Processing course: 378...\n",
      "Processing course: 379...\n",
      "Processing course: 383...\n",
      "Processing course: 384...\n",
      "Processing course: 385...\n",
      "Processing course: 444...\n",
      "Processing course: 459...\n",
      "Processing course: 461...\n",
      "Processing course: 475...\n",
      "Processing course: 476...\n",
      "Processing course: 477...\n",
      "Processing course: 487...\n",
      "Processing course: 488...\n",
      "Processing course: 495...\n",
      "Processing course: 496...\n",
      "Processing course: 501...\n",
      "Processing course: 502...\n",
      "Processing course: 503...\n",
      "Processing course: 504...\n",
      "Processing course: 511...\n",
      "Processing course: 514...\n",
      "Processing course: 515...\n",
      "Processing course: 516...\n",
      "Processing course: 517...\n",
      "Processing course: 518...\n",
      "Processing course: 519...\n",
      "Processing course: 521...\n",
      "Processing course: 522...\n",
      "Processing course: 523...\n",
      "Processing course: 524...\n",
      "Processing course: 525...\n",
      "Processing course: 528...\n",
      "Processing course: 529...\n",
      "Processing course: 530...\n",
      "Processing course: 534...\n",
      "Processing course: 535...\n",
      "Processing course: 536...\n",
      "Processing course: 541...\n",
      "Processing course: 542...\n",
      "Processing course: 543...\n",
      "Processing course: 558...\n",
      "Processing course: 559...\n",
      "Processing course: 581...\n",
      "Processing course: 582...\n",
      "Processing course: 586...\n",
      "Processing course: 588...\n",
      "Processing course: 589...\n",
      "Processing course: 590...\n",
      "Processing course: 591...\n",
      "Processing course: 593...\n",
      "Processing course: 596...\n",
      "Processing course: 597...\n",
      "Processing course: 598...\n",
      "Processing course: 599...\n",
      "Processing course: 602...\n",
      "Processing course: 603...\n",
      "Processing course: 606...\n",
      "Processing course: 607...\n",
      "Processing course: 610...\n",
      "Processing course: 611...\n",
      "Processing course: 619...\n",
      "Processing course: 625...\n",
      "Processing course: 641...\n",
      "Processing course: 682...\n",
      "Processing course: 683...\n",
      "Processing course: 690...\n",
      "Processing course: 693...\n",
      "Processing course: 694...\n",
      "Processing course: 695...\n",
      "Processing course: 696...\n",
      "Processing course: 697...\n",
      "Processing course: 698...\n",
      "Processing course: 699...\n",
      "Processing course: 700...\n",
      "Processing course: 701...\n",
      "Processing course: 800...\n"
     ]
    },
    {
     "ename": "",
     "evalue": "",
     "output_type": "error",
     "traceback": [
      "\u001b[1;31mThe Kernel crashed while executing code in the current cell or a previous cell. \n",
      "\u001b[1;31mPlease review the code in the cell(s) to identify a possible cause of the failure. \n",
      "\u001b[1;31mClick <a href='https://aka.ms/vscodeJupyterKernelCrash'>here</a> for more info. \n",
      "\u001b[1;31mView Jupyter <a href='command:jupyter.viewOutput'>log</a> for further details."
     ]
    }
   ],
   "source": [
    "# majors = (\"cse\",)\n",
    "# majors = (\"ams\",)\n",
    "# majors = (\"bio\",)\n",
    "# majors = (\"che\",)\n",
    "# majors = (\"phy\",)\n",
    "# majors = (\"ast\",)\n",
    "# majors = (\"geo\",)\n",
    "# majors = (\"mat\",) # BUG: Figure out why MAT is not working\n",
    "\n",
    "majors = (\n",
    "    \"cse\",\n",
    "    \"ams\",\n",
    "    \"bio\",\n",
    "    \"phy\",\n",
    "    \"ast\",\n",
    "    # \"mat\", # BUG: Figure out why MAT is not working\n",
    "    \"che\",\n",
    "    \"geo\",\n",
    ")\n",
    "\n",
    "for major in majors:\n",
    "    outname: str = os.path.join(RESROURCEDIR, f\"{major}\")\n",
    "\n",
    "    if not (os.path.exists(f\"{outname}_courses.json\")):\n",
    "        kg = scrape_sbu_solar(\n",
    "            url, major_three_letter_code=major, wait_time=10, headless=True, verbose=True\n",
    "        )\n",
    "        kg.df.to_csv(f\"{outname}_courses.csv\", index=True)\n",
    "        kg.df.to_json(f\"{outname}_courses.json\", orient=\"index\", indent=4)\n",
    "    else:\n",
    "        pass\n",
    "\n",
    "    # if not (os.path.exists(f\"{outname}_courses.ergo\")):\n",
    "    #     json_to_ergo(json_file=f\"{outname}_courses.json\")\n",
    "    # else:\n",
    "    #     continue"
   ]
  },
  {
   "cell_type": "code",
   "execution_count": null,
   "metadata": {},
   "outputs": [],
   "source": [
    "# ! cp cse.ergo /Users/adebayobraimah/Desktop/projects/CSE505/ergo_test"
   ]
  },
  {
   "cell_type": "code",
   "execution_count": null,
   "metadata": {},
   "outputs": [],
   "source": [
    "# kg = scrape_sbu_solar(url,major_three_letter_code='cse',wait_time=10,headless=True,verbose=True, output_filename='test.cse.json')\n",
    "# df = scrape_sbu_solar(url, major_three_letter_code=\"ams\", wait_time=10, headless=True, verbose=True)"
   ]
  },
  {
   "cell_type": "code",
   "execution_count": null,
   "metadata": {},
   "outputs": [],
   "source": [
    "# ! cp 'test.cse.json' /Users/adebayobraimah/Desktop/projects/CSE505/ergo_test"
   ]
  },
  {
   "cell_type": "code",
   "execution_count": null,
   "metadata": {},
   "outputs": [],
   "source": [
    "# kg = KnowledgeGraph(json='test.cse.json')"
   ]
  },
  {
   "cell_type": "code",
   "execution_count": null,
   "metadata": {},
   "outputs": [],
   "source": [
    "# isinstance(kg, KnowledgeGraph)"
   ]
  },
  {
   "cell_type": "code",
   "execution_count": null,
   "metadata": {},
   "outputs": [],
   "source": [
    "# jf = kg.json\n",
    "# jf"
   ]
  },
  {
   "cell_type": "code",
   "execution_count": null,
   "metadata": {},
   "outputs": [],
   "source": [
    "# json_to_ergo(json_file=kg,output_file='cse.ergo')"
   ]
  },
  {
   "cell_type": "code",
   "execution_count": null,
   "metadata": {},
   "outputs": [],
   "source": [
    "# ! cp cse.ergo /Users/adebayobraimah/Desktop/projects/CSE505/ergo_test"
   ]
  },
  {
   "cell_type": "code",
   "execution_count": null,
   "metadata": {},
   "outputs": [],
   "source": [
    "# df = pd.DataFrame()\n",
    "# df['A'] = [1,2,3,4,5]"
   ]
  },
  {
   "cell_type": "code",
   "execution_count": null,
   "metadata": {},
   "outputs": [],
   "source": [
    "# if len(df) == 0:\n",
    "#     print(\"empty\")"
   ]
  },
  {
   "cell_type": "code",
   "execution_count": null,
   "metadata": {},
   "outputs": [],
   "source": [
    "# kg = KnowledgeGraph(df=df)"
   ]
  },
  {
   "cell_type": "code",
   "execution_count": null,
   "metadata": {},
   "outputs": [],
   "source": [
    "# kg.json"
   ]
  },
  {
   "cell_type": "code",
   "execution_count": null,
   "metadata": {},
   "outputs": [],
   "source": [
    "# df = pd.read_csv(\"cse.csv\")\n",
    "# df.drop(columns=[\"Description\",\n",
    "#             \"Academic Group\",\n",
    "#             \"Academic Organization\",\n",
    "#             \"Course Components\",\n",
    "#             \"Grading Basis\",], axis=1, inplace=True)\n",
    "# json_to_ergo(json_file=\"cse.json\")\n",
    "# ! cp cse.ergo /Users/adebayobraimah/Desktop/projects/CSE505/ergo_test"
   ]
  },
  {
   "cell_type": "code",
   "execution_count": null,
   "metadata": {},
   "outputs": [],
   "source": [
    "# ! cp cse.ergo /Users/adebayobraimah/Desktop/projects/CSE505/ergo_test"
   ]
  },
  {
   "cell_type": "code",
   "execution_count": null,
   "metadata": {},
   "outputs": [],
   "source": [
    "# df"
   ]
  },
  {
   "cell_type": "code",
   "execution_count": null,
   "metadata": {},
   "outputs": [],
   "source": [
    "# df.to_csv(\"cse.csv\",index=True)\n",
    "# df.to_csv(\"ams.csv\",index=True)"
   ]
  },
  {
   "cell_type": "code",
   "execution_count": null,
   "metadata": {},
   "outputs": [],
   "source": [
    "# df.to_json(\"cse.json\", orient=\"index\", indent=4)\n",
    "# df.to_json(\"ams.json\", orient=\"index\", indent=4)"
   ]
  },
  {
   "cell_type": "code",
   "execution_count": null,
   "metadata": {},
   "outputs": [],
   "source": [
    "# json_to_ergo(json_file=\"cse.json\")\n",
    "# json_to_ergo(json_file=\"ams.json\")"
   ]
  },
  {
   "cell_type": "code",
   "execution_count": null,
   "metadata": {},
   "outputs": [],
   "source": [
    "# time.sleep(10)\n",
    "\n",
    "# json_to_ergo(\n",
    "#     json_file=\"/Users/adebayobraimah/Desktop/projects/CSE505/src/notebooks/ergo_nbs/json_to_ergo/sample.json\",\n",
    "#     output_file=\"/Users/adebayobraimah/Desktop/projects/CSE505/ergo_test/sample.ergo\",\n",
    "# )"
   ]
  },
  {
   "cell_type": "code",
   "execution_count": null,
   "metadata": {},
   "outputs": [],
   "source": [
    "# command = \"pip install selenium\""
   ]
  },
  {
   "cell_type": "code",
   "execution_count": null,
   "metadata": {},
   "outputs": [],
   "source": [
    "# import shlex\n",
    "# import subprocess"
   ]
  },
  {
   "cell_type": "code",
   "execution_count": null,
   "metadata": {},
   "outputs": [],
   "source": [
    "# command = shlex.split(command)\n",
    "# command"
   ]
  },
  {
   "cell_type": "code",
   "execution_count": null,
   "metadata": {},
   "outputs": [],
   "source": [
    "# subprocess.run(command, check=True)"
   ]
  },
  {
   "cell_type": "code",
   "execution_count": null,
   "metadata": {},
   "outputs": [],
   "source": []
  }
 ],
 "metadata": {
  "kernelspec": {
   "display_name": "Python 3",
   "language": "python",
   "name": "python3"
  },
  "language_info": {
   "codemirror_mode": {
    "name": "ipython",
    "version": 3
   },
   "file_extension": ".py",
   "mimetype": "text/x-python",
   "name": "python",
   "nbconvert_exporter": "python",
   "pygments_lexer": "ipython3",
   "version": "3.10.14"
  }
 },
 "nbformat": 4,
 "nbformat_minor": 2
}
