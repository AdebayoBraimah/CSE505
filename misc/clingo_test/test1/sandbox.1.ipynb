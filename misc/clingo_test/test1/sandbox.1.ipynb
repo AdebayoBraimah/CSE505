{
 "cells": [
  {
   "cell_type": "code",
   "execution_count": 1,
   "metadata": {},
   "outputs": [],
   "source": [
    "import os\n",
    "import sys"
   ]
  },
  {
   "cell_type": "code",
   "execution_count": 2,
   "metadata": {},
   "outputs": [],
   "source": [
    "import pandas as pd"
   ]
  },
  {
   "cell_type": "code",
   "execution_count": 3,
   "metadata": {},
   "outputs": [],
   "source": [
    "_PKG_PATH: str = \"/Users/adebayobraimah/Desktop/projects/CSE505\"\n",
    "sys.path.append(_PKG_PATH)"
   ]
  },
  {
   "cell_type": "code",
   "execution_count": 4,
   "metadata": {},
   "outputs": [],
   "source": [
    "# from src.clapi.clapi import _write_list_to_file, translate_range\n",
    "from src.clapi.clapi import process_course_data_clingo"
   ]
  },
  {
   "cell_type": "code",
   "execution_count": 5,
   "metadata": {},
   "outputs": [],
   "source": [
    "json_file = \"cse_courses.json\""
   ]
  },
  {
   "cell_type": "code",
   "execution_count": 6,
   "metadata": {},
   "outputs": [],
   "source": [
    "# df = pd.read_csv(\"cse_courses.csv\")"
   ]
  },
  {
   "cell_type": "code",
   "execution_count": 7,
   "metadata": {},
   "outputs": [],
   "source": [
    "# df"
   ]
  },
  {
   "cell_type": "code",
   "execution_count": 8,
   "metadata": {},
   "outputs": [],
   "source": [
    "# df[\"spring\"] = df[[\"spring1\", \"spring2\"]].max(axis=1)\n",
    "# df[\"fall\"] = df[[\"fall1\", \"fall2\"]].max(axis=1)"
   ]
  },
  {
   "cell_type": "code",
   "execution_count": 9,
   "metadata": {},
   "outputs": [],
   "source": [
    "# df.set_index(\n",
    "#     # \"Course Nbr\",\n",
    "#     \"CourseNumber\",\n",
    "#     inplace=True,\n",
    "#     drop=True,  # Drop the Index column\n",
    "# )"
   ]
  },
  {
   "cell_type": "code",
   "execution_count": 10,
   "metadata": {},
   "outputs": [],
   "source": [
    "# df.drop(\n",
    "#     [\n",
    "#         # \"Description\",\n",
    "#         # \"Academic Group\",\n",
    "#         # \"Academic Organization\",\n",
    "#         # \"Course Components\",\n",
    "#         # \"Grading Basis\",\n",
    "#         \"spring1\",\n",
    "#         \"fall1\",\n",
    "#         \"spring2\",\n",
    "#         \"fall2\",\n",
    "#     ],\n",
    "#     axis=1,\n",
    "#     inplace=True,\n",
    "# )\n",
    "\n",
    "# df"
   ]
  },
  {
   "cell_type": "code",
   "execution_count": 11,
   "metadata": {},
   "outputs": [],
   "source": [
    "# df.to_json(json_file, orient=\"index\", indent=4)"
   ]
  },
  {
   "cell_type": "code",
   "execution_count": 12,
   "metadata": {},
   "outputs": [
    {
     "name": "stdout",
     "output_type": "stream",
     "text": [
      "course_id: CSE101\n",
      "credits: 3.0\n"
     ]
    },
    {
     "ename": "IndexError",
     "evalue": "list index out of range",
     "output_type": "error",
     "traceback": [
      "\u001b[0;31m---------------------------------------------------------------------------\u001b[0m",
      "\u001b[0;31mIndexError\u001b[0m                                Traceback (most recent call last)",
      "Cell \u001b[0;32mIn[12], line 1\u001b[0m\n\u001b[0;32m----> 1\u001b[0m \u001b[43mprocess_course_data_clingo\u001b[49m\u001b[43m(\u001b[49m\u001b[43mjson_file\u001b[49m\u001b[43m,\u001b[49m\u001b[43m \u001b[49m\u001b[43mrepeatable_courses\u001b[49m\u001b[38;5;241;43m=\u001b[39;49m\u001b[38;5;28;43;01mNone\u001b[39;49;00m\u001b[43m)\u001b[49m\n",
      "File \u001b[0;32m~/Desktop/projects/CSE505/src/clapi/clapi.py:93\u001b[0m, in \u001b[0;36mprocess_course_data_clingo\u001b[0;34m(json_file, output_file, repeatable_courses)\u001b[0m\n\u001b[1;32m     87\u001b[0m \u001b[38;5;28mprint\u001b[39m(\u001b[38;5;124mf\u001b[39m\u001b[38;5;124m\"\u001b[39m\u001b[38;5;124mcourse_id: \u001b[39m\u001b[38;5;132;01m{\u001b[39;00mcourse_id\u001b[38;5;132;01m}\u001b[39;00m\u001b[38;5;124m\"\u001b[39m)\n\u001b[1;32m     88\u001b[0m \u001b[38;5;28mprint\u001b[39m(\u001b[38;5;124mf\u001b[39m\u001b[38;5;124m\"\u001b[39m\u001b[38;5;124mcredits: \u001b[39m\u001b[38;5;132;01m{\u001b[39;00mcourse_info\u001b[38;5;241m.\u001b[39mget(\u001b[38;5;124m'\u001b[39m\u001b[38;5;124mCredits\u001b[39m\u001b[38;5;124m'\u001b[39m)\u001b[38;5;132;01m}\u001b[39;00m\u001b[38;5;124m\"\u001b[39m)\n\u001b[1;32m     90\u001b[0m credits: Union[\u001b[38;5;28mfloat\u001b[39m, \u001b[38;5;28mint\u001b[39m] \u001b[38;5;241m=\u001b[39m (\n\u001b[1;32m     91\u001b[0m     \u001b[38;5;28mint\u001b[39m(course_info\u001b[38;5;241m.\u001b[39mget(\u001b[38;5;124m\"\u001b[39m\u001b[38;5;124mCredits\u001b[39m\u001b[38;5;124m\"\u001b[39m))\n\u001b[1;32m     92\u001b[0m     \u001b[38;5;28;01mif\u001b[39;00m \u001b[38;5;28misinstance\u001b[39m(course_info\u001b[38;5;241m.\u001b[39mget(\u001b[38;5;124m\"\u001b[39m\u001b[38;5;124mCredits\u001b[39m\u001b[38;5;124m\"\u001b[39m), (\u001b[38;5;28mfloat\u001b[39m, \u001b[38;5;28mint\u001b[39m))\n\u001b[0;32m---> 93\u001b[0m     \u001b[38;5;28;01melse\u001b[39;00m \u001b[43mtranslate_range\u001b[49m\u001b[43m(\u001b[49m\u001b[43mcourse_info\u001b[49m\u001b[38;5;241;43m.\u001b[39;49m\u001b[43mget\u001b[49m\u001b[43m(\u001b[49m\u001b[38;5;124;43m\"\u001b[39;49m\u001b[38;5;124;43mCredits\u001b[39;49m\u001b[38;5;124;43m\"\u001b[39;49m\u001b[43m)\u001b[49m\u001b[43m)\u001b[49m\n\u001b[1;32m     94\u001b[0m )\n\u001b[1;32m     96\u001b[0m career: \u001b[38;5;28mstr\u001b[39m \u001b[38;5;241m=\u001b[39m course_info\u001b[38;5;241m.\u001b[39mget(\u001b[38;5;124m\"\u001b[39m\u001b[38;5;124mCareer\u001b[39m\u001b[38;5;124m\"\u001b[39m)\n\u001b[1;32m     98\u001b[0m predicates\u001b[38;5;241m.\u001b[39mappend(\n\u001b[1;32m     99\u001b[0m     \u001b[38;5;66;03m# f'course({course_id.lower()}, {credits}, \"{career}\", {offered_spring1}, {offered_fall1}, {offered_spring2}, {offered_fall2}).'\u001b[39;00m\n\u001b[1;32m    100\u001b[0m     \u001b[38;5;124mf\u001b[39m\u001b[38;5;124m'\u001b[39m\u001b[38;5;124mcourse(\u001b[39m\u001b[38;5;132;01m{\u001b[39;00mcourse_id\u001b[38;5;241m.\u001b[39mlower()\u001b[38;5;132;01m}\u001b[39;00m\u001b[38;5;124m, \u001b[39m\u001b[38;5;132;01m{\u001b[39;00mcredits\u001b[38;5;132;01m}\u001b[39;00m\u001b[38;5;124m, \u001b[39m\u001b[38;5;124m\"\u001b[39m\u001b[38;5;132;01m{\u001b[39;00mcareer\u001b[38;5;132;01m}\u001b[39;00m\u001b[38;5;124m\"\u001b[39m\u001b[38;5;124m, \u001b[39m\u001b[38;5;132;01m{\u001b[39;00moffered_spring\u001b[38;5;132;01m}\u001b[39;00m\u001b[38;5;124m, \u001b[39m\u001b[38;5;132;01m{\u001b[39;00moffered_fall\u001b[38;5;132;01m}\u001b[39;00m\u001b[38;5;124m.\u001b[39m\u001b[38;5;124m'\u001b[39m\n\u001b[1;32m    101\u001b[0m )\n",
      "File \u001b[0;32m~/Desktop/projects/CSE505/src/clapi/clapi.py:188\u001b[0m, in \u001b[0;36mtranslate_range\u001b[0;34m(input_string)\u001b[0m\n\u001b[1;32m    186\u001b[0m \u001b[38;5;66;03m# Extract the integer part of each number by splitting on '.' and taking the first part\u001b[39;00m\n\u001b[1;32m    187\u001b[0m start \u001b[38;5;241m=\u001b[39m parts[\u001b[38;5;241m0\u001b[39m]\u001b[38;5;241m.\u001b[39msplit(\u001b[38;5;124m\"\u001b[39m\u001b[38;5;124m.\u001b[39m\u001b[38;5;124m\"\u001b[39m)[\u001b[38;5;241m0\u001b[39m]\n\u001b[0;32m--> 188\u001b[0m end \u001b[38;5;241m=\u001b[39m \u001b[43mparts\u001b[49m\u001b[43m[\u001b[49m\u001b[38;5;241;43m1\u001b[39;49m\u001b[43m]\u001b[49m\u001b[38;5;241m.\u001b[39msplit(\u001b[38;5;124m\"\u001b[39m\u001b[38;5;124m.\u001b[39m\u001b[38;5;124m\"\u001b[39m)[\u001b[38;5;241m0\u001b[39m]\n\u001b[1;32m    190\u001b[0m \u001b[38;5;66;03m# Concatenate with '..' for clingo\u001b[39;00m\n\u001b[1;32m    191\u001b[0m result \u001b[38;5;241m=\u001b[39m start \u001b[38;5;241m+\u001b[39m \u001b[38;5;124m\"\u001b[39m\u001b[38;5;124m..\u001b[39m\u001b[38;5;124m\"\u001b[39m \u001b[38;5;241m+\u001b[39m end\n",
      "\u001b[0;31mIndexError\u001b[0m: list index out of range"
     ]
    }
   ],
   "source": [
    "process_course_data_clingo(json_file, repeatable_courses=None)"
   ]
  },
  {
   "cell_type": "code",
   "execution_count": null,
   "metadata": {},
   "outputs": [],
   "source": []
  }
 ],
 "metadata": {
  "kernelspec": {
   "display_name": "Python 3",
   "language": "python",
   "name": "python3"
  },
  "language_info": {
   "codemirror_mode": {
    "name": "ipython",
    "version": 3
   },
   "file_extension": ".py",
   "mimetype": "text/x-python",
   "name": "python",
   "nbconvert_exporter": "python",
   "pygments_lexer": "ipython3",
   "version": "3.10.14"
  }
 },
 "nbformat": 4,
 "nbformat_minor": 2
}
